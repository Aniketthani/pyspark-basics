{
  "cells": [
    {
      "cell_type": "code",
      "execution_count": 2,
      "metadata": {
        "id": "iWMkGegEIw-p"
      },
      "outputs": [],
      "source": [
        "import pandas as pd\n",
        "import random\n",
        "import numpy as np"
      ]
    },
    {
      "cell_type": "markdown",
      "metadata": {
        "id": "32lIheJAIw-q"
      },
      "source": [
        "# 1. Simple Functions"
      ]
    },
    {
      "cell_type": "markdown",
      "metadata": {
        "id": "BCtCVFsOSv38"
      },
      "source": [
        "# Installing pyspark"
      ]
    },
    {
      "cell_type": "code",
      "execution_count": 1,
      "metadata": {
        "colab": {
          "base_uri": "https://localhost:8080/"
        },
        "id": "gnXNRTsRI0sd",
        "outputId": "6ad2e26d-5d01-4fdf-a0ef-82e9f03c34c2"
      },
      "outputs": [
        {
          "output_type": "stream",
          "name": "stdout",
          "text": [
            "Collecting pyspark\n",
            "  Downloading pyspark-3.2.1.tar.gz (281.4 MB)\n",
            "\u001b[K     |████████████████████████████████| 281.4 MB 28 kB/s \n",
            "\u001b[?25hCollecting py4j==0.10.9.3\n",
            "  Downloading py4j-0.10.9.3-py2.py3-none-any.whl (198 kB)\n",
            "\u001b[K     |████████████████████████████████| 198 kB 53.4 MB/s \n",
            "\u001b[?25hBuilding wheels for collected packages: pyspark\n",
            "  Building wheel for pyspark (setup.py) ... \u001b[?25l\u001b[?25hdone\n",
            "  Created wheel for pyspark: filename=pyspark-3.2.1-py2.py3-none-any.whl size=281853642 sha256=779387e62c3f5ab30a9c72ce9bdd9214bf7d54a8557706e98bdb82af3319e027\n",
            "  Stored in directory: /root/.cache/pip/wheels/9f/f5/07/7cd8017084dce4e93e84e92efd1e1d5334db05f2e83bcef74f\n",
            "Successfully built pyspark\n",
            "Installing collected packages: py4j, pyspark\n",
            "Successfully installed py4j-0.10.9.3 pyspark-3.2.1\n"
          ]
        }
      ],
      "source": [
        "!pip install pyspark"
      ]
    },
    {
      "cell_type": "markdown",
      "metadata": {
        "id": "85xn2m0HSv39"
      },
      "source": [
        "# Creating Spark Session"
      ]
    },
    {
      "cell_type": "code",
      "execution_count": 3,
      "metadata": {
        "id": "l9ajWjGnJB34"
      },
      "outputs": [],
      "source": [
        "from pyspark.sql import SparkSession"
      ]
    },
    {
      "cell_type": "code",
      "execution_count": 4,
      "metadata": {
        "id": "vHCNRxl1JIta"
      },
      "outputs": [],
      "source": [
        "spark=SparkSession.builder.appName('Dataframe').getOrCreate()"
      ]
    },
    {
      "cell_type": "code",
      "execution_count": 5,
      "metadata": {
        "colab": {
          "base_uri": "https://localhost:8080/",
          "height": 219
        },
        "id": "S0jv8xNzJO3r",
        "outputId": "82273df9-b5ed-46fe-faee-850f1b90ff4c"
      },
      "outputs": [
        {
          "output_type": "execute_result",
          "data": {
            "text/plain": [
              "<pyspark.sql.session.SparkSession at 0x7f226db67e90>"
            ],
            "text/html": [
              "\n",
              "            <div>\n",
              "                <p><b>SparkSession - in-memory</b></p>\n",
              "                \n",
              "        <div>\n",
              "            <p><b>SparkContext</b></p>\n",
              "\n",
              "            <p><a href=\"http://cddebc9e1e24:4040\">Spark UI</a></p>\n",
              "\n",
              "            <dl>\n",
              "              <dt>Version</dt>\n",
              "                <dd><code>v3.2.1</code></dd>\n",
              "              <dt>Master</dt>\n",
              "                <dd><code>local[*]</code></dd>\n",
              "              <dt>AppName</dt>\n",
              "                <dd><code>Dataframe</code></dd>\n",
              "            </dl>\n",
              "        </div>\n",
              "        \n",
              "            </div>\n",
              "        "
            ]
          },
          "metadata": {},
          "execution_count": 5
        }
      ],
      "source": [
        "spark"
      ]
    },
    {
      "cell_type": "markdown",
      "metadata": {
        "id": "fWCuJ8m6Iw-r"
      },
      "source": [
        "## Read Data"
      ]
    },
    {
      "cell_type": "code",
      "execution_count": 6,
      "metadata": {
        "id": "85n0DaB4Iw-s"
      },
      "outputs": [],
      "source": [
        "cases = spark.read.load(\"data/Case.csv\",format=\"csv\", sep=\",\", inferSchema=\"true\", header=\"true\")"
      ]
    },
    {
      "cell_type": "markdown",
      "metadata": {
        "id": "4at_NkHqIw-s"
      },
      "source": [
        "## Show Data"
      ]
    },
    {
      "cell_type": "code",
      "execution_count": 7,
      "metadata": {
        "colab": {
          "base_uri": "https://localhost:8080/"
        },
        "id": "Hnq9FUdSIw-s",
        "outputId": "9eec24d9-fc60-4639-d8d2-cc763a484d3d"
      },
      "outputs": [
        {
          "output_type": "stream",
          "name": "stdout",
          "text": [
            "+-------+--------+---------------+-----+--------------------+---------+---------+----------+\n",
            "|case_id|province|           city|group|      infection_case|confirmed| latitude| longitude|\n",
            "+-------+--------+---------------+-----+--------------------+---------+---------+----------+\n",
            "|1000001|   Seoul|     Yongsan-gu| true|       Itaewon Clubs|       72|37.538621|126.992652|\n",
            "|1000002|   Seoul|        Guro-gu| true| Guro-gu Call Center|       98|37.508163|126.884387|\n",
            "|1000003|   Seoul|  Dongdaemun-gu| true|       Dongan Church|       20|37.592888|127.056766|\n",
            "|1000004|   Seoul|        Guro-gu| true|Manmin Central Ch...|       41|37.481059|126.894343|\n",
            "|1000005|   Seoul|   Eunpyeong-gu| true|Eunpyeong St. Mar...|       14| 37.63369|  126.9165|\n",
            "|1000006|   Seoul|   Seongdong-gu| true|    Seongdong-gu APT|       13| 37.55713|  127.0403|\n",
            "|1000007|   Seoul|      Jongno-gu| true|Jongno Community ...|       10| 37.57681|   127.006|\n",
            "|1000008|   Seoul|        Jung-gu| true|Jung-gu Fashion C...|        7|37.562405|126.984377|\n",
            "|1000009|   Seoul|from other city| true|  Shincheonji Church|        8|        -|         -|\n",
            "|1000010|   Seoul|              -|false|     overseas inflow|      321|        -|         -|\n",
            "|1000011|   Seoul|              -|false|contact with patient|       18|        -|         -|\n",
            "|1000012|   Seoul|              -|false|                 etc|       24|        -|         -|\n",
            "|1100001|   Busan|     Dongnae-gu| true|       Onchun Church|       39| 35.21628|  129.0771|\n",
            "|1100002|   Busan|from other city| true|  Shincheonji Church|       12|        -|         -|\n",
            "|1100003|   Busan|     Suyeong-gu| true|Suyeong-gu Kinder...|        5| 35.16708|  129.1124|\n",
            "|1100004|   Busan|    Haeundae-gu| true|Haeundae-gu Catho...|        6| 35.20599|  129.1256|\n",
            "|1100005|   Busan|         Jin-gu| true|      Jin-gu Academy|        4| 35.17371|  129.0633|\n",
            "|1100006|   Busan|from other city| true|Cheongdo Daenam H...|        1|        -|         -|\n",
            "|1100007|   Busan|              -|false|     overseas inflow|       25|        -|         -|\n",
            "|1100008|   Busan|              -|false|contact with patient|       18|        -|         -|\n",
            "+-------+--------+---------------+-----+--------------------+---------+---------+----------+\n",
            "only showing top 20 rows\n",
            "\n"
          ]
        }
      ],
      "source": [
        "cases.show()"
      ]
    },
    {
      "cell_type": "markdown",
      "metadata": {
        "id": "u0NiDoDqSv3_"
      },
      "source": [
        "limit() method limits the result count to the specified number.\n",
        "\n",
        "toPandas() method Returns the contents of this DataFrame as Pandas pandas.DataFrame."
      ]
    },
    {
      "cell_type": "code",
      "execution_count": 8,
      "metadata": {
        "colab": {
          "base_uri": "https://localhost:8080/",
          "height": 363
        },
        "id": "P3ACV_EWIw-t",
        "outputId": "06ba829e-7013-4da8-aa05-6acc0dbaf82c"
      },
      "outputs": [
        {
          "output_type": "execute_result",
          "data": {
            "text/plain": [
              "   case_id province             city  group                 infection_case  \\\n",
              "0  1000001    Seoul       Yongsan-gu   True                  Itaewon Clubs   \n",
              "1  1000002    Seoul          Guro-gu   True            Guro-gu Call Center   \n",
              "2  1000003    Seoul    Dongdaemun-gu   True                  Dongan Church   \n",
              "3  1000004    Seoul          Guro-gu   True          Manmin Central Church   \n",
              "4  1000005    Seoul     Eunpyeong-gu   True  Eunpyeong St. Mary's Hospital   \n",
              "5  1000006    Seoul     Seongdong-gu   True               Seongdong-gu APT   \n",
              "6  1000007    Seoul        Jongno-gu   True        Jongno Community Center   \n",
              "7  1000008    Seoul          Jung-gu   True        Jung-gu Fashion Company   \n",
              "8  1000009    Seoul  from other city   True             Shincheonji Church   \n",
              "9  1000010    Seoul                -  False                overseas inflow   \n",
              "\n",
              "   confirmed   latitude   longitude  \n",
              "0         72  37.538621  126.992652  \n",
              "1         98  37.508163  126.884387  \n",
              "2         20  37.592888  127.056766  \n",
              "3         41  37.481059  126.894343  \n",
              "4         14   37.63369    126.9165  \n",
              "5         13   37.55713    127.0403  \n",
              "6         10   37.57681     127.006  \n",
              "7          7  37.562405  126.984377  \n",
              "8          8          -           -  \n",
              "9        321          -           -  "
            ],
            "text/html": [
              "\n",
              "  <div id=\"df-c864d60a-60d8-4333-ba68-20e7dc9c4c12\">\n",
              "    <div class=\"colab-df-container\">\n",
              "      <div>\n",
              "<style scoped>\n",
              "    .dataframe tbody tr th:only-of-type {\n",
              "        vertical-align: middle;\n",
              "    }\n",
              "\n",
              "    .dataframe tbody tr th {\n",
              "        vertical-align: top;\n",
              "    }\n",
              "\n",
              "    .dataframe thead th {\n",
              "        text-align: right;\n",
              "    }\n",
              "</style>\n",
              "<table border=\"1\" class=\"dataframe\">\n",
              "  <thead>\n",
              "    <tr style=\"text-align: right;\">\n",
              "      <th></th>\n",
              "      <th>case_id</th>\n",
              "      <th>province</th>\n",
              "      <th>city</th>\n",
              "      <th>group</th>\n",
              "      <th>infection_case</th>\n",
              "      <th>confirmed</th>\n",
              "      <th>latitude</th>\n",
              "      <th>longitude</th>\n",
              "    </tr>\n",
              "  </thead>\n",
              "  <tbody>\n",
              "    <tr>\n",
              "      <th>0</th>\n",
              "      <td>1000001</td>\n",
              "      <td>Seoul</td>\n",
              "      <td>Yongsan-gu</td>\n",
              "      <td>True</td>\n",
              "      <td>Itaewon Clubs</td>\n",
              "      <td>72</td>\n",
              "      <td>37.538621</td>\n",
              "      <td>126.992652</td>\n",
              "    </tr>\n",
              "    <tr>\n",
              "      <th>1</th>\n",
              "      <td>1000002</td>\n",
              "      <td>Seoul</td>\n",
              "      <td>Guro-gu</td>\n",
              "      <td>True</td>\n",
              "      <td>Guro-gu Call Center</td>\n",
              "      <td>98</td>\n",
              "      <td>37.508163</td>\n",
              "      <td>126.884387</td>\n",
              "    </tr>\n",
              "    <tr>\n",
              "      <th>2</th>\n",
              "      <td>1000003</td>\n",
              "      <td>Seoul</td>\n",
              "      <td>Dongdaemun-gu</td>\n",
              "      <td>True</td>\n",
              "      <td>Dongan Church</td>\n",
              "      <td>20</td>\n",
              "      <td>37.592888</td>\n",
              "      <td>127.056766</td>\n",
              "    </tr>\n",
              "    <tr>\n",
              "      <th>3</th>\n",
              "      <td>1000004</td>\n",
              "      <td>Seoul</td>\n",
              "      <td>Guro-gu</td>\n",
              "      <td>True</td>\n",
              "      <td>Manmin Central Church</td>\n",
              "      <td>41</td>\n",
              "      <td>37.481059</td>\n",
              "      <td>126.894343</td>\n",
              "    </tr>\n",
              "    <tr>\n",
              "      <th>4</th>\n",
              "      <td>1000005</td>\n",
              "      <td>Seoul</td>\n",
              "      <td>Eunpyeong-gu</td>\n",
              "      <td>True</td>\n",
              "      <td>Eunpyeong St. Mary's Hospital</td>\n",
              "      <td>14</td>\n",
              "      <td>37.63369</td>\n",
              "      <td>126.9165</td>\n",
              "    </tr>\n",
              "    <tr>\n",
              "      <th>5</th>\n",
              "      <td>1000006</td>\n",
              "      <td>Seoul</td>\n",
              "      <td>Seongdong-gu</td>\n",
              "      <td>True</td>\n",
              "      <td>Seongdong-gu APT</td>\n",
              "      <td>13</td>\n",
              "      <td>37.55713</td>\n",
              "      <td>127.0403</td>\n",
              "    </tr>\n",
              "    <tr>\n",
              "      <th>6</th>\n",
              "      <td>1000007</td>\n",
              "      <td>Seoul</td>\n",
              "      <td>Jongno-gu</td>\n",
              "      <td>True</td>\n",
              "      <td>Jongno Community Center</td>\n",
              "      <td>10</td>\n",
              "      <td>37.57681</td>\n",
              "      <td>127.006</td>\n",
              "    </tr>\n",
              "    <tr>\n",
              "      <th>7</th>\n",
              "      <td>1000008</td>\n",
              "      <td>Seoul</td>\n",
              "      <td>Jung-gu</td>\n",
              "      <td>True</td>\n",
              "      <td>Jung-gu Fashion Company</td>\n",
              "      <td>7</td>\n",
              "      <td>37.562405</td>\n",
              "      <td>126.984377</td>\n",
              "    </tr>\n",
              "    <tr>\n",
              "      <th>8</th>\n",
              "      <td>1000009</td>\n",
              "      <td>Seoul</td>\n",
              "      <td>from other city</td>\n",
              "      <td>True</td>\n",
              "      <td>Shincheonji Church</td>\n",
              "      <td>8</td>\n",
              "      <td>-</td>\n",
              "      <td>-</td>\n",
              "    </tr>\n",
              "    <tr>\n",
              "      <th>9</th>\n",
              "      <td>1000010</td>\n",
              "      <td>Seoul</td>\n",
              "      <td>-</td>\n",
              "      <td>False</td>\n",
              "      <td>overseas inflow</td>\n",
              "      <td>321</td>\n",
              "      <td>-</td>\n",
              "      <td>-</td>\n",
              "    </tr>\n",
              "  </tbody>\n",
              "</table>\n",
              "</div>\n",
              "      <button class=\"colab-df-convert\" onclick=\"convertToInteractive('df-c864d60a-60d8-4333-ba68-20e7dc9c4c12')\"\n",
              "              title=\"Convert this dataframe to an interactive table.\"\n",
              "              style=\"display:none;\">\n",
              "        \n",
              "  <svg xmlns=\"http://www.w3.org/2000/svg\" height=\"24px\"viewBox=\"0 0 24 24\"\n",
              "       width=\"24px\">\n",
              "    <path d=\"M0 0h24v24H0V0z\" fill=\"none\"/>\n",
              "    <path d=\"M18.56 5.44l.94 2.06.94-2.06 2.06-.94-2.06-.94-.94-2.06-.94 2.06-2.06.94zm-11 1L8.5 8.5l.94-2.06 2.06-.94-2.06-.94L8.5 2.5l-.94 2.06-2.06.94zm10 10l.94 2.06.94-2.06 2.06-.94-2.06-.94-.94-2.06-.94 2.06-2.06.94z\"/><path d=\"M17.41 7.96l-1.37-1.37c-.4-.4-.92-.59-1.43-.59-.52 0-1.04.2-1.43.59L10.3 9.45l-7.72 7.72c-.78.78-.78 2.05 0 2.83L4 21.41c.39.39.9.59 1.41.59.51 0 1.02-.2 1.41-.59l7.78-7.78 2.81-2.81c.8-.78.8-2.07 0-2.86zM5.41 20L4 18.59l7.72-7.72 1.47 1.35L5.41 20z\"/>\n",
              "  </svg>\n",
              "      </button>\n",
              "      \n",
              "  <style>\n",
              "    .colab-df-container {\n",
              "      display:flex;\n",
              "      flex-wrap:wrap;\n",
              "      gap: 12px;\n",
              "    }\n",
              "\n",
              "    .colab-df-convert {\n",
              "      background-color: #E8F0FE;\n",
              "      border: none;\n",
              "      border-radius: 50%;\n",
              "      cursor: pointer;\n",
              "      display: none;\n",
              "      fill: #1967D2;\n",
              "      height: 32px;\n",
              "      padding: 0 0 0 0;\n",
              "      width: 32px;\n",
              "    }\n",
              "\n",
              "    .colab-df-convert:hover {\n",
              "      background-color: #E2EBFA;\n",
              "      box-shadow: 0px 1px 2px rgba(60, 64, 67, 0.3), 0px 1px 3px 1px rgba(60, 64, 67, 0.15);\n",
              "      fill: #174EA6;\n",
              "    }\n",
              "\n",
              "    [theme=dark] .colab-df-convert {\n",
              "      background-color: #3B4455;\n",
              "      fill: #D2E3FC;\n",
              "    }\n",
              "\n",
              "    [theme=dark] .colab-df-convert:hover {\n",
              "      background-color: #434B5C;\n",
              "      box-shadow: 0px 1px 3px 1px rgba(0, 0, 0, 0.15);\n",
              "      filter: drop-shadow(0px 1px 2px rgba(0, 0, 0, 0.3));\n",
              "      fill: #FFFFFF;\n",
              "    }\n",
              "  </style>\n",
              "\n",
              "      <script>\n",
              "        const buttonEl =\n",
              "          document.querySelector('#df-c864d60a-60d8-4333-ba68-20e7dc9c4c12 button.colab-df-convert');\n",
              "        buttonEl.style.display =\n",
              "          google.colab.kernel.accessAllowed ? 'block' : 'none';\n",
              "\n",
              "        async function convertToInteractive(key) {\n",
              "          const element = document.querySelector('#df-c864d60a-60d8-4333-ba68-20e7dc9c4c12');\n",
              "          const dataTable =\n",
              "            await google.colab.kernel.invokeFunction('convertToInteractive',\n",
              "                                                     [key], {});\n",
              "          if (!dataTable) return;\n",
              "\n",
              "          const docLinkHtml = 'Like what you see? Visit the ' +\n",
              "            '<a target=\"_blank\" href=https://colab.research.google.com/notebooks/data_table.ipynb>data table notebook</a>'\n",
              "            + ' to learn more about interactive tables.';\n",
              "          element.innerHTML = '';\n",
              "          dataTable['output_type'] = 'display_data';\n",
              "          await google.colab.output.renderOutput(dataTable, element);\n",
              "          const docLink = document.createElement('div');\n",
              "          docLink.innerHTML = docLinkHtml;\n",
              "          element.appendChild(docLink);\n",
              "        }\n",
              "      </script>\n",
              "    </div>\n",
              "  </div>\n",
              "  "
            ]
          },
          "metadata": {},
          "execution_count": 8
        }
      ],
      "source": [
        "cases.limit(10).toPandas()"
      ]
    },
    {
      "cell_type": "markdown",
      "metadata": {
        "id": "0c6NgNOfIw-t"
      },
      "source": [
        "## Change Column Names"
      ]
    },
    {
      "cell_type": "markdown",
      "metadata": {
        "id": "6u_nsLVjSv4A"
      },
      "source": [
        "withColumnRenamed(existing, new) Returns a new DataFrame by renaming an existing column. This is a no-op if schema doesn’t contain the given column name."
      ]
    },
    {
      "cell_type": "code",
      "execution_count": 9,
      "metadata": {
        "id": "Ao7u1HtpIw-t"
      },
      "outputs": [],
      "source": [
        "cases = cases.withColumnRenamed(\"infection_case\",\"infection_source\")"
      ]
    },
    {
      "cell_type": "markdown",
      "metadata": {
        "id": "Yci7HRFVSv4H"
      },
      "source": [
        "toDF(*cols) Returns a new DataFrame that with new specified column names"
      ]
    },
    {
      "cell_type": "code",
      "execution_count": 10,
      "metadata": {
        "id": "k2-Yv9SwIw-u"
      },
      "outputs": [],
      "source": [
        "cases = cases.toDF(*['case_id', 'province', 'city', 'group', 'infection_case', 'confirmed',\n",
        "       'latitude', 'longitude'])"
      ]
    },
    {
      "cell_type": "markdown",
      "metadata": {
        "id": "-CV_Kdv5Iw-u"
      },
      "source": [
        "## Select Columns"
      ]
    },
    {
      "cell_type": "markdown",
      "metadata": {
        "id": "EqQ6ilQ2Sv4I"
      },
      "source": [
        "select(*cols) Projects a set of expressions and returns a new DataFrame."
      ]
    },
    {
      "cell_type": "code",
      "execution_count": 11,
      "metadata": {
        "id": "ihxVeXywIw-u"
      },
      "outputs": [],
      "source": [
        "cases = cases.select('province','city','infection_case','confirmed')"
      ]
    },
    {
      "cell_type": "code",
      "execution_count": 12,
      "metadata": {
        "colab": {
          "base_uri": "https://localhost:8080/"
        },
        "id": "i-0TgEhgIw-u",
        "outputId": "77d6c562-2086-4ae1-9557-79e06c254935"
      },
      "outputs": [
        {
          "output_type": "stream",
          "name": "stdout",
          "text": [
            "+--------+---------------+--------------------+---------+\n",
            "|province|           city|      infection_case|confirmed|\n",
            "+--------+---------------+--------------------+---------+\n",
            "|   Seoul|     Yongsan-gu|       Itaewon Clubs|       72|\n",
            "|   Seoul|        Guro-gu| Guro-gu Call Center|       98|\n",
            "|   Seoul|  Dongdaemun-gu|       Dongan Church|       20|\n",
            "|   Seoul|        Guro-gu|Manmin Central Ch...|       41|\n",
            "|   Seoul|   Eunpyeong-gu|Eunpyeong St. Mar...|       14|\n",
            "|   Seoul|   Seongdong-gu|    Seongdong-gu APT|       13|\n",
            "|   Seoul|      Jongno-gu|Jongno Community ...|       10|\n",
            "|   Seoul|        Jung-gu|Jung-gu Fashion C...|        7|\n",
            "|   Seoul|from other city|  Shincheonji Church|        8|\n",
            "|   Seoul|              -|     overseas inflow|      321|\n",
            "|   Seoul|              -|contact with patient|       18|\n",
            "|   Seoul|              -|                 etc|       24|\n",
            "|   Busan|     Dongnae-gu|       Onchun Church|       39|\n",
            "|   Busan|from other city|  Shincheonji Church|       12|\n",
            "|   Busan|     Suyeong-gu|Suyeong-gu Kinder...|        5|\n",
            "|   Busan|    Haeundae-gu|Haeundae-gu Catho...|        6|\n",
            "|   Busan|         Jin-gu|      Jin-gu Academy|        4|\n",
            "|   Busan|from other city|Cheongdo Daenam H...|        1|\n",
            "|   Busan|              -|     overseas inflow|       25|\n",
            "|   Busan|              -|contact with patient|       18|\n",
            "+--------+---------------+--------------------+---------+\n",
            "only showing top 20 rows\n",
            "\n"
          ]
        }
      ],
      "source": [
        "cases.show()"
      ]
    },
    {
      "cell_type": "markdown",
      "metadata": {
        "id": "IjHKyupYIw-v"
      },
      "source": [
        "## Sort"
      ]
    },
    {
      "cell_type": "markdown",
      "metadata": {
        "id": "z_LXtqCcSv4J"
      },
      "source": [
        "DataFrame.sort(*cols, **kwargs) Returns a new DataFrame sorted by the specified column(s)."
      ]
    },
    {
      "cell_type": "code",
      "execution_count": 13,
      "metadata": {
        "colab": {
          "base_uri": "https://localhost:8080/"
        },
        "id": "QUMfTRRsIw-v",
        "outputId": "78a26155-16e6-460e-fd8d-406537d72006"
      },
      "outputs": [
        {
          "output_type": "stream",
          "name": "stdout",
          "text": [
            "+-----------------+---------------+--------------------+---------+\n",
            "|         province|           city|      infection_case|confirmed|\n",
            "+-----------------+---------------+--------------------+---------+\n",
            "|          Jeju-do|              -|contact with patient|        0|\n",
            "|       Gangwon-do|              -|contact with patient|        0|\n",
            "|          Gwangju|              -|                 etc|        0|\n",
            "|            Busan|from other city|Cheongdo Daenam H...|        1|\n",
            "|          Gwangju|              -|contact with patient|        1|\n",
            "|          Jeju-do|from other city|       Itaewon Clubs|        1|\n",
            "|           Sejong|from other city|  Shincheonji Church|        1|\n",
            "|           Sejong|              -|                 etc|        1|\n",
            "|Chungcheongnam-do|              -|contact with patient|        1|\n",
            "|     Jeollabuk-do|from other city|  Shincheonji Church|        1|\n",
            "|     Jeollanam-do|from other city|  Shincheonji Church|        1|\n",
            "|          Incheon|from other city|  Shincheonji Church|        2|\n",
            "|     Jeollanam-do|       Muan-gun|Manmin Central Ch...|        2|\n",
            "|          Daejeon|from other city|  Shincheonji Church|        2|\n",
            "|     Jeollanam-do|              -|contact with patient|        2|\n",
            "|            Daegu|from other city|Cheongdo Daenam H...|        2|\n",
            "|          Daejeon|from other city|Seosan-si Laboratory|        2|\n",
            "| Gyeongsangnam-do|from other city|       Onchun Church|        2|\n",
            "|          Daejeon|         Seo-gu|Korea Forest Engi...|        3|\n",
            "|           Sejong|              -|     overseas inflow|        3|\n",
            "+-----------------+---------------+--------------------+---------+\n",
            "only showing top 20 rows\n",
            "\n"
          ]
        }
      ],
      "source": [
        "cases.sort(\"confirmed\").show()"
      ]
    },
    {
      "cell_type": "markdown",
      "metadata": {
        "id": "zCE3YKbxSv4J"
      },
      "source": [
        " pyspark.sql.functions.desc(col) Returns a sort expression based on the descending order of the given column name."
      ]
    },
    {
      "cell_type": "code",
      "execution_count": 14,
      "metadata": {
        "colab": {
          "base_uri": "https://localhost:8080/"
        },
        "id": "b7mdgueUIw-v",
        "outputId": "c2773a26-e0fd-4d4f-a604-4abc36405ef2"
      },
      "outputs": [
        {
          "output_type": "stream",
          "name": "stdout",
          "text": [
            "+-----------------+---------------+--------------------+---------+\n",
            "|         province|           city|      infection_case|confirmed|\n",
            "+-----------------+---------------+--------------------+---------+\n",
            "|            Daegu|         Nam-gu|  Shincheonji Church|     4510|\n",
            "|            Daegu|              -|contact with patient|      929|\n",
            "|            Daegu|              -|                 etc|      724|\n",
            "| Gyeongsangbuk-do|from other city|  Shincheonji Church|      566|\n",
            "|            Seoul|              -|     overseas inflow|      321|\n",
            "|      Gyeonggi-do|              -|     overseas inflow|      225|\n",
            "|            Daegu|   Dalseong-gun|Second Mi-Ju Hosp...|      196|\n",
            "| Gyeongsangbuk-do|              -|contact with patient|      192|\n",
            "| Gyeongsangbuk-do|              -|                 etc|      134|\n",
            "|            Daegu|         Seo-gu|Hansarang Convale...|      128|\n",
            "| Gyeongsangbuk-do|   Cheongdo-gun|Cheongdo Daenam H...|      120|\n",
            "|Chungcheongnam-do|     Cheonan-si|gym facility in C...|      103|\n",
            "|            Daegu|   Dalseong-gun|Daesil Convalesce...|      100|\n",
            "|            Seoul|        Guro-gu| Guro-gu Call Center|       98|\n",
            "|            Seoul|     Yongsan-gu|       Itaewon Clubs|       72|\n",
            "|      Gyeonggi-do|    Seongnam-si|River of Grace Co...|       72|\n",
            "| Gyeongsangbuk-do|    Bonghwa-gun|Bonghwa Pureun Nu...|       68|\n",
            "| Gyeongsangbuk-do|   Gyeongsan-si|Gyeongsan Seorin ...|       66|\n",
            "|      Gyeonggi-do|              -|contact with patient|       57|\n",
            "|      Gyeonggi-do|   Uijeongbu-si|Uijeongbu St. Mar...|       50|\n",
            "+-----------------+---------------+--------------------+---------+\n",
            "only showing top 20 rows\n",
            "\n"
          ]
        }
      ],
      "source": [
        "# descending Sort\n",
        "from pyspark.sql import functions as F\n",
        "cases.sort(F.desc(\"confirmed\")).show()"
      ]
    },
    {
      "cell_type": "markdown",
      "metadata": {
        "id": "hXVU6Dr_Iw-v"
      },
      "source": [
        "## Type Casting"
      ]
    },
    {
      "cell_type": "code",
      "execution_count": 15,
      "metadata": {
        "id": "U8ns4izbIw-w"
      },
      "outputs": [],
      "source": [
        "from pyspark.sql.types import IntegerType, StringType, DoubleType"
      ]
    },
    {
      "cell_type": "code",
      "execution_count": 16,
      "metadata": {
        "id": "PXsAYln9Iw-w"
      },
      "outputs": [],
      "source": [
        "cases = cases.withColumn('confirmed', F.col('confirmed').cast(IntegerType()))\n",
        "cases = cases.withColumn('city', F.col('city').cast(StringType()))"
      ]
    },
    {
      "cell_type": "markdown",
      "metadata": {
        "id": "6PuPMg-fIw-w"
      },
      "source": [
        "## Filter"
      ]
    },
    {
      "cell_type": "markdown",
      "metadata": {
        "id": "vKub1q1mSv4K"
      },
      "source": [
        "getting the  records where cases confirmed are more than 10 and province is Daegu"
      ]
    },
    {
      "cell_type": "code",
      "execution_count": 17,
      "metadata": {
        "colab": {
          "base_uri": "https://localhost:8080/"
        },
        "id": "eahm1MrWIw-w",
        "outputId": "081b0577-1228-4ad3-8371-aa2bf1e9e287"
      },
      "outputs": [
        {
          "output_type": "stream",
          "name": "stdout",
          "text": [
            "+--------+------------+--------------------+---------+\n",
            "|province|        city|      infection_case|confirmed|\n",
            "+--------+------------+--------------------+---------+\n",
            "|   Daegu|      Nam-gu|  Shincheonji Church|     4510|\n",
            "|   Daegu|Dalseong-gun|Second Mi-Ju Hosp...|      196|\n",
            "|   Daegu|      Seo-gu|Hansarang Convale...|      128|\n",
            "|   Daegu|Dalseong-gun|Daesil Convalesce...|      100|\n",
            "|   Daegu|     Dong-gu|     Fatima Hospital|       37|\n",
            "|   Daegu|           -|     overseas inflow|       24|\n",
            "|   Daegu|           -|contact with patient|      929|\n",
            "|   Daegu|           -|                 etc|      724|\n",
            "+--------+------------+--------------------+---------+\n",
            "\n"
          ]
        }
      ],
      "source": [
        "cases.filter((cases.confirmed>10) & (cases.province=='Daegu')).show()"
      ]
    },
    {
      "cell_type": "markdown",
      "metadata": {
        "id": "wxLhD84hIw-w"
      },
      "source": [
        "## GroupBy"
      ]
    },
    {
      "cell_type": "markdown",
      "metadata": {
        "id": "49Mo4beZSv4K"
      },
      "source": [
        "group by province and city and then calculate two aggregates : one for sum and one for max on confirmed cases"
      ]
    },
    {
      "cell_type": "code",
      "execution_count": 18,
      "metadata": {
        "colab": {
          "base_uri": "https://localhost:8080/"
        },
        "id": "BJnQaHSYIw-x",
        "outputId": "51ac24ba-0825-422c-fc8a-c3ea002c7a0d"
      },
      "outputs": [
        {
          "output_type": "stream",
          "name": "stdout",
          "text": [
            "+----------------+---------------+--------------+--------------+\n",
            "|        province|           city|sum(confirmed)|max(confirmed)|\n",
            "+----------------+---------------+--------------+--------------+\n",
            "|Gyeongsangnam-do|       Jinju-si|            10|            10|\n",
            "|           Seoul|        Guro-gu|           139|            98|\n",
            "|         Daejeon|              -|            27|            10|\n",
            "|    Jeollabuk-do|from other city|             1|             1|\n",
            "|Gyeongsangnam-do|Changnyeong-gun|             7|             7|\n",
            "|           Seoul|              -|           363|           321|\n",
            "|         Jeju-do|from other city|             1|             1|\n",
            "|Gyeongsangbuk-do|              -|           336|           192|\n",
            "|Gyeongsangnam-do|   Geochang-gun|            18|            10|\n",
            "|         Incheon|from other city|            22|            20|\n",
            "|           Busan|              -|            72|            29|\n",
            "|           Daegu|         Seo-gu|           128|           128|\n",
            "|           Busan|     Suyeong-gu|             5|             5|\n",
            "|     Gyeonggi-do|   Uijeongbu-si|            50|            50|\n",
            "|           Seoul|     Yongsan-gu|            72|            72|\n",
            "|           Daegu|              -|          1677|           929|\n",
            "|     Gyeonggi-do|    Seongnam-si|            94|            72|\n",
            "|Gyeongsangnam-do|from other city|            34|            32|\n",
            "|     Gyeonggi-do|       Suwon-si|            10|            10|\n",
            "|         Daejeon|from other city|             4|             2|\n",
            "+----------------+---------------+--------------+--------------+\n",
            "only showing top 20 rows\n",
            "\n"
          ]
        }
      ],
      "source": [
        "from pyspark.sql import functions as F\n",
        "\n",
        "cases.groupBy([\"province\",\"city\"]).agg(F.sum(\"confirmed\") ,F.max(\"confirmed\")).show()"
      ]
    },
    {
      "cell_type": "markdown",
      "metadata": {
        "id": "WRH-G5h3Sv4L"
      },
      "source": [
        "Column.alias(*alias, **kwargs) Returns this column aliased with a new name or names\n",
        "\n",
        "Here grouping by province and city and calculating the same aggregates but with new names"
      ]
    },
    {
      "cell_type": "code",
      "execution_count": 19,
      "metadata": {
        "colab": {
          "base_uri": "https://localhost:8080/"
        },
        "id": "b9MCiiUwIw-x",
        "outputId": "9a3b587e-f48b-48ba-be3c-3fa2853a8fe9"
      },
      "outputs": [
        {
          "output_type": "stream",
          "name": "stdout",
          "text": [
            "+----------------+---------------+--------------+-----------------------+\n",
            "|        province|           city|TotalConfirmed|MaxFromOneConfirmedCase|\n",
            "+----------------+---------------+--------------+-----------------------+\n",
            "|Gyeongsangnam-do|       Jinju-si|            10|                     10|\n",
            "|           Seoul|        Guro-gu|           139|                     98|\n",
            "|         Daejeon|              -|            27|                     10|\n",
            "|    Jeollabuk-do|from other city|             1|                      1|\n",
            "|Gyeongsangnam-do|Changnyeong-gun|             7|                      7|\n",
            "|           Seoul|              -|           363|                    321|\n",
            "|         Jeju-do|from other city|             1|                      1|\n",
            "|Gyeongsangbuk-do|              -|           336|                    192|\n",
            "|Gyeongsangnam-do|   Geochang-gun|            18|                     10|\n",
            "|         Incheon|from other city|            22|                     20|\n",
            "|           Busan|              -|            72|                     29|\n",
            "|           Daegu|         Seo-gu|           128|                    128|\n",
            "|           Busan|     Suyeong-gu|             5|                      5|\n",
            "|     Gyeonggi-do|   Uijeongbu-si|            50|                     50|\n",
            "|           Seoul|     Yongsan-gu|            72|                     72|\n",
            "|           Daegu|              -|          1677|                    929|\n",
            "|     Gyeonggi-do|    Seongnam-si|            94|                     72|\n",
            "|Gyeongsangnam-do|from other city|            34|                     32|\n",
            "|     Gyeonggi-do|       Suwon-si|            10|                     10|\n",
            "|         Daejeon|from other city|             4|                      2|\n",
            "+----------------+---------------+--------------+-----------------------+\n",
            "only showing top 20 rows\n",
            "\n"
          ]
        }
      ],
      "source": [
        "cases.groupBy([\"province\",\"city\"]).agg(F.sum(\"confirmed\").alias(\"TotalConfirmed\"),F.max(\"confirmed\").alias(\"MaxFromOneConfirmedCase\")).show()"
      ]
    },
    {
      "cell_type": "code",
      "execution_count": 20,
      "metadata": {
        "colab": {
          "base_uri": "https://localhost:8080/"
        },
        "id": "4QprPgKdIw-x",
        "outputId": "2201b3c3-ede5-4f43-c67c-c6dec566fb65"
      },
      "outputs": [
        {
          "output_type": "stream",
          "name": "stdout",
          "text": [
            "+----------------+---------------+--------------+-----------------------+\n",
            "|        province|           city|TotalConfirmed|MaxFromOneConfirmedCase|\n",
            "+----------------+---------------+--------------+-----------------------+\n",
            "|Gyeongsangnam-do|       Jinju-si|            10|                     10|\n",
            "|           Seoul|        Guro-gu|           139|                     98|\n",
            "|         Daejeon|              -|            27|                     10|\n",
            "|    Jeollabuk-do|from other city|             1|                      1|\n",
            "|Gyeongsangnam-do|Changnyeong-gun|             7|                      7|\n",
            "|           Seoul|              -|           363|                    321|\n",
            "|         Jeju-do|from other city|             1|                      1|\n",
            "|Gyeongsangbuk-do|              -|           336|                    192|\n",
            "|Gyeongsangnam-do|   Geochang-gun|            18|                     10|\n",
            "|         Incheon|from other city|            22|                     20|\n",
            "|           Busan|              -|            72|                     29|\n",
            "|           Daegu|         Seo-gu|           128|                    128|\n",
            "|           Busan|     Suyeong-gu|             5|                      5|\n",
            "|     Gyeonggi-do|   Uijeongbu-si|            50|                     50|\n",
            "|           Seoul|     Yongsan-gu|            72|                     72|\n",
            "|           Daegu|              -|          1677|                    929|\n",
            "|     Gyeonggi-do|    Seongnam-si|            94|                     72|\n",
            "|Gyeongsangnam-do|from other city|            34|                     32|\n",
            "|     Gyeonggi-do|       Suwon-si|            10|                     10|\n",
            "|         Daejeon|from other city|             4|                      2|\n",
            "+----------------+---------------+--------------+-----------------------+\n",
            "only showing top 20 rows\n",
            "\n"
          ]
        }
      ],
      "source": [
        "cases.groupBy([\"province\",\"city\"]).agg(\n",
        "    F.sum(\"confirmed\").alias(\"TotalConfirmed\"),\\\n",
        "    F.max(\"confirmed\").alias(\"MaxFromOneConfirmedCase\")\\\n",
        "    ).show()"
      ]
    },
    {
      "cell_type": "markdown",
      "metadata": {
        "id": "z-VmKgRYIw-y"
      },
      "source": [
        "## Joins"
      ]
    },
    {
      "cell_type": "code",
      "execution_count": 21,
      "metadata": {
        "id": "a1gMb4HHSv4M"
      },
      "outputs": [],
      "source": [
        "#loading the Regions data"
      ]
    },
    {
      "cell_type": "code",
      "execution_count": 22,
      "metadata": {
        "colab": {
          "base_uri": "https://localhost:8080/",
          "height": 479
        },
        "id": "FHCHTDBcIw-y",
        "outputId": "a9fddd3b-0ce2-41d9-871a-5c5714dbbb8d"
      },
      "outputs": [
        {
          "output_type": "execute_result",
          "data": {
            "text/plain": [
              "    code province          city   latitude   longitude  \\\n",
              "0  10000    Seoul         Seoul  37.566953  126.977977   \n",
              "1  10010    Seoul    Gangnam-gu  37.518421  127.047222   \n",
              "2  10020    Seoul   Gangdong-gu  37.530492  127.123837   \n",
              "3  10030    Seoul    Gangbuk-gu  37.639938  127.025508   \n",
              "4  10040    Seoul    Gangseo-gu  37.551166  126.849506   \n",
              "5  10050    Seoul     Gwanak-gu  37.478290  126.951502   \n",
              "6  10060    Seoul   Gwangjin-gu  37.538712  127.082366   \n",
              "7  10070    Seoul       Guro-gu  37.495632  126.887650   \n",
              "8  10080    Seoul  Geumcheon-gu  37.456852  126.895229   \n",
              "9  10090    Seoul      Nowon-gu  37.654259  127.056294   \n",
              "\n",
              "   elementary_school_count  kindergarten_count  university_count  \\\n",
              "0                      607                 830                48   \n",
              "1                       33                  38                 0   \n",
              "2                       27                  32                 0   \n",
              "3                       14                  21                 0   \n",
              "4                       36                  56                 1   \n",
              "5                       22                  33                 1   \n",
              "6                       22                  33                 3   \n",
              "7                       26                  34                 3   \n",
              "8                       18                  19                 0   \n",
              "9                       42                  66                 6   \n",
              "\n",
              "   academy_ratio  elderly_population_ratio  elderly_alone_ratio  \\\n",
              "0           1.44                     15.38                  5.8   \n",
              "1           4.18                     13.17                  4.3   \n",
              "2           1.54                     14.55                  5.4   \n",
              "3           0.67                     19.49                  8.5   \n",
              "4           1.17                     14.39                  5.7   \n",
              "5           0.89                     15.12                  4.9   \n",
              "6           1.16                     13.75                  4.8   \n",
              "7           1.00                     16.21                  5.7   \n",
              "8           0.96                     16.15                  6.7   \n",
              "9           1.39                     15.40                  7.4   \n",
              "\n",
              "   nursing_home_count  \n",
              "0               22739  \n",
              "1                3088  \n",
              "2                1023  \n",
              "3                 628  \n",
              "4                1080  \n",
              "5                 909  \n",
              "6                 723  \n",
              "7                 741  \n",
              "8                 475  \n",
              "9                 952  "
            ],
            "text/html": [
              "\n",
              "  <div id=\"df-cbec339e-393e-414e-ac1c-57f66f76d8bd\">\n",
              "    <div class=\"colab-df-container\">\n",
              "      <div>\n",
              "<style scoped>\n",
              "    .dataframe tbody tr th:only-of-type {\n",
              "        vertical-align: middle;\n",
              "    }\n",
              "\n",
              "    .dataframe tbody tr th {\n",
              "        vertical-align: top;\n",
              "    }\n",
              "\n",
              "    .dataframe thead th {\n",
              "        text-align: right;\n",
              "    }\n",
              "</style>\n",
              "<table border=\"1\" class=\"dataframe\">\n",
              "  <thead>\n",
              "    <tr style=\"text-align: right;\">\n",
              "      <th></th>\n",
              "      <th>code</th>\n",
              "      <th>province</th>\n",
              "      <th>city</th>\n",
              "      <th>latitude</th>\n",
              "      <th>longitude</th>\n",
              "      <th>elementary_school_count</th>\n",
              "      <th>kindergarten_count</th>\n",
              "      <th>university_count</th>\n",
              "      <th>academy_ratio</th>\n",
              "      <th>elderly_population_ratio</th>\n",
              "      <th>elderly_alone_ratio</th>\n",
              "      <th>nursing_home_count</th>\n",
              "    </tr>\n",
              "  </thead>\n",
              "  <tbody>\n",
              "    <tr>\n",
              "      <th>0</th>\n",
              "      <td>10000</td>\n",
              "      <td>Seoul</td>\n",
              "      <td>Seoul</td>\n",
              "      <td>37.566953</td>\n",
              "      <td>126.977977</td>\n",
              "      <td>607</td>\n",
              "      <td>830</td>\n",
              "      <td>48</td>\n",
              "      <td>1.44</td>\n",
              "      <td>15.38</td>\n",
              "      <td>5.8</td>\n",
              "      <td>22739</td>\n",
              "    </tr>\n",
              "    <tr>\n",
              "      <th>1</th>\n",
              "      <td>10010</td>\n",
              "      <td>Seoul</td>\n",
              "      <td>Gangnam-gu</td>\n",
              "      <td>37.518421</td>\n",
              "      <td>127.047222</td>\n",
              "      <td>33</td>\n",
              "      <td>38</td>\n",
              "      <td>0</td>\n",
              "      <td>4.18</td>\n",
              "      <td>13.17</td>\n",
              "      <td>4.3</td>\n",
              "      <td>3088</td>\n",
              "    </tr>\n",
              "    <tr>\n",
              "      <th>2</th>\n",
              "      <td>10020</td>\n",
              "      <td>Seoul</td>\n",
              "      <td>Gangdong-gu</td>\n",
              "      <td>37.530492</td>\n",
              "      <td>127.123837</td>\n",
              "      <td>27</td>\n",
              "      <td>32</td>\n",
              "      <td>0</td>\n",
              "      <td>1.54</td>\n",
              "      <td>14.55</td>\n",
              "      <td>5.4</td>\n",
              "      <td>1023</td>\n",
              "    </tr>\n",
              "    <tr>\n",
              "      <th>3</th>\n",
              "      <td>10030</td>\n",
              "      <td>Seoul</td>\n",
              "      <td>Gangbuk-gu</td>\n",
              "      <td>37.639938</td>\n",
              "      <td>127.025508</td>\n",
              "      <td>14</td>\n",
              "      <td>21</td>\n",
              "      <td>0</td>\n",
              "      <td>0.67</td>\n",
              "      <td>19.49</td>\n",
              "      <td>8.5</td>\n",
              "      <td>628</td>\n",
              "    </tr>\n",
              "    <tr>\n",
              "      <th>4</th>\n",
              "      <td>10040</td>\n",
              "      <td>Seoul</td>\n",
              "      <td>Gangseo-gu</td>\n",
              "      <td>37.551166</td>\n",
              "      <td>126.849506</td>\n",
              "      <td>36</td>\n",
              "      <td>56</td>\n",
              "      <td>1</td>\n",
              "      <td>1.17</td>\n",
              "      <td>14.39</td>\n",
              "      <td>5.7</td>\n",
              "      <td>1080</td>\n",
              "    </tr>\n",
              "    <tr>\n",
              "      <th>5</th>\n",
              "      <td>10050</td>\n",
              "      <td>Seoul</td>\n",
              "      <td>Gwanak-gu</td>\n",
              "      <td>37.478290</td>\n",
              "      <td>126.951502</td>\n",
              "      <td>22</td>\n",
              "      <td>33</td>\n",
              "      <td>1</td>\n",
              "      <td>0.89</td>\n",
              "      <td>15.12</td>\n",
              "      <td>4.9</td>\n",
              "      <td>909</td>\n",
              "    </tr>\n",
              "    <tr>\n",
              "      <th>6</th>\n",
              "      <td>10060</td>\n",
              "      <td>Seoul</td>\n",
              "      <td>Gwangjin-gu</td>\n",
              "      <td>37.538712</td>\n",
              "      <td>127.082366</td>\n",
              "      <td>22</td>\n",
              "      <td>33</td>\n",
              "      <td>3</td>\n",
              "      <td>1.16</td>\n",
              "      <td>13.75</td>\n",
              "      <td>4.8</td>\n",
              "      <td>723</td>\n",
              "    </tr>\n",
              "    <tr>\n",
              "      <th>7</th>\n",
              "      <td>10070</td>\n",
              "      <td>Seoul</td>\n",
              "      <td>Guro-gu</td>\n",
              "      <td>37.495632</td>\n",
              "      <td>126.887650</td>\n",
              "      <td>26</td>\n",
              "      <td>34</td>\n",
              "      <td>3</td>\n",
              "      <td>1.00</td>\n",
              "      <td>16.21</td>\n",
              "      <td>5.7</td>\n",
              "      <td>741</td>\n",
              "    </tr>\n",
              "    <tr>\n",
              "      <th>8</th>\n",
              "      <td>10080</td>\n",
              "      <td>Seoul</td>\n",
              "      <td>Geumcheon-gu</td>\n",
              "      <td>37.456852</td>\n",
              "      <td>126.895229</td>\n",
              "      <td>18</td>\n",
              "      <td>19</td>\n",
              "      <td>0</td>\n",
              "      <td>0.96</td>\n",
              "      <td>16.15</td>\n",
              "      <td>6.7</td>\n",
              "      <td>475</td>\n",
              "    </tr>\n",
              "    <tr>\n",
              "      <th>9</th>\n",
              "      <td>10090</td>\n",
              "      <td>Seoul</td>\n",
              "      <td>Nowon-gu</td>\n",
              "      <td>37.654259</td>\n",
              "      <td>127.056294</td>\n",
              "      <td>42</td>\n",
              "      <td>66</td>\n",
              "      <td>6</td>\n",
              "      <td>1.39</td>\n",
              "      <td>15.40</td>\n",
              "      <td>7.4</td>\n",
              "      <td>952</td>\n",
              "    </tr>\n",
              "  </tbody>\n",
              "</table>\n",
              "</div>\n",
              "      <button class=\"colab-df-convert\" onclick=\"convertToInteractive('df-cbec339e-393e-414e-ac1c-57f66f76d8bd')\"\n",
              "              title=\"Convert this dataframe to an interactive table.\"\n",
              "              style=\"display:none;\">\n",
              "        \n",
              "  <svg xmlns=\"http://www.w3.org/2000/svg\" height=\"24px\"viewBox=\"0 0 24 24\"\n",
              "       width=\"24px\">\n",
              "    <path d=\"M0 0h24v24H0V0z\" fill=\"none\"/>\n",
              "    <path d=\"M18.56 5.44l.94 2.06.94-2.06 2.06-.94-2.06-.94-.94-2.06-.94 2.06-2.06.94zm-11 1L8.5 8.5l.94-2.06 2.06-.94-2.06-.94L8.5 2.5l-.94 2.06-2.06.94zm10 10l.94 2.06.94-2.06 2.06-.94-2.06-.94-.94-2.06-.94 2.06-2.06.94z\"/><path d=\"M17.41 7.96l-1.37-1.37c-.4-.4-.92-.59-1.43-.59-.52 0-1.04.2-1.43.59L10.3 9.45l-7.72 7.72c-.78.78-.78 2.05 0 2.83L4 21.41c.39.39.9.59 1.41.59.51 0 1.02-.2 1.41-.59l7.78-7.78 2.81-2.81c.8-.78.8-2.07 0-2.86zM5.41 20L4 18.59l7.72-7.72 1.47 1.35L5.41 20z\"/>\n",
              "  </svg>\n",
              "      </button>\n",
              "      \n",
              "  <style>\n",
              "    .colab-df-container {\n",
              "      display:flex;\n",
              "      flex-wrap:wrap;\n",
              "      gap: 12px;\n",
              "    }\n",
              "\n",
              "    .colab-df-convert {\n",
              "      background-color: #E8F0FE;\n",
              "      border: none;\n",
              "      border-radius: 50%;\n",
              "      cursor: pointer;\n",
              "      display: none;\n",
              "      fill: #1967D2;\n",
              "      height: 32px;\n",
              "      padding: 0 0 0 0;\n",
              "      width: 32px;\n",
              "    }\n",
              "\n",
              "    .colab-df-convert:hover {\n",
              "      background-color: #E2EBFA;\n",
              "      box-shadow: 0px 1px 2px rgba(60, 64, 67, 0.3), 0px 1px 3px 1px rgba(60, 64, 67, 0.15);\n",
              "      fill: #174EA6;\n",
              "    }\n",
              "\n",
              "    [theme=dark] .colab-df-convert {\n",
              "      background-color: #3B4455;\n",
              "      fill: #D2E3FC;\n",
              "    }\n",
              "\n",
              "    [theme=dark] .colab-df-convert:hover {\n",
              "      background-color: #434B5C;\n",
              "      box-shadow: 0px 1px 3px 1px rgba(0, 0, 0, 0.15);\n",
              "      filter: drop-shadow(0px 1px 2px rgba(0, 0, 0, 0.3));\n",
              "      fill: #FFFFFF;\n",
              "    }\n",
              "  </style>\n",
              "\n",
              "      <script>\n",
              "        const buttonEl =\n",
              "          document.querySelector('#df-cbec339e-393e-414e-ac1c-57f66f76d8bd button.colab-df-convert');\n",
              "        buttonEl.style.display =\n",
              "          google.colab.kernel.accessAllowed ? 'block' : 'none';\n",
              "\n",
              "        async function convertToInteractive(key) {\n",
              "          const element = document.querySelector('#df-cbec339e-393e-414e-ac1c-57f66f76d8bd');\n",
              "          const dataTable =\n",
              "            await google.colab.kernel.invokeFunction('convertToInteractive',\n",
              "                                                     [key], {});\n",
              "          if (!dataTable) return;\n",
              "\n",
              "          const docLinkHtml = 'Like what you see? Visit the ' +\n",
              "            '<a target=\"_blank\" href=https://colab.research.google.com/notebooks/data_table.ipynb>data table notebook</a>'\n",
              "            + ' to learn more about interactive tables.';\n",
              "          element.innerHTML = '';\n",
              "          dataTable['output_type'] = 'display_data';\n",
              "          await google.colab.output.renderOutput(dataTable, element);\n",
              "          const docLink = document.createElement('div');\n",
              "          docLink.innerHTML = docLinkHtml;\n",
              "          element.appendChild(docLink);\n",
              "        }\n",
              "      </script>\n",
              "    </div>\n",
              "  </div>\n",
              "  "
            ]
          },
          "metadata": {},
          "execution_count": 22
        }
      ],
      "source": [
        "regions = spark.read.load(\"data/Region.csv\",format=\"csv\", sep=\",\", inferSchema=\"true\", header=\"true\")\n",
        "regions.limit(10).toPandas()"
      ]
    },
    {
      "cell_type": "markdown",
      "metadata": {
        "id": "TKYbkzZxSv4M"
      },
      "source": [
        "# DataFrame.join(right: pyspark.pandas.frame.DataFrame,\n",
        "\n",
        "# on: Union[Any, Tuple[Any, …], \n",
        "\n",
        "# List[Union[Any, Tuple[Any, …]]], None] = None, \n",
        "\n",
        "# how: str = 'left', \n",
        "\n",
        "# lsuffix: str = '', \n",
        "\n",
        "# rsuffix: str = '') → pyspark.pandas.frame.DataFrame\n",
        "\n",
        "\n",
        "Parameters\n",
        "\n",
        "right: DataFrame, Series\n",
        "\n",
        "on: str, list of str, or array-like, optional\n",
        "\n",
        "Column or index level name(s) in the caller to join on the index in right, otherwise joins index-on-index. If multiple values \n",
        "given, the right DataFrame must have a MultiIndex. Can pass an array as the join key if it is not already contained in the calling DataFrame. Like an Excel VLOOKUP operation.\n",
        "\n",
        "how: {‘left’, ‘right’, ‘outer’, ‘inner’}, default ‘left’\n",
        "How to handle the operation of the two objects.\n",
        "\n",
        "\n",
        "left: use left frame’s index (or column if on is specified).\n",
        "\n",
        "\n",
        "right: use right’s index.\n",
        "\n",
        "\n",
        "outer: form union of left frame’s index (or column if on is specified) with right’s index, and sort it. lexicographically.\n",
        "\n",
        "\n",
        "inner: form intersection of left frame’s index (or column if on is specified) with right’s index, preserving the order of the left’s one.\n",
        "\n",
        "\n",
        "lsuffixstr, default ‘’\n",
        "\n",
        "Suffix to use from left frame’s overlapping columns.\n",
        "\n",
        "\n",
        "rsuffixstr, default ‘’\n",
        "\n",
        "Suffix to use from right frame’s overlapping columns.\n",
        "\n",
        "\n",
        "Returns\n",
        "\n",
        "DataFrame\n",
        "\n",
        "A dataframe containing columns from both the left and right."
      ]
    },
    {
      "cell_type": "markdown",
      "metadata": {
        "id": "HJ5e2r2ZSv4N"
      },
      "source": [
        "# applying left join on cases and regions  on the columns province and city"
      ]
    },
    {
      "cell_type": "code",
      "execution_count": 23,
      "metadata": {
        "id": "KRHDD0ykIw-y"
      },
      "outputs": [],
      "source": [
        "cases = cases.join(regions, ['province','city'],how='left')"
      ]
    },
    {
      "cell_type": "code",
      "execution_count": 24,
      "metadata": {
        "colab": {
          "base_uri": "https://localhost:8080/",
          "height": 583
        },
        "id": "hhU_zAdoIw-y",
        "outputId": "6cbfdf67-9e40-44f7-8c8c-f88d209774ea"
      },
      "outputs": [
        {
          "output_type": "execute_result",
          "data": {
            "text/plain": [
              "  province             city                 infection_case  confirmed  \\\n",
              "0    Seoul       Yongsan-gu                  Itaewon Clubs         72   \n",
              "1    Seoul          Guro-gu            Guro-gu Call Center         98   \n",
              "2    Seoul    Dongdaemun-gu                  Dongan Church         20   \n",
              "3    Seoul          Guro-gu          Manmin Central Church         41   \n",
              "4    Seoul     Eunpyeong-gu  Eunpyeong St. Mary's Hospital         14   \n",
              "5    Seoul     Seongdong-gu               Seongdong-gu APT         13   \n",
              "6    Seoul        Jongno-gu        Jongno Community Center         10   \n",
              "7    Seoul          Jung-gu        Jung-gu Fashion Company          7   \n",
              "8    Seoul  from other city             Shincheonji Church          8   \n",
              "9    Seoul                -                overseas inflow        321   \n",
              "\n",
              "      code   latitude   longitude  elementary_school_count  \\\n",
              "0  10210.0  37.532768  126.990021                     15.0   \n",
              "1  10070.0  37.495632  126.887650                     26.0   \n",
              "2  10110.0  37.574552  127.039721                     21.0   \n",
              "3  10070.0  37.495632  126.887650                     26.0   \n",
              "4  10220.0  37.603481  126.929173                     31.0   \n",
              "5  10160.0  37.563277  127.036647                     21.0   \n",
              "6  10230.0  37.572999  126.979189                     13.0   \n",
              "7  10240.0  37.563988  126.997530                     12.0   \n",
              "8      NaN        NaN         NaN                      NaN   \n",
              "9      NaN        NaN         NaN                      NaN   \n",
              "\n",
              "   kindergarten_count  university_count  academy_ratio  \\\n",
              "0                13.0               1.0           0.68   \n",
              "1                34.0               3.0           1.00   \n",
              "2                31.0               4.0           1.06   \n",
              "3                34.0               3.0           1.00   \n",
              "4                44.0               1.0           1.09   \n",
              "5                30.0               2.0           0.97   \n",
              "6                17.0               3.0           1.71   \n",
              "7                14.0               2.0           0.94   \n",
              "8                 NaN               NaN            NaN   \n",
              "9                 NaN               NaN            NaN   \n",
              "\n",
              "   elderly_population_ratio  elderly_alone_ratio  nursing_home_count  \n",
              "0                     16.87                  6.5               435.0  \n",
              "1                     16.21                  5.7               741.0  \n",
              "2                     17.26                  6.7               832.0  \n",
              "3                     16.21                  5.7               741.0  \n",
              "4                     17.00                  6.5               874.0  \n",
              "5                     14.76                  5.3               593.0  \n",
              "6                     18.27                  6.8               668.0  \n",
              "7                     18.42                  7.4               728.0  \n",
              "8                       NaN                  NaN                 NaN  \n",
              "9                       NaN                  NaN                 NaN  "
            ],
            "text/html": [
              "\n",
              "  <div id=\"df-78565704-8f70-4749-a004-8ca1395ba7c2\">\n",
              "    <div class=\"colab-df-container\">\n",
              "      <div>\n",
              "<style scoped>\n",
              "    .dataframe tbody tr th:only-of-type {\n",
              "        vertical-align: middle;\n",
              "    }\n",
              "\n",
              "    .dataframe tbody tr th {\n",
              "        vertical-align: top;\n",
              "    }\n",
              "\n",
              "    .dataframe thead th {\n",
              "        text-align: right;\n",
              "    }\n",
              "</style>\n",
              "<table border=\"1\" class=\"dataframe\">\n",
              "  <thead>\n",
              "    <tr style=\"text-align: right;\">\n",
              "      <th></th>\n",
              "      <th>province</th>\n",
              "      <th>city</th>\n",
              "      <th>infection_case</th>\n",
              "      <th>confirmed</th>\n",
              "      <th>code</th>\n",
              "      <th>latitude</th>\n",
              "      <th>longitude</th>\n",
              "      <th>elementary_school_count</th>\n",
              "      <th>kindergarten_count</th>\n",
              "      <th>university_count</th>\n",
              "      <th>academy_ratio</th>\n",
              "      <th>elderly_population_ratio</th>\n",
              "      <th>elderly_alone_ratio</th>\n",
              "      <th>nursing_home_count</th>\n",
              "    </tr>\n",
              "  </thead>\n",
              "  <tbody>\n",
              "    <tr>\n",
              "      <th>0</th>\n",
              "      <td>Seoul</td>\n",
              "      <td>Yongsan-gu</td>\n",
              "      <td>Itaewon Clubs</td>\n",
              "      <td>72</td>\n",
              "      <td>10210.0</td>\n",
              "      <td>37.532768</td>\n",
              "      <td>126.990021</td>\n",
              "      <td>15.0</td>\n",
              "      <td>13.0</td>\n",
              "      <td>1.0</td>\n",
              "      <td>0.68</td>\n",
              "      <td>16.87</td>\n",
              "      <td>6.5</td>\n",
              "      <td>435.0</td>\n",
              "    </tr>\n",
              "    <tr>\n",
              "      <th>1</th>\n",
              "      <td>Seoul</td>\n",
              "      <td>Guro-gu</td>\n",
              "      <td>Guro-gu Call Center</td>\n",
              "      <td>98</td>\n",
              "      <td>10070.0</td>\n",
              "      <td>37.495632</td>\n",
              "      <td>126.887650</td>\n",
              "      <td>26.0</td>\n",
              "      <td>34.0</td>\n",
              "      <td>3.0</td>\n",
              "      <td>1.00</td>\n",
              "      <td>16.21</td>\n",
              "      <td>5.7</td>\n",
              "      <td>741.0</td>\n",
              "    </tr>\n",
              "    <tr>\n",
              "      <th>2</th>\n",
              "      <td>Seoul</td>\n",
              "      <td>Dongdaemun-gu</td>\n",
              "      <td>Dongan Church</td>\n",
              "      <td>20</td>\n",
              "      <td>10110.0</td>\n",
              "      <td>37.574552</td>\n",
              "      <td>127.039721</td>\n",
              "      <td>21.0</td>\n",
              "      <td>31.0</td>\n",
              "      <td>4.0</td>\n",
              "      <td>1.06</td>\n",
              "      <td>17.26</td>\n",
              "      <td>6.7</td>\n",
              "      <td>832.0</td>\n",
              "    </tr>\n",
              "    <tr>\n",
              "      <th>3</th>\n",
              "      <td>Seoul</td>\n",
              "      <td>Guro-gu</td>\n",
              "      <td>Manmin Central Church</td>\n",
              "      <td>41</td>\n",
              "      <td>10070.0</td>\n",
              "      <td>37.495632</td>\n",
              "      <td>126.887650</td>\n",
              "      <td>26.0</td>\n",
              "      <td>34.0</td>\n",
              "      <td>3.0</td>\n",
              "      <td>1.00</td>\n",
              "      <td>16.21</td>\n",
              "      <td>5.7</td>\n",
              "      <td>741.0</td>\n",
              "    </tr>\n",
              "    <tr>\n",
              "      <th>4</th>\n",
              "      <td>Seoul</td>\n",
              "      <td>Eunpyeong-gu</td>\n",
              "      <td>Eunpyeong St. Mary's Hospital</td>\n",
              "      <td>14</td>\n",
              "      <td>10220.0</td>\n",
              "      <td>37.603481</td>\n",
              "      <td>126.929173</td>\n",
              "      <td>31.0</td>\n",
              "      <td>44.0</td>\n",
              "      <td>1.0</td>\n",
              "      <td>1.09</td>\n",
              "      <td>17.00</td>\n",
              "      <td>6.5</td>\n",
              "      <td>874.0</td>\n",
              "    </tr>\n",
              "    <tr>\n",
              "      <th>5</th>\n",
              "      <td>Seoul</td>\n",
              "      <td>Seongdong-gu</td>\n",
              "      <td>Seongdong-gu APT</td>\n",
              "      <td>13</td>\n",
              "      <td>10160.0</td>\n",
              "      <td>37.563277</td>\n",
              "      <td>127.036647</td>\n",
              "      <td>21.0</td>\n",
              "      <td>30.0</td>\n",
              "      <td>2.0</td>\n",
              "      <td>0.97</td>\n",
              "      <td>14.76</td>\n",
              "      <td>5.3</td>\n",
              "      <td>593.0</td>\n",
              "    </tr>\n",
              "    <tr>\n",
              "      <th>6</th>\n",
              "      <td>Seoul</td>\n",
              "      <td>Jongno-gu</td>\n",
              "      <td>Jongno Community Center</td>\n",
              "      <td>10</td>\n",
              "      <td>10230.0</td>\n",
              "      <td>37.572999</td>\n",
              "      <td>126.979189</td>\n",
              "      <td>13.0</td>\n",
              "      <td>17.0</td>\n",
              "      <td>3.0</td>\n",
              "      <td>1.71</td>\n",
              "      <td>18.27</td>\n",
              "      <td>6.8</td>\n",
              "      <td>668.0</td>\n",
              "    </tr>\n",
              "    <tr>\n",
              "      <th>7</th>\n",
              "      <td>Seoul</td>\n",
              "      <td>Jung-gu</td>\n",
              "      <td>Jung-gu Fashion Company</td>\n",
              "      <td>7</td>\n",
              "      <td>10240.0</td>\n",
              "      <td>37.563988</td>\n",
              "      <td>126.997530</td>\n",
              "      <td>12.0</td>\n",
              "      <td>14.0</td>\n",
              "      <td>2.0</td>\n",
              "      <td>0.94</td>\n",
              "      <td>18.42</td>\n",
              "      <td>7.4</td>\n",
              "      <td>728.0</td>\n",
              "    </tr>\n",
              "    <tr>\n",
              "      <th>8</th>\n",
              "      <td>Seoul</td>\n",
              "      <td>from other city</td>\n",
              "      <td>Shincheonji Church</td>\n",
              "      <td>8</td>\n",
              "      <td>NaN</td>\n",
              "      <td>NaN</td>\n",
              "      <td>NaN</td>\n",
              "      <td>NaN</td>\n",
              "      <td>NaN</td>\n",
              "      <td>NaN</td>\n",
              "      <td>NaN</td>\n",
              "      <td>NaN</td>\n",
              "      <td>NaN</td>\n",
              "      <td>NaN</td>\n",
              "    </tr>\n",
              "    <tr>\n",
              "      <th>9</th>\n",
              "      <td>Seoul</td>\n",
              "      <td>-</td>\n",
              "      <td>overseas inflow</td>\n",
              "      <td>321</td>\n",
              "      <td>NaN</td>\n",
              "      <td>NaN</td>\n",
              "      <td>NaN</td>\n",
              "      <td>NaN</td>\n",
              "      <td>NaN</td>\n",
              "      <td>NaN</td>\n",
              "      <td>NaN</td>\n",
              "      <td>NaN</td>\n",
              "      <td>NaN</td>\n",
              "      <td>NaN</td>\n",
              "    </tr>\n",
              "  </tbody>\n",
              "</table>\n",
              "</div>\n",
              "      <button class=\"colab-df-convert\" onclick=\"convertToInteractive('df-78565704-8f70-4749-a004-8ca1395ba7c2')\"\n",
              "              title=\"Convert this dataframe to an interactive table.\"\n",
              "              style=\"display:none;\">\n",
              "        \n",
              "  <svg xmlns=\"http://www.w3.org/2000/svg\" height=\"24px\"viewBox=\"0 0 24 24\"\n",
              "       width=\"24px\">\n",
              "    <path d=\"M0 0h24v24H0V0z\" fill=\"none\"/>\n",
              "    <path d=\"M18.56 5.44l.94 2.06.94-2.06 2.06-.94-2.06-.94-.94-2.06-.94 2.06-2.06.94zm-11 1L8.5 8.5l.94-2.06 2.06-.94-2.06-.94L8.5 2.5l-.94 2.06-2.06.94zm10 10l.94 2.06.94-2.06 2.06-.94-2.06-.94-.94-2.06-.94 2.06-2.06.94z\"/><path d=\"M17.41 7.96l-1.37-1.37c-.4-.4-.92-.59-1.43-.59-.52 0-1.04.2-1.43.59L10.3 9.45l-7.72 7.72c-.78.78-.78 2.05 0 2.83L4 21.41c.39.39.9.59 1.41.59.51 0 1.02-.2 1.41-.59l7.78-7.78 2.81-2.81c.8-.78.8-2.07 0-2.86zM5.41 20L4 18.59l7.72-7.72 1.47 1.35L5.41 20z\"/>\n",
              "  </svg>\n",
              "      </button>\n",
              "      \n",
              "  <style>\n",
              "    .colab-df-container {\n",
              "      display:flex;\n",
              "      flex-wrap:wrap;\n",
              "      gap: 12px;\n",
              "    }\n",
              "\n",
              "    .colab-df-convert {\n",
              "      background-color: #E8F0FE;\n",
              "      border: none;\n",
              "      border-radius: 50%;\n",
              "      cursor: pointer;\n",
              "      display: none;\n",
              "      fill: #1967D2;\n",
              "      height: 32px;\n",
              "      padding: 0 0 0 0;\n",
              "      width: 32px;\n",
              "    }\n",
              "\n",
              "    .colab-df-convert:hover {\n",
              "      background-color: #E2EBFA;\n",
              "      box-shadow: 0px 1px 2px rgba(60, 64, 67, 0.3), 0px 1px 3px 1px rgba(60, 64, 67, 0.15);\n",
              "      fill: #174EA6;\n",
              "    }\n",
              "\n",
              "    [theme=dark] .colab-df-convert {\n",
              "      background-color: #3B4455;\n",
              "      fill: #D2E3FC;\n",
              "    }\n",
              "\n",
              "    [theme=dark] .colab-df-convert:hover {\n",
              "      background-color: #434B5C;\n",
              "      box-shadow: 0px 1px 3px 1px rgba(0, 0, 0, 0.15);\n",
              "      filter: drop-shadow(0px 1px 2px rgba(0, 0, 0, 0.3));\n",
              "      fill: #FFFFFF;\n",
              "    }\n",
              "  </style>\n",
              "\n",
              "      <script>\n",
              "        const buttonEl =\n",
              "          document.querySelector('#df-78565704-8f70-4749-a004-8ca1395ba7c2 button.colab-df-convert');\n",
              "        buttonEl.style.display =\n",
              "          google.colab.kernel.accessAllowed ? 'block' : 'none';\n",
              "\n",
              "        async function convertToInteractive(key) {\n",
              "          const element = document.querySelector('#df-78565704-8f70-4749-a004-8ca1395ba7c2');\n",
              "          const dataTable =\n",
              "            await google.colab.kernel.invokeFunction('convertToInteractive',\n",
              "                                                     [key], {});\n",
              "          if (!dataTable) return;\n",
              "\n",
              "          const docLinkHtml = 'Like what you see? Visit the ' +\n",
              "            '<a target=\"_blank\" href=https://colab.research.google.com/notebooks/data_table.ipynb>data table notebook</a>'\n",
              "            + ' to learn more about interactive tables.';\n",
              "          element.innerHTML = '';\n",
              "          dataTable['output_type'] = 'display_data';\n",
              "          await google.colab.output.renderOutput(dataTable, element);\n",
              "          const docLink = document.createElement('div');\n",
              "          docLink.innerHTML = docLinkHtml;\n",
              "          element.appendChild(docLink);\n",
              "        }\n",
              "      </script>\n",
              "    </div>\n",
              "  </div>\n",
              "  "
            ]
          },
          "metadata": {},
          "execution_count": 24
        }
      ],
      "source": [
        "cases.limit(10).toPandas()"
      ]
    },
    {
      "cell_type": "markdown",
      "metadata": {
        "id": "lQ1vyOXAIw-y"
      },
      "source": [
        "# 2. Broadcast/Map Side Joins"
      ]
    },
    {
      "cell_type": "markdown",
      "metadata": {
        "id": "UcmjW7OUSv4N"
      },
      "source": [
        "Sometimes you might face a scenario where you need to join a very big table(1B Rows) with a very small table(100–200 rows). The scenario might also involve increasing the size of your database like in the example below."
      ]
    },
    {
      "cell_type": "markdown",
      "metadata": {
        "id": "zy3A15bbSv4N"
      },
      "source": [
        "!![1_8XzZhDG53AP5ejj7ULkO7A.png](data:image/png;base64,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)"
      ]
    },
    {
      "cell_type": "code",
      "execution_count": 28,
      "metadata": {
        "id": "I2em_jGnIw-z"
      },
      "outputs": [],
      "source": [
        "big = pd.DataFrame({'A':[1,1,1,1,2,2,2,2],'price': [i for i in range(8)]}) \n",
        "\n",
        "small = pd.DataFrame({'A':[1,1,1,1,2,2],'agg':['sum','mean','max','min','sum','mean']}) "
      ]
    },
    {
      "cell_type": "code",
      "execution_count": 29,
      "metadata": {
        "colab": {
          "base_uri": "https://localhost:8080/",
          "height": 300
        },
        "id": "U7-lCzhvIw-z",
        "outputId": "107fb7f3-51b1-494c-d453-f43b5dbf9ccb"
      },
      "outputs": [
        {
          "output_type": "execute_result",
          "data": {
            "text/plain": [
              "   A  price\n",
              "0  1      0\n",
              "1  1      1\n",
              "2  1      2\n",
              "3  1      3\n",
              "4  2      4\n",
              "5  2      5\n",
              "6  2      6\n",
              "7  2      7"
            ],
            "text/html": [
              "\n",
              "  <div id=\"df-29b06583-65a3-4c9b-92ac-af00a3867666\">\n",
              "    <div class=\"colab-df-container\">\n",
              "      <div>\n",
              "<style scoped>\n",
              "    .dataframe tbody tr th:only-of-type {\n",
              "        vertical-align: middle;\n",
              "    }\n",
              "\n",
              "    .dataframe tbody tr th {\n",
              "        vertical-align: top;\n",
              "    }\n",
              "\n",
              "    .dataframe thead th {\n",
              "        text-align: right;\n",
              "    }\n",
              "</style>\n",
              "<table border=\"1\" class=\"dataframe\">\n",
              "  <thead>\n",
              "    <tr style=\"text-align: right;\">\n",
              "      <th></th>\n",
              "      <th>A</th>\n",
              "      <th>price</th>\n",
              "    </tr>\n",
              "  </thead>\n",
              "  <tbody>\n",
              "    <tr>\n",
              "      <th>0</th>\n",
              "      <td>1</td>\n",
              "      <td>0</td>\n",
              "    </tr>\n",
              "    <tr>\n",
              "      <th>1</th>\n",
              "      <td>1</td>\n",
              "      <td>1</td>\n",
              "    </tr>\n",
              "    <tr>\n",
              "      <th>2</th>\n",
              "      <td>1</td>\n",
              "      <td>2</td>\n",
              "    </tr>\n",
              "    <tr>\n",
              "      <th>3</th>\n",
              "      <td>1</td>\n",
              "      <td>3</td>\n",
              "    </tr>\n",
              "    <tr>\n",
              "      <th>4</th>\n",
              "      <td>2</td>\n",
              "      <td>4</td>\n",
              "    </tr>\n",
              "    <tr>\n",
              "      <th>5</th>\n",
              "      <td>2</td>\n",
              "      <td>5</td>\n",
              "    </tr>\n",
              "    <tr>\n",
              "      <th>6</th>\n",
              "      <td>2</td>\n",
              "      <td>6</td>\n",
              "    </tr>\n",
              "    <tr>\n",
              "      <th>7</th>\n",
              "      <td>2</td>\n",
              "      <td>7</td>\n",
              "    </tr>\n",
              "  </tbody>\n",
              "</table>\n",
              "</div>\n",
              "      <button class=\"colab-df-convert\" onclick=\"convertToInteractive('df-29b06583-65a3-4c9b-92ac-af00a3867666')\"\n",
              "              title=\"Convert this dataframe to an interactive table.\"\n",
              "              style=\"display:none;\">\n",
              "        \n",
              "  <svg xmlns=\"http://www.w3.org/2000/svg\" height=\"24px\"viewBox=\"0 0 24 24\"\n",
              "       width=\"24px\">\n",
              "    <path d=\"M0 0h24v24H0V0z\" fill=\"none\"/>\n",
              "    <path d=\"M18.56 5.44l.94 2.06.94-2.06 2.06-.94-2.06-.94-.94-2.06-.94 2.06-2.06.94zm-11 1L8.5 8.5l.94-2.06 2.06-.94-2.06-.94L8.5 2.5l-.94 2.06-2.06.94zm10 10l.94 2.06.94-2.06 2.06-.94-2.06-.94-.94-2.06-.94 2.06-2.06.94z\"/><path d=\"M17.41 7.96l-1.37-1.37c-.4-.4-.92-.59-1.43-.59-.52 0-1.04.2-1.43.59L10.3 9.45l-7.72 7.72c-.78.78-.78 2.05 0 2.83L4 21.41c.39.39.9.59 1.41.59.51 0 1.02-.2 1.41-.59l7.78-7.78 2.81-2.81c.8-.78.8-2.07 0-2.86zM5.41 20L4 18.59l7.72-7.72 1.47 1.35L5.41 20z\"/>\n",
              "  </svg>\n",
              "      </button>\n",
              "      \n",
              "  <style>\n",
              "    .colab-df-container {\n",
              "      display:flex;\n",
              "      flex-wrap:wrap;\n",
              "      gap: 12px;\n",
              "    }\n",
              "\n",
              "    .colab-df-convert {\n",
              "      background-color: #E8F0FE;\n",
              "      border: none;\n",
              "      border-radius: 50%;\n",
              "      cursor: pointer;\n",
              "      display: none;\n",
              "      fill: #1967D2;\n",
              "      height: 32px;\n",
              "      padding: 0 0 0 0;\n",
              "      width: 32px;\n",
              "    }\n",
              "\n",
              "    .colab-df-convert:hover {\n",
              "      background-color: #E2EBFA;\n",
              "      box-shadow: 0px 1px 2px rgba(60, 64, 67, 0.3), 0px 1px 3px 1px rgba(60, 64, 67, 0.15);\n",
              "      fill: #174EA6;\n",
              "    }\n",
              "\n",
              "    [theme=dark] .colab-df-convert {\n",
              "      background-color: #3B4455;\n",
              "      fill: #D2E3FC;\n",
              "    }\n",
              "\n",
              "    [theme=dark] .colab-df-convert:hover {\n",
              "      background-color: #434B5C;\n",
              "      box-shadow: 0px 1px 3px 1px rgba(0, 0, 0, 0.15);\n",
              "      filter: drop-shadow(0px 1px 2px rgba(0, 0, 0, 0.3));\n",
              "      fill: #FFFFFF;\n",
              "    }\n",
              "  </style>\n",
              "\n",
              "      <script>\n",
              "        const buttonEl =\n",
              "          document.querySelector('#df-29b06583-65a3-4c9b-92ac-af00a3867666 button.colab-df-convert');\n",
              "        buttonEl.style.display =\n",
              "          google.colab.kernel.accessAllowed ? 'block' : 'none';\n",
              "\n",
              "        async function convertToInteractive(key) {\n",
              "          const element = document.querySelector('#df-29b06583-65a3-4c9b-92ac-af00a3867666');\n",
              "          const dataTable =\n",
              "            await google.colab.kernel.invokeFunction('convertToInteractive',\n",
              "                                                     [key], {});\n",
              "          if (!dataTable) return;\n",
              "\n",
              "          const docLinkHtml = 'Like what you see? Visit the ' +\n",
              "            '<a target=\"_blank\" href=https://colab.research.google.com/notebooks/data_table.ipynb>data table notebook</a>'\n",
              "            + ' to learn more about interactive tables.';\n",
              "          element.innerHTML = '';\n",
              "          dataTable['output_type'] = 'display_data';\n",
              "          await google.colab.output.renderOutput(dataTable, element);\n",
              "          const docLink = document.createElement('div');\n",
              "          docLink.innerHTML = docLinkHtml;\n",
              "          element.appendChild(docLink);\n",
              "        }\n",
              "      </script>\n",
              "    </div>\n",
              "  </div>\n",
              "  "
            ]
          },
          "metadata": {},
          "execution_count": 29
        }
      ],
      "source": [
        "big"
      ]
    },
    {
      "cell_type": "code",
      "execution_count": 30,
      "metadata": {
        "colab": {
          "base_uri": "https://localhost:8080/",
          "height": 238
        },
        "id": "HQVJ4VanIw-z",
        "outputId": "dcfc3782-4c75-4dd0-a36e-a201179c1c3a"
      },
      "outputs": [
        {
          "output_type": "execute_result",
          "data": {
            "text/plain": [
              "   A   agg\n",
              "0  1   sum\n",
              "1  1  mean\n",
              "2  1   max\n",
              "3  1   min\n",
              "4  2   sum\n",
              "5  2  mean"
            ],
            "text/html": [
              "\n",
              "  <div id=\"df-64ba49d3-126d-4b26-ad76-6493da3c195d\">\n",
              "    <div class=\"colab-df-container\">\n",
              "      <div>\n",
              "<style scoped>\n",
              "    .dataframe tbody tr th:only-of-type {\n",
              "        vertical-align: middle;\n",
              "    }\n",
              "\n",
              "    .dataframe tbody tr th {\n",
              "        vertical-align: top;\n",
              "    }\n",
              "\n",
              "    .dataframe thead th {\n",
              "        text-align: right;\n",
              "    }\n",
              "</style>\n",
              "<table border=\"1\" class=\"dataframe\">\n",
              "  <thead>\n",
              "    <tr style=\"text-align: right;\">\n",
              "      <th></th>\n",
              "      <th>A</th>\n",
              "      <th>agg</th>\n",
              "    </tr>\n",
              "  </thead>\n",
              "  <tbody>\n",
              "    <tr>\n",
              "      <th>0</th>\n",
              "      <td>1</td>\n",
              "      <td>sum</td>\n",
              "    </tr>\n",
              "    <tr>\n",
              "      <th>1</th>\n",
              "      <td>1</td>\n",
              "      <td>mean</td>\n",
              "    </tr>\n",
              "    <tr>\n",
              "      <th>2</th>\n",
              "      <td>1</td>\n",
              "      <td>max</td>\n",
              "    </tr>\n",
              "    <tr>\n",
              "      <th>3</th>\n",
              "      <td>1</td>\n",
              "      <td>min</td>\n",
              "    </tr>\n",
              "    <tr>\n",
              "      <th>4</th>\n",
              "      <td>2</td>\n",
              "      <td>sum</td>\n",
              "    </tr>\n",
              "    <tr>\n",
              "      <th>5</th>\n",
              "      <td>2</td>\n",
              "      <td>mean</td>\n",
              "    </tr>\n",
              "  </tbody>\n",
              "</table>\n",
              "</div>\n",
              "      <button class=\"colab-df-convert\" onclick=\"convertToInteractive('df-64ba49d3-126d-4b26-ad76-6493da3c195d')\"\n",
              "              title=\"Convert this dataframe to an interactive table.\"\n",
              "              style=\"display:none;\">\n",
              "        \n",
              "  <svg xmlns=\"http://www.w3.org/2000/svg\" height=\"24px\"viewBox=\"0 0 24 24\"\n",
              "       width=\"24px\">\n",
              "    <path d=\"M0 0h24v24H0V0z\" fill=\"none\"/>\n",
              "    <path d=\"M18.56 5.44l.94 2.06.94-2.06 2.06-.94-2.06-.94-.94-2.06-.94 2.06-2.06.94zm-11 1L8.5 8.5l.94-2.06 2.06-.94-2.06-.94L8.5 2.5l-.94 2.06-2.06.94zm10 10l.94 2.06.94-2.06 2.06-.94-2.06-.94-.94-2.06-.94 2.06-2.06.94z\"/><path d=\"M17.41 7.96l-1.37-1.37c-.4-.4-.92-.59-1.43-.59-.52 0-1.04.2-1.43.59L10.3 9.45l-7.72 7.72c-.78.78-.78 2.05 0 2.83L4 21.41c.39.39.9.59 1.41.59.51 0 1.02-.2 1.41-.59l7.78-7.78 2.81-2.81c.8-.78.8-2.07 0-2.86zM5.41 20L4 18.59l7.72-7.72 1.47 1.35L5.41 20z\"/>\n",
              "  </svg>\n",
              "      </button>\n",
              "      \n",
              "  <style>\n",
              "    .colab-df-container {\n",
              "      display:flex;\n",
              "      flex-wrap:wrap;\n",
              "      gap: 12px;\n",
              "    }\n",
              "\n",
              "    .colab-df-convert {\n",
              "      background-color: #E8F0FE;\n",
              "      border: none;\n",
              "      border-radius: 50%;\n",
              "      cursor: pointer;\n",
              "      display: none;\n",
              "      fill: #1967D2;\n",
              "      height: 32px;\n",
              "      padding: 0 0 0 0;\n",
              "      width: 32px;\n",
              "    }\n",
              "\n",
              "    .colab-df-convert:hover {\n",
              "      background-color: #E2EBFA;\n",
              "      box-shadow: 0px 1px 2px rgba(60, 64, 67, 0.3), 0px 1px 3px 1px rgba(60, 64, 67, 0.15);\n",
              "      fill: #174EA6;\n",
              "    }\n",
              "\n",
              "    [theme=dark] .colab-df-convert {\n",
              "      background-color: #3B4455;\n",
              "      fill: #D2E3FC;\n",
              "    }\n",
              "\n",
              "    [theme=dark] .colab-df-convert:hover {\n",
              "      background-color: #434B5C;\n",
              "      box-shadow: 0px 1px 3px 1px rgba(0, 0, 0, 0.15);\n",
              "      filter: drop-shadow(0px 1px 2px rgba(0, 0, 0, 0.3));\n",
              "      fill: #FFFFFF;\n",
              "    }\n",
              "  </style>\n",
              "\n",
              "      <script>\n",
              "        const buttonEl =\n",
              "          document.querySelector('#df-64ba49d3-126d-4b26-ad76-6493da3c195d button.colab-df-convert');\n",
              "        buttonEl.style.display =\n",
              "          google.colab.kernel.accessAllowed ? 'block' : 'none';\n",
              "\n",
              "        async function convertToInteractive(key) {\n",
              "          const element = document.querySelector('#df-64ba49d3-126d-4b26-ad76-6493da3c195d');\n",
              "          const dataTable =\n",
              "            await google.colab.kernel.invokeFunction('convertToInteractive',\n",
              "                                                     [key], {});\n",
              "          if (!dataTable) return;\n",
              "\n",
              "          const docLinkHtml = 'Like what you see? Visit the ' +\n",
              "            '<a target=\"_blank\" href=https://colab.research.google.com/notebooks/data_table.ipynb>data table notebook</a>'\n",
              "            + ' to learn more about interactive tables.';\n",
              "          element.innerHTML = '';\n",
              "          dataTable['output_type'] = 'display_data';\n",
              "          await google.colab.output.renderOutput(dataTable, element);\n",
              "          const docLink = document.createElement('div');\n",
              "          docLink.innerHTML = docLinkHtml;\n",
              "          element.appendChild(docLink);\n",
              "        }\n",
              "      </script>\n",
              "    </div>\n",
              "  </div>\n",
              "  "
            ]
          },
          "metadata": {},
          "execution_count": 30
        }
      ],
      "source": [
        "small"
      ]
    },
    {
      "cell_type": "code",
      "execution_count": 31,
      "metadata": {
        "colab": {
          "base_uri": "https://localhost:8080/",
          "height": 802
        },
        "id": "JA9q_204Iw-z",
        "outputId": "4cc098f8-061b-4264-baed-880425a00503"
      },
      "outputs": [
        {
          "output_type": "execute_result",
          "data": {
            "text/plain": [
              "    A  price   agg\n",
              "0   1      0   sum\n",
              "1   1      0  mean\n",
              "2   1      0   max\n",
              "3   1      0   min\n",
              "4   1      1   sum\n",
              "5   1      1  mean\n",
              "6   1      1   max\n",
              "7   1      1   min\n",
              "8   1      2   sum\n",
              "9   1      2  mean\n",
              "10  1      2   max\n",
              "11  1      2   min\n",
              "12  1      3   sum\n",
              "13  1      3  mean\n",
              "14  1      3   max\n",
              "15  1      3   min\n",
              "16  2      4   sum\n",
              "17  2      4  mean\n",
              "18  2      5   sum\n",
              "19  2      5  mean\n",
              "20  2      6   sum\n",
              "21  2      6  mean\n",
              "22  2      7   sum\n",
              "23  2      7  mean"
            ],
            "text/html": [
              "\n",
              "  <div id=\"df-4721f633-b622-44dc-9cec-a21b7e19e854\">\n",
              "    <div class=\"colab-df-container\">\n",
              "      <div>\n",
              "<style scoped>\n",
              "    .dataframe tbody tr th:only-of-type {\n",
              "        vertical-align: middle;\n",
              "    }\n",
              "\n",
              "    .dataframe tbody tr th {\n",
              "        vertical-align: top;\n",
              "    }\n",
              "\n",
              "    .dataframe thead th {\n",
              "        text-align: right;\n",
              "    }\n",
              "</style>\n",
              "<table border=\"1\" class=\"dataframe\">\n",
              "  <thead>\n",
              "    <tr style=\"text-align: right;\">\n",
              "      <th></th>\n",
              "      <th>A</th>\n",
              "      <th>price</th>\n",
              "      <th>agg</th>\n",
              "    </tr>\n",
              "  </thead>\n",
              "  <tbody>\n",
              "    <tr>\n",
              "      <th>0</th>\n",
              "      <td>1</td>\n",
              "      <td>0</td>\n",
              "      <td>sum</td>\n",
              "    </tr>\n",
              "    <tr>\n",
              "      <th>1</th>\n",
              "      <td>1</td>\n",
              "      <td>0</td>\n",
              "      <td>mean</td>\n",
              "    </tr>\n",
              "    <tr>\n",
              "      <th>2</th>\n",
              "      <td>1</td>\n",
              "      <td>0</td>\n",
              "      <td>max</td>\n",
              "    </tr>\n",
              "    <tr>\n",
              "      <th>3</th>\n",
              "      <td>1</td>\n",
              "      <td>0</td>\n",
              "      <td>min</td>\n",
              "    </tr>\n",
              "    <tr>\n",
              "      <th>4</th>\n",
              "      <td>1</td>\n",
              "      <td>1</td>\n",
              "      <td>sum</td>\n",
              "    </tr>\n",
              "    <tr>\n",
              "      <th>5</th>\n",
              "      <td>1</td>\n",
              "      <td>1</td>\n",
              "      <td>mean</td>\n",
              "    </tr>\n",
              "    <tr>\n",
              "      <th>6</th>\n",
              "      <td>1</td>\n",
              "      <td>1</td>\n",
              "      <td>max</td>\n",
              "    </tr>\n",
              "    <tr>\n",
              "      <th>7</th>\n",
              "      <td>1</td>\n",
              "      <td>1</td>\n",
              "      <td>min</td>\n",
              "    </tr>\n",
              "    <tr>\n",
              "      <th>8</th>\n",
              "      <td>1</td>\n",
              "      <td>2</td>\n",
              "      <td>sum</td>\n",
              "    </tr>\n",
              "    <tr>\n",
              "      <th>9</th>\n",
              "      <td>1</td>\n",
              "      <td>2</td>\n",
              "      <td>mean</td>\n",
              "    </tr>\n",
              "    <tr>\n",
              "      <th>10</th>\n",
              "      <td>1</td>\n",
              "      <td>2</td>\n",
              "      <td>max</td>\n",
              "    </tr>\n",
              "    <tr>\n",
              "      <th>11</th>\n",
              "      <td>1</td>\n",
              "      <td>2</td>\n",
              "      <td>min</td>\n",
              "    </tr>\n",
              "    <tr>\n",
              "      <th>12</th>\n",
              "      <td>1</td>\n",
              "      <td>3</td>\n",
              "      <td>sum</td>\n",
              "    </tr>\n",
              "    <tr>\n",
              "      <th>13</th>\n",
              "      <td>1</td>\n",
              "      <td>3</td>\n",
              "      <td>mean</td>\n",
              "    </tr>\n",
              "    <tr>\n",
              "      <th>14</th>\n",
              "      <td>1</td>\n",
              "      <td>3</td>\n",
              "      <td>max</td>\n",
              "    </tr>\n",
              "    <tr>\n",
              "      <th>15</th>\n",
              "      <td>1</td>\n",
              "      <td>3</td>\n",
              "      <td>min</td>\n",
              "    </tr>\n",
              "    <tr>\n",
              "      <th>16</th>\n",
              "      <td>2</td>\n",
              "      <td>4</td>\n",
              "      <td>sum</td>\n",
              "    </tr>\n",
              "    <tr>\n",
              "      <th>17</th>\n",
              "      <td>2</td>\n",
              "      <td>4</td>\n",
              "      <td>mean</td>\n",
              "    </tr>\n",
              "    <tr>\n",
              "      <th>18</th>\n",
              "      <td>2</td>\n",
              "      <td>5</td>\n",
              "      <td>sum</td>\n",
              "    </tr>\n",
              "    <tr>\n",
              "      <th>19</th>\n",
              "      <td>2</td>\n",
              "      <td>5</td>\n",
              "      <td>mean</td>\n",
              "    </tr>\n",
              "    <tr>\n",
              "      <th>20</th>\n",
              "      <td>2</td>\n",
              "      <td>6</td>\n",
              "      <td>sum</td>\n",
              "    </tr>\n",
              "    <tr>\n",
              "      <th>21</th>\n",
              "      <td>2</td>\n",
              "      <td>6</td>\n",
              "      <td>mean</td>\n",
              "    </tr>\n",
              "    <tr>\n",
              "      <th>22</th>\n",
              "      <td>2</td>\n",
              "      <td>7</td>\n",
              "      <td>sum</td>\n",
              "    </tr>\n",
              "    <tr>\n",
              "      <th>23</th>\n",
              "      <td>2</td>\n",
              "      <td>7</td>\n",
              "      <td>mean</td>\n",
              "    </tr>\n",
              "  </tbody>\n",
              "</table>\n",
              "</div>\n",
              "      <button class=\"colab-df-convert\" onclick=\"convertToInteractive('df-4721f633-b622-44dc-9cec-a21b7e19e854')\"\n",
              "              title=\"Convert this dataframe to an interactive table.\"\n",
              "              style=\"display:none;\">\n",
              "        \n",
              "  <svg xmlns=\"http://www.w3.org/2000/svg\" height=\"24px\"viewBox=\"0 0 24 24\"\n",
              "       width=\"24px\">\n",
              "    <path d=\"M0 0h24v24H0V0z\" fill=\"none\"/>\n",
              "    <path d=\"M18.56 5.44l.94 2.06.94-2.06 2.06-.94-2.06-.94-.94-2.06-.94 2.06-2.06.94zm-11 1L8.5 8.5l.94-2.06 2.06-.94-2.06-.94L8.5 2.5l-.94 2.06-2.06.94zm10 10l.94 2.06.94-2.06 2.06-.94-2.06-.94-.94-2.06-.94 2.06-2.06.94z\"/><path d=\"M17.41 7.96l-1.37-1.37c-.4-.4-.92-.59-1.43-.59-.52 0-1.04.2-1.43.59L10.3 9.45l-7.72 7.72c-.78.78-.78 2.05 0 2.83L4 21.41c.39.39.9.59 1.41.59.51 0 1.02-.2 1.41-.59l7.78-7.78 2.81-2.81c.8-.78.8-2.07 0-2.86zM5.41 20L4 18.59l7.72-7.72 1.47 1.35L5.41 20z\"/>\n",
              "  </svg>\n",
              "      </button>\n",
              "      \n",
              "  <style>\n",
              "    .colab-df-container {\n",
              "      display:flex;\n",
              "      flex-wrap:wrap;\n",
              "      gap: 12px;\n",
              "    }\n",
              "\n",
              "    .colab-df-convert {\n",
              "      background-color: #E8F0FE;\n",
              "      border: none;\n",
              "      border-radius: 50%;\n",
              "      cursor: pointer;\n",
              "      display: none;\n",
              "      fill: #1967D2;\n",
              "      height: 32px;\n",
              "      padding: 0 0 0 0;\n",
              "      width: 32px;\n",
              "    }\n",
              "\n",
              "    .colab-df-convert:hover {\n",
              "      background-color: #E2EBFA;\n",
              "      box-shadow: 0px 1px 2px rgba(60, 64, 67, 0.3), 0px 1px 3px 1px rgba(60, 64, 67, 0.15);\n",
              "      fill: #174EA6;\n",
              "    }\n",
              "\n",
              "    [theme=dark] .colab-df-convert {\n",
              "      background-color: #3B4455;\n",
              "      fill: #D2E3FC;\n",
              "    }\n",
              "\n",
              "    [theme=dark] .colab-df-convert:hover {\n",
              "      background-color: #434B5C;\n",
              "      box-shadow: 0px 1px 3px 1px rgba(0, 0, 0, 0.15);\n",
              "      filter: drop-shadow(0px 1px 2px rgba(0, 0, 0, 0.3));\n",
              "      fill: #FFFFFF;\n",
              "    }\n",
              "  </style>\n",
              "\n",
              "      <script>\n",
              "        const buttonEl =\n",
              "          document.querySelector('#df-4721f633-b622-44dc-9cec-a21b7e19e854 button.colab-df-convert');\n",
              "        buttonEl.style.display =\n",
              "          google.colab.kernel.accessAllowed ? 'block' : 'none';\n",
              "\n",
              "        async function convertToInteractive(key) {\n",
              "          const element = document.querySelector('#df-4721f633-b622-44dc-9cec-a21b7e19e854');\n",
              "          const dataTable =\n",
              "            await google.colab.kernel.invokeFunction('convertToInteractive',\n",
              "                                                     [key], {});\n",
              "          if (!dataTable) return;\n",
              "\n",
              "          const docLinkHtml = 'Like what you see? Visit the ' +\n",
              "            '<a target=\"_blank\" href=https://colab.research.google.com/notebooks/data_table.ipynb>data table notebook</a>'\n",
              "            + ' to learn more about interactive tables.';\n",
              "          element.innerHTML = '';\n",
              "          dataTable['output_type'] = 'display_data';\n",
              "          await google.colab.output.renderOutput(dataTable, element);\n",
              "          const docLink = document.createElement('div');\n",
              "          docLink.innerHTML = docLinkHtml;\n",
              "          element.appendChild(docLink);\n",
              "        }\n",
              "      </script>\n",
              "    </div>\n",
              "  </div>\n",
              "  "
            ]
          },
          "metadata": {},
          "execution_count": 31
        }
      ],
      "source": [
        "big.merge(small,on = ['A'],how='left')"
      ]
    },
    {
      "cell_type": "markdown",
      "metadata": {
        "id": "nb8KDfx5Iw-z"
      },
      "source": [
        "Such sort of operations is aplenty in Spark where you might want to apply multiple operations to a particular key. But assuming that the key data in the Big table is large, it will involve a lot of data movement. And sometimes so much that the application itself breaks. A small optimization then you can do when joining on such big tables(assuming the other table is small) is to broadcast the small table to each machine when you perform a join. You can do this easily using the broadcast keyword."
      ]
    },
    {
      "cell_type": "code",
      "execution_count": 32,
      "metadata": {
        "id": "cvdg52xEIw-z"
      },
      "outputs": [],
      "source": [
        "from pyspark.sql.functions import broadcast\n",
        "cases = cases.join(broadcast(regions), ['province','city'],how='left')"
      ]
    },
    {
      "cell_type": "code",
      "execution_count": 33,
      "metadata": {
        "colab": {
          "base_uri": "https://localhost:8080/"
        },
        "id": "PzDM0dJ3Iw-0",
        "outputId": "c28e1a03-bd39-4a44-dc27-4ca6ac8d667f"
      },
      "outputs": [
        {
          "output_type": "execute_result",
          "data": {
            "text/plain": [
              "DataFrame[province: string, city: string, infection_case: string, confirmed: int, code: int, latitude: double, longitude: double, elementary_school_count: int, kindergarten_count: int, university_count: int, academy_ratio: double, elderly_population_ratio: double, elderly_alone_ratio: double, nursing_home_count: int, code: int, latitude: double, longitude: double, elementary_school_count: int, kindergarten_count: int, university_count: int, academy_ratio: double, elderly_population_ratio: double, elderly_alone_ratio: double, nursing_home_count: int]"
            ]
          },
          "metadata": {},
          "execution_count": 33
        }
      ],
      "source": [
        "cases"
      ]
    },
    {
      "cell_type": "markdown",
      "metadata": {
        "id": "lTopkvSlIw-0"
      },
      "source": [
        "# 3. Using SQL with Spark"
      ]
    },
    {
      "cell_type": "code",
      "execution_count": 34,
      "metadata": {
        "id": "ZpvFy0Y-Iw-0"
      },
      "outputs": [],
      "source": [
        "# Reading Original Cases Back again\n",
        "cases = spark.read.load(\"data/Case.csv\",format=\"csv\", sep=\",\", inferSchema=\"true\", header=\"true\")"
      ]
    },
    {
      "cell_type": "code",
      "execution_count": 35,
      "metadata": {
        "colab": {
          "base_uri": "https://localhost:8080/"
        },
        "id": "ckRnXioGNfFd",
        "outputId": "8e52d18e-e47e-4665-c36a-5926e16cc943"
      },
      "outputs": [
        {
          "output_type": "stream",
          "name": "stderr",
          "text": [
            "/usr/local/lib/python3.7/dist-packages/pyspark/sql/context.py:79: FutureWarning: Deprecated in 3.0.0. Use SparkSession.builder.getOrCreate() instead.\n",
            "  FutureWarning\n"
          ]
        },
        {
          "output_type": "execute_result",
          "data": {
            "text/plain": [
              "<pyspark.sql.context.SQLContext at 0x7f226ca543d0>"
            ]
          },
          "metadata": {},
          "execution_count": 35
        }
      ],
      "source": [
        "from pyspark.sql import SQLContext\n",
        "sqlContext = SQLContext(spark)\n",
        "sqlContext"
      ]
    },
    {
      "cell_type": "markdown",
      "metadata": {
        "id": "hSHl9lrvSv4P"
      },
      "source": [
        "We first register the cases dataframe to a temporary table cases_table on which we can run SQL operations."
      ]
    },
    {
      "cell_type": "code",
      "execution_count": 36,
      "metadata": {
        "colab": {
          "base_uri": "https://localhost:8080/"
        },
        "id": "4M3RbjxqIw-0",
        "outputId": "00c1a3f9-43f5-4483-bd7b-f78fb249e251"
      },
      "outputs": [
        {
          "output_type": "stream",
          "name": "stderr",
          "text": [
            "/usr/local/lib/python3.7/dist-packages/pyspark/sql/dataframe.py:140: FutureWarning: Deprecated in 2.0, use createOrReplaceTempView instead.\n",
            "  FutureWarning\n"
          ]
        }
      ],
      "source": [
        "cases.registerTempTable('cases_table')\n",
        "newDF = sqlContext.sql('select * from cases_table where confirmed>100')"
      ]
    },
    {
      "cell_type": "code",
      "execution_count": 37,
      "metadata": {
        "colab": {
          "base_uri": "https://localhost:8080/"
        },
        "id": "f3XLn2n4Iw-0",
        "outputId": "7fbb9b19-7d17-4adb-b129-356f66b2a8dc"
      },
      "outputs": [
        {
          "output_type": "stream",
          "name": "stdout",
          "text": [
            "+-------+-----------------+---------------+-----+--------------------+---------+---------+----------+\n",
            "|case_id|         province|           city|group|      infection_case|confirmed| latitude| longitude|\n",
            "+-------+-----------------+---------------+-----+--------------------+---------+---------+----------+\n",
            "|1000010|            Seoul|              -|false|     overseas inflow|      321|        -|         -|\n",
            "|1200001|            Daegu|         Nam-gu| true|  Shincheonji Church|     4510| 35.84008|  128.5667|\n",
            "|1200002|            Daegu|   Dalseong-gun| true|Second Mi-Ju Hosp...|      196|35.857375|128.466651|\n",
            "|1200003|            Daegu|         Seo-gu| true|Hansarang Convale...|      128|35.885592|128.556649|\n",
            "|1200008|            Daegu|              -|false|contact with patient|      929|        -|         -|\n",
            "|1200009|            Daegu|              -|false|                 etc|      724|        -|         -|\n",
            "|2000007|      Gyeonggi-do|              -|false|     overseas inflow|      225|        -|         -|\n",
            "|4100001|Chungcheongnam-do|     Cheonan-si| true|gym facility in C...|      103| 36.81503|  127.1139|\n",
            "|6000001| Gyeongsangbuk-do|from other city| true|  Shincheonji Church|      566|        -|         -|\n",
            "|6000002| Gyeongsangbuk-do|   Cheongdo-gun| true|Cheongdo Daenam H...|      120| 35.64887|  128.7368|\n",
            "|6000011| Gyeongsangbuk-do|              -|false|contact with patient|      192|        -|         -|\n",
            "|6000012| Gyeongsangbuk-do|              -|false|                 etc|      134|        -|         -|\n",
            "+-------+-----------------+---------------+-----+--------------------+---------+---------+----------+\n",
            "\n"
          ]
        }
      ],
      "source": [
        "newDF.show()"
      ]
    },
    {
      "cell_type": "markdown",
      "metadata": {
        "id": "rlmc4uWzIw-1"
      },
      "source": [
        "# 4. Create New Columns"
      ]
    },
    {
      "cell_type": "markdown",
      "metadata": {
        "id": "6iMK5WSoSv4Q"
      },
      "source": [
        "There are many ways that you can use to create a column in a PySpark Dataframe. I will try to show the most usable of them.\n",
        "\n",
        "Using Spark Native Functions\n",
        "The most pysparkish way to create a new column in a PySpark DataFrame is by using built-in functions. This is the most performant programmatical way to create a new column, so this is the first place I go whenever I want to do some column manipulation.\n",
        "\n",
        "We can use .withcolumn along with PySpark SQL functions to create a new column. In essence, you can find String functions, Date functions, and Math functions already implemented using Spark functions. Our first function, the F.col function gives us access to the column. So if we wanted to add 100 to a column, we could use F.col"
      ]
    },
    {
      "cell_type": "markdown",
      "metadata": {
        "id": "mao2yRr3Iw-7"
      },
      "source": [
        "## Using Spark Native Functions"
      ]
    },
    {
      "cell_type": "code",
      "execution_count": 38,
      "metadata": {
        "colab": {
          "base_uri": "https://localhost:8080/"
        },
        "id": "VNiDHGPDIw-7",
        "outputId": "e49dac37-d66d-4b94-aece-6df2564062fd"
      },
      "outputs": [
        {
          "output_type": "stream",
          "name": "stdout",
          "text": [
            "+-------+--------+---------------+-----+--------------------+---------+---------+----------+------------+\n",
            "|case_id|province|           city|group|      infection_case|confirmed| latitude| longitude|NewConfirmed|\n",
            "+-------+--------+---------------+-----+--------------------+---------+---------+----------+------------+\n",
            "|1000001|   Seoul|     Yongsan-gu| true|       Itaewon Clubs|       72|37.538621|126.992652|         172|\n",
            "|1000002|   Seoul|        Guro-gu| true| Guro-gu Call Center|       98|37.508163|126.884387|         198|\n",
            "|1000003|   Seoul|  Dongdaemun-gu| true|       Dongan Church|       20|37.592888|127.056766|         120|\n",
            "|1000004|   Seoul|        Guro-gu| true|Manmin Central Ch...|       41|37.481059|126.894343|         141|\n",
            "|1000005|   Seoul|   Eunpyeong-gu| true|Eunpyeong St. Mar...|       14| 37.63369|  126.9165|         114|\n",
            "|1000006|   Seoul|   Seongdong-gu| true|    Seongdong-gu APT|       13| 37.55713|  127.0403|         113|\n",
            "|1000007|   Seoul|      Jongno-gu| true|Jongno Community ...|       10| 37.57681|   127.006|         110|\n",
            "|1000008|   Seoul|        Jung-gu| true|Jung-gu Fashion C...|        7|37.562405|126.984377|         107|\n",
            "|1000009|   Seoul|from other city| true|  Shincheonji Church|        8|        -|         -|         108|\n",
            "|1000010|   Seoul|              -|false|     overseas inflow|      321|        -|         -|         421|\n",
            "|1000011|   Seoul|              -|false|contact with patient|       18|        -|         -|         118|\n",
            "|1000012|   Seoul|              -|false|                 etc|       24|        -|         -|         124|\n",
            "|1100001|   Busan|     Dongnae-gu| true|       Onchun Church|       39| 35.21628|  129.0771|         139|\n",
            "|1100002|   Busan|from other city| true|  Shincheonji Church|       12|        -|         -|         112|\n",
            "|1100003|   Busan|     Suyeong-gu| true|Suyeong-gu Kinder...|        5| 35.16708|  129.1124|         105|\n",
            "|1100004|   Busan|    Haeundae-gu| true|Haeundae-gu Catho...|        6| 35.20599|  129.1256|         106|\n",
            "|1100005|   Busan|         Jin-gu| true|      Jin-gu Academy|        4| 35.17371|  129.0633|         104|\n",
            "|1100006|   Busan|from other city| true|Cheongdo Daenam H...|        1|        -|         -|         101|\n",
            "|1100007|   Busan|              -|false|     overseas inflow|       25|        -|         -|         125|\n",
            "|1100008|   Busan|              -|false|contact with patient|       18|        -|         -|         118|\n",
            "+-------+--------+---------------+-----+--------------------+---------+---------+----------+------------+\n",
            "only showing top 20 rows\n",
            "\n"
          ]
        }
      ],
      "source": [
        "casesWithNewConfirmed = cases.withColumn(\"NewConfirmed\", 100 + F.col(\"confirmed\"))\n",
        "casesWithNewConfirmed.show()"
      ]
    },
    {
      "cell_type": "code",
      "execution_count": 39,
      "metadata": {
        "colab": {
          "base_uri": "https://localhost:8080/"
        },
        "id": "ponOXriKIw-7",
        "outputId": "21d42050-e100-4645-ac31-bbdede61d05d"
      },
      "outputs": [
        {
          "output_type": "stream",
          "name": "stdout",
          "text": [
            "+-------+--------+---------------+-----+--------------------+---------+---------+----------+--------------------+\n",
            "|case_id|province|           city|group|      infection_case|confirmed| latitude| longitude|        ExpConfirmed|\n",
            "+-------+--------+---------------+-----+--------------------+---------+---------+----------+--------------------+\n",
            "|1000001|   Seoul|     Yongsan-gu| true|       Itaewon Clubs|       72|37.538621|126.992652|1.858671745284127...|\n",
            "|1000002|   Seoul|        Guro-gu| true| Guro-gu Call Center|       98|37.508163|126.884387|3.637970947608805E42|\n",
            "|1000003|   Seoul|  Dongdaemun-gu| true|       Dongan Church|       20|37.592888|127.056766| 4.851651954097903E8|\n",
            "|1000004|   Seoul|        Guro-gu| true|Manmin Central Ch...|       41|37.481059|126.894343|6.398434935300549...|\n",
            "|1000005|   Seoul|   Eunpyeong-gu| true|Eunpyeong St. Mar...|       14| 37.63369|  126.9165|  1202604.2841647768|\n",
            "|1000006|   Seoul|   Seongdong-gu| true|    Seongdong-gu APT|       13| 37.55713|  127.0403|   442413.3920089205|\n",
            "|1000007|   Seoul|      Jongno-gu| true|Jongno Community ...|       10| 37.57681|   127.006|  22026.465794806718|\n",
            "|1000008|   Seoul|        Jung-gu| true|Jung-gu Fashion C...|        7|37.562405|126.984377|  1096.6331584284585|\n",
            "|1000009|   Seoul|from other city| true|  Shincheonji Church|        8|        -|         -|  2980.9579870417283|\n",
            "|1000010|   Seoul|              -|false|     overseas inflow|      321|        -|         -|2.56170249311968E139|\n",
            "|1000011|   Seoul|              -|false|contact with patient|       18|        -|         -| 6.565996913733051E7|\n",
            "|1000012|   Seoul|              -|false|                 etc|       24|        -|         -|2.648912212984347E10|\n",
            "|1100001|   Busan|     Dongnae-gu| true|       Onchun Church|       39| 35.21628|  129.0771|8.659340042399374...|\n",
            "|1100002|   Busan|from other city| true|  Shincheonji Church|       12|        -|         -|  162754.79141900392|\n",
            "|1100003|   Busan|     Suyeong-gu| true|Suyeong-gu Kinder...|        5| 35.16708|  129.1124|   148.4131591025766|\n",
            "|1100004|   Busan|    Haeundae-gu| true|Haeundae-gu Catho...|        6| 35.20599|  129.1256|   403.4287934927351|\n",
            "|1100005|   Busan|         Jin-gu| true|      Jin-gu Academy|        4| 35.17371|  129.0633|  54.598150033144236|\n",
            "|1100006|   Busan|from other city| true|Cheongdo Daenam H...|        1|        -|         -|  2.7182818284590455|\n",
            "|1100007|   Busan|              -|false|     overseas inflow|       25|        -|         -|7.200489933738588E10|\n",
            "|1100008|   Busan|              -|false|contact with patient|       18|        -|         -| 6.565996913733051E7|\n",
            "+-------+--------+---------------+-----+--------------------+---------+---------+----------+--------------------+\n",
            "only showing top 20 rows\n",
            "\n"
          ]
        }
      ],
      "source": [
        "casesWithExpConfirmed = cases.withColumn(\"ExpConfirmed\", F.exp(\"confirmed\"))\n",
        "casesWithExpConfirmed.show()"
      ]
    },
    {
      "cell_type": "markdown",
      "metadata": {
        "id": "6EuCyoo7Iw-7"
      },
      "source": [
        "## Spark UDFs"
      ]
    },
    {
      "cell_type": "markdown",
      "metadata": {
        "id": "N4Sxh6kiSv4Q"
      },
      "source": [
        "Sometimes we want to do complicated things to a column or multiple columns. This could be thought of as a map operation on a PySpark Dataframe to a single column or multiple columns. While Spark SQL functions do solve many use cases when it comes to column creation, we can use Spark UDF whenever we need more matured Python functionality.\n",
        "\n",
        "To use Spark UDFs, we need to use the F.udf function to convert a regular python function to a Spark UDF. We also need to specify the return type of the function. In this example the return type is StringType()"
      ]
    },
    {
      "cell_type": "code",
      "execution_count": 40,
      "metadata": {
        "colab": {
          "base_uri": "https://localhost:8080/"
        },
        "id": "IR4b_DguIw-7",
        "outputId": "656a7b98-4094-41d8-bc4e-3e2f22a4f235"
      },
      "outputs": [
        {
          "output_type": "stream",
          "name": "stdout",
          "text": [
            "+-------+--------+---------------+-----+--------------------+---------+---------+----------+-------+\n",
            "|case_id|province|           city|group|      infection_case|confirmed| latitude| longitude|HighLow|\n",
            "+-------+--------+---------------+-----+--------------------+---------+---------+----------+-------+\n",
            "|1000001|   Seoul|     Yongsan-gu| true|       Itaewon Clubs|       72|37.538621|126.992652|   high|\n",
            "|1000002|   Seoul|        Guro-gu| true| Guro-gu Call Center|       98|37.508163|126.884387|   high|\n",
            "|1000003|   Seoul|  Dongdaemun-gu| true|       Dongan Church|       20|37.592888|127.056766|    low|\n",
            "|1000004|   Seoul|        Guro-gu| true|Manmin Central Ch...|       41|37.481059|126.894343|    low|\n",
            "|1000005|   Seoul|   Eunpyeong-gu| true|Eunpyeong St. Mar...|       14| 37.63369|  126.9165|    low|\n",
            "|1000006|   Seoul|   Seongdong-gu| true|    Seongdong-gu APT|       13| 37.55713|  127.0403|    low|\n",
            "|1000007|   Seoul|      Jongno-gu| true|Jongno Community ...|       10| 37.57681|   127.006|    low|\n",
            "|1000008|   Seoul|        Jung-gu| true|Jung-gu Fashion C...|        7|37.562405|126.984377|    low|\n",
            "|1000009|   Seoul|from other city| true|  Shincheonji Church|        8|        -|         -|    low|\n",
            "|1000010|   Seoul|              -|false|     overseas inflow|      321|        -|         -|   high|\n",
            "|1000011|   Seoul|              -|false|contact with patient|       18|        -|         -|    low|\n",
            "|1000012|   Seoul|              -|false|                 etc|       24|        -|         -|    low|\n",
            "|1100001|   Busan|     Dongnae-gu| true|       Onchun Church|       39| 35.21628|  129.0771|    low|\n",
            "|1100002|   Busan|from other city| true|  Shincheonji Church|       12|        -|         -|    low|\n",
            "|1100003|   Busan|     Suyeong-gu| true|Suyeong-gu Kinder...|        5| 35.16708|  129.1124|    low|\n",
            "|1100004|   Busan|    Haeundae-gu| true|Haeundae-gu Catho...|        6| 35.20599|  129.1256|    low|\n",
            "|1100005|   Busan|         Jin-gu| true|      Jin-gu Academy|        4| 35.17371|  129.0633|    low|\n",
            "|1100006|   Busan|from other city| true|Cheongdo Daenam H...|        1|        -|         -|    low|\n",
            "|1100007|   Busan|              -|false|     overseas inflow|       25|        -|         -|    low|\n",
            "|1100008|   Busan|              -|false|contact with patient|       18|        -|         -|    low|\n",
            "+-------+--------+---------------+-----+--------------------+---------+---------+----------+-------+\n",
            "only showing top 20 rows\n",
            "\n"
          ]
        }
      ],
      "source": [
        "import pyspark.sql.functions as F\n",
        "from pyspark.sql.types import *\n",
        "def casesHighLow(confirmed):\n",
        "    if confirmed < 50: \n",
        "        return 'low'\n",
        "    else:\n",
        "        return 'high'\n",
        "    \n",
        "#convert to a UDF Function by passing in the function and return type of function\n",
        "casesHighLowUDF = F.udf(casesHighLow, StringType())\n",
        "\n",
        "CasesWithHighLow = cases.withColumn(\"HighLow\", casesHighLowUDF(\"confirmed\"))\n",
        "CasesWithHighLow.show()"
      ]
    },
    {
      "cell_type": "markdown",
      "metadata": {
        "id": "CgoivqSlIw-7"
      },
      "source": [
        "## Using RDDs"
      ]
    },
    {
      "cell_type": "code",
      "execution_count": 41,
      "metadata": {
        "colab": {
          "base_uri": "https://localhost:8080/"
        },
        "id": "g04IvBW4Iw-8",
        "outputId": "b89558ee-37a7-4228-d9a4-05c0e791a81b"
      },
      "outputs": [
        {
          "output_type": "stream",
          "name": "stdout",
          "text": [
            "+-------+--------+---------------+-----+--------------------+---------+---------+----------+--------------------+\n",
            "|case_id|province|           city|group|      infection_case|confirmed| latitude| longitude|        expConfirmed|\n",
            "+-------+--------+---------------+-----+--------------------+---------+---------+----------+--------------------+\n",
            "|1000001|   Seoul|     Yongsan-gu| true|       Itaewon Clubs|       72|37.538621|126.992652|1.858671745284127...|\n",
            "|1000002|   Seoul|        Guro-gu| true| Guro-gu Call Center|       98|37.508163|126.884387|3.637970947608805E42|\n",
            "|1000003|   Seoul|  Dongdaemun-gu| true|       Dongan Church|       20|37.592888|127.056766| 4.851651954097903E8|\n",
            "|1000004|   Seoul|        Guro-gu| true|Manmin Central Ch...|       41|37.481059|126.894343|6.398434935300549...|\n",
            "|1000005|   Seoul|   Eunpyeong-gu| true|Eunpyeong St. Mar...|       14| 37.63369|  126.9165|  1202604.2841647768|\n",
            "|1000006|   Seoul|   Seongdong-gu| true|    Seongdong-gu APT|       13| 37.55713|  127.0403|   442413.3920089205|\n",
            "|1000007|   Seoul|      Jongno-gu| true|Jongno Community ...|       10| 37.57681|   127.006|  22026.465794806718|\n",
            "|1000008|   Seoul|        Jung-gu| true|Jung-gu Fashion C...|        7|37.562405|126.984377|  1096.6331584284585|\n",
            "|1000009|   Seoul|from other city| true|  Shincheonji Church|        8|        -|         -|  2980.9579870417283|\n",
            "|1000010|   Seoul|              -|false|     overseas inflow|      321|        -|         -|2.56170249311968E139|\n",
            "|1000011|   Seoul|              -|false|contact with patient|       18|        -|         -| 6.565996913733051E7|\n",
            "|1000012|   Seoul|              -|false|                 etc|       24|        -|         -|2.648912212984347E10|\n",
            "|1100001|   Busan|     Dongnae-gu| true|       Onchun Church|       39| 35.21628|  129.0771|8.659340042399374...|\n",
            "|1100002|   Busan|from other city| true|  Shincheonji Church|       12|        -|         -|  162754.79141900392|\n",
            "|1100003|   Busan|     Suyeong-gu| true|Suyeong-gu Kinder...|        5| 35.16708|  129.1124|   148.4131591025766|\n",
            "|1100004|   Busan|    Haeundae-gu| true|Haeundae-gu Catho...|        6| 35.20599|  129.1256|   403.4287934927351|\n",
            "|1100005|   Busan|         Jin-gu| true|      Jin-gu Academy|        4| 35.17371|  129.0633|  54.598150033144236|\n",
            "|1100006|   Busan|from other city| true|Cheongdo Daenam H...|        1|        -|         -|   2.718281828459045|\n",
            "|1100007|   Busan|              -|false|     overseas inflow|       25|        -|         -|7.200489933738588E10|\n",
            "|1100008|   Busan|              -|false|contact with patient|       18|        -|         -| 6.565996913733051E7|\n",
            "+-------+--------+---------------+-----+--------------------+---------+---------+----------+--------------------+\n",
            "only showing top 20 rows\n",
            "\n"
          ]
        }
      ],
      "source": [
        "import math\n",
        "from pyspark.sql import Row\n",
        "def rowwise_function(row):\n",
        "    # convert row to python dictionary:\n",
        "    row_dict = row.asDict()\n",
        "    # Add a new key in the dictionary with the new column name and value.\n",
        "    # This might be a big complex function.\n",
        "    row_dict['expConfirmed'] = float(np.exp(row_dict['confirmed']))\n",
        "    # convert dict to row back again:\n",
        "    newrow = Row(**row_dict)\n",
        "    # return new row\n",
        "    return newrow\n",
        "\n",
        "# convert cases dataframe to RDD\n",
        "cases_rdd = cases.rdd\n",
        "\n",
        "# apply our function to RDD\n",
        "cases_rdd_new = cases_rdd.map(lambda row: rowwise_function(row))\n",
        "\n",
        "# Convert RDD Back to DataFrame\n",
        "casesNewDf = sqlContext.createDataFrame(cases_rdd_new)\n",
        "\n",
        "casesNewDf.show()"
      ]
    },
    {
      "cell_type": "markdown",
      "metadata": {
        "id": "tMUCqKcDIw-8"
      },
      "source": [
        "## Pandas UDF"
      ]
    },
    {
      "cell_type": "markdown",
      "metadata": {
        "id": "z0zLANSfSv4R"
      },
      "source": [
        "This functionality was introduced in the Spark version 2.3.1. And this allows us to use pandas functionality with Spark. We generally use it when we have to run a groupBy operation on a Spark dataframe or whenever we need to create rolling features and want to use Pandas rolling functions/window functions rather than Spark window functions.\n",
        "\n",
        "The way we use it is by using the F.pandas_udf decorator. We assume here that the input to the function will be a pandas data frame. And we need to return a pandas dataframe in turn from this function.\n",
        "\n",
        "The only complexity here is that we have to provide a schema for the output Dataframe. We can use the original schema of a dataframe to create the outSchema."
      ]
    },
    {
      "cell_type": "code",
      "execution_count": 42,
      "metadata": {
        "colab": {
          "base_uri": "https://localhost:8080/"
        },
        "id": "fzgUXtpDIw-8",
        "outputId": "8b6f243d-82ea-4e0b-d813-a7fede5b2d25"
      },
      "outputs": [
        {
          "output_type": "stream",
          "name": "stdout",
          "text": [
            "root\n",
            " |-- case_id: integer (nullable = true)\n",
            " |-- province: string (nullable = true)\n",
            " |-- city: string (nullable = true)\n",
            " |-- group: boolean (nullable = true)\n",
            " |-- infection_case: string (nullable = true)\n",
            " |-- confirmed: integer (nullable = true)\n",
            " |-- latitude: string (nullable = true)\n",
            " |-- longitude: string (nullable = true)\n",
            "\n"
          ]
        }
      ],
      "source": [
        "cases.printSchema()"
      ]
    },
    {
      "cell_type": "markdown",
      "metadata": {
        "id": "qvIx_9QASv4S"
      },
      "source": [
        "Here we are  using Pandas UDF to get normalized confirmed cases grouped by infection_case. The main advantage here is that we get to work with pandas dataframes in Spark."
      ]
    },
    {
      "cell_type": "code",
      "execution_count": 43,
      "metadata": {
        "colab": {
          "base_uri": "https://localhost:8080/",
          "height": 418
        },
        "id": "LRCsbypmIw-8",
        "outputId": "67036cb0-eb01-45ea-c58f-15a33d0f906a"
      },
      "outputs": [
        {
          "output_type": "stream",
          "name": "stderr",
          "text": [
            "/usr/local/lib/python3.7/dist-packages/pyspark/sql/pandas/group_ops.py:84: UserWarning: It is preferred to use 'applyInPandas' over this API. This API will be deprecated in the future releases. See SPARK-28264 for more details.\n",
            "  \"more details.\", UserWarning)\n"
          ]
        },
        {
          "output_type": "execute_result",
          "data": {
            "text/plain": [
              "   case_id          province             city  group  \\\n",
              "0  6000003  Gyeongsangbuk-do      Bonghwa-gun   True   \n",
              "1  2000005       Gyeonggi-do      Seongnam-si   True   \n",
              "2  6100006  Gyeongsangnam-do  Changnyeong-gun   True   \n",
              "3  1100006             Busan  from other city   True   \n",
              "4  1200006             Daegu  from other city   True   \n",
              "5  6000002  Gyeongsangbuk-do     Cheongdo-gun   True   \n",
              "6  1200004             Daegu     Dalseong-gun   True   \n",
              "7  1000003             Seoul    Dongdaemun-gu   True   \n",
              "8  1000005             Seoul     Eunpyeong-gu   True   \n",
              "9  1200005             Daegu          Dong-gu   True   \n",
              "\n",
              "                  infection_case  confirmed   latitude   longitude  \\\n",
              "0    Bonghwa Pureun Nursing Home         68   36.92757    128.9099   \n",
              "1       Bundang Jesaeng Hospital         22   37.38833    127.1218   \n",
              "2       Changnyeong Coin Karaoke          7   35.54127    128.5008   \n",
              "3       Cheongdo Daenam Hospital          1          -           -   \n",
              "4       Cheongdo Daenam Hospital          2          -           -   \n",
              "5       Cheongdo Daenam Hospital        120   35.64887    128.7368   \n",
              "6   Daesil Convalescent Hospital        100  35.857393  128.466653   \n",
              "7                  Dongan Church         20  37.592888  127.056766   \n",
              "8  Eunpyeong St. Mary's Hospital         14   37.63369    126.9165   \n",
              "9                Fatima Hospital         37   35.88395  128.624059   \n",
              "\n",
              "   normalized_confirmed  \n",
              "0                   0.0  \n",
              "1                   0.0  \n",
              "2                   0.0  \n",
              "3                 -40.0  \n",
              "4                 -39.0  \n",
              "5                  79.0  \n",
              "6                   0.0  \n",
              "7                   0.0  \n",
              "8                   0.0  \n",
              "9                   0.0  "
            ],
            "text/html": [
              "\n",
              "  <div id=\"df-6f72185a-aacb-4414-a7a7-1d005932e159\">\n",
              "    <div class=\"colab-df-container\">\n",
              "      <div>\n",
              "<style scoped>\n",
              "    .dataframe tbody tr th:only-of-type {\n",
              "        vertical-align: middle;\n",
              "    }\n",
              "\n",
              "    .dataframe tbody tr th {\n",
              "        vertical-align: top;\n",
              "    }\n",
              "\n",
              "    .dataframe thead th {\n",
              "        text-align: right;\n",
              "    }\n",
              "</style>\n",
              "<table border=\"1\" class=\"dataframe\">\n",
              "  <thead>\n",
              "    <tr style=\"text-align: right;\">\n",
              "      <th></th>\n",
              "      <th>case_id</th>\n",
              "      <th>province</th>\n",
              "      <th>city</th>\n",
              "      <th>group</th>\n",
              "      <th>infection_case</th>\n",
              "      <th>confirmed</th>\n",
              "      <th>latitude</th>\n",
              "      <th>longitude</th>\n",
              "      <th>normalized_confirmed</th>\n",
              "    </tr>\n",
              "  </thead>\n",
              "  <tbody>\n",
              "    <tr>\n",
              "      <th>0</th>\n",
              "      <td>6000003</td>\n",
              "      <td>Gyeongsangbuk-do</td>\n",
              "      <td>Bonghwa-gun</td>\n",
              "      <td>True</td>\n",
              "      <td>Bonghwa Pureun Nursing Home</td>\n",
              "      <td>68</td>\n",
              "      <td>36.92757</td>\n",
              "      <td>128.9099</td>\n",
              "      <td>0.0</td>\n",
              "    </tr>\n",
              "    <tr>\n",
              "      <th>1</th>\n",
              "      <td>2000005</td>\n",
              "      <td>Gyeonggi-do</td>\n",
              "      <td>Seongnam-si</td>\n",
              "      <td>True</td>\n",
              "      <td>Bundang Jesaeng Hospital</td>\n",
              "      <td>22</td>\n",
              "      <td>37.38833</td>\n",
              "      <td>127.1218</td>\n",
              "      <td>0.0</td>\n",
              "    </tr>\n",
              "    <tr>\n",
              "      <th>2</th>\n",
              "      <td>6100006</td>\n",
              "      <td>Gyeongsangnam-do</td>\n",
              "      <td>Changnyeong-gun</td>\n",
              "      <td>True</td>\n",
              "      <td>Changnyeong Coin Karaoke</td>\n",
              "      <td>7</td>\n",
              "      <td>35.54127</td>\n",
              "      <td>128.5008</td>\n",
              "      <td>0.0</td>\n",
              "    </tr>\n",
              "    <tr>\n",
              "      <th>3</th>\n",
              "      <td>1100006</td>\n",
              "      <td>Busan</td>\n",
              "      <td>from other city</td>\n",
              "      <td>True</td>\n",
              "      <td>Cheongdo Daenam Hospital</td>\n",
              "      <td>1</td>\n",
              "      <td>-</td>\n",
              "      <td>-</td>\n",
              "      <td>-40.0</td>\n",
              "    </tr>\n",
              "    <tr>\n",
              "      <th>4</th>\n",
              "      <td>1200006</td>\n",
              "      <td>Daegu</td>\n",
              "      <td>from other city</td>\n",
              "      <td>True</td>\n",
              "      <td>Cheongdo Daenam Hospital</td>\n",
              "      <td>2</td>\n",
              "      <td>-</td>\n",
              "      <td>-</td>\n",
              "      <td>-39.0</td>\n",
              "    </tr>\n",
              "    <tr>\n",
              "      <th>5</th>\n",
              "      <td>6000002</td>\n",
              "      <td>Gyeongsangbuk-do</td>\n",
              "      <td>Cheongdo-gun</td>\n",
              "      <td>True</td>\n",
              "      <td>Cheongdo Daenam Hospital</td>\n",
              "      <td>120</td>\n",
              "      <td>35.64887</td>\n",
              "      <td>128.7368</td>\n",
              "      <td>79.0</td>\n",
              "    </tr>\n",
              "    <tr>\n",
              "      <th>6</th>\n",
              "      <td>1200004</td>\n",
              "      <td>Daegu</td>\n",
              "      <td>Dalseong-gun</td>\n",
              "      <td>True</td>\n",
              "      <td>Daesil Convalescent Hospital</td>\n",
              "      <td>100</td>\n",
              "      <td>35.857393</td>\n",
              "      <td>128.466653</td>\n",
              "      <td>0.0</td>\n",
              "    </tr>\n",
              "    <tr>\n",
              "      <th>7</th>\n",
              "      <td>1000003</td>\n",
              "      <td>Seoul</td>\n",
              "      <td>Dongdaemun-gu</td>\n",
              "      <td>True</td>\n",
              "      <td>Dongan Church</td>\n",
              "      <td>20</td>\n",
              "      <td>37.592888</td>\n",
              "      <td>127.056766</td>\n",
              "      <td>0.0</td>\n",
              "    </tr>\n",
              "    <tr>\n",
              "      <th>8</th>\n",
              "      <td>1000005</td>\n",
              "      <td>Seoul</td>\n",
              "      <td>Eunpyeong-gu</td>\n",
              "      <td>True</td>\n",
              "      <td>Eunpyeong St. Mary's Hospital</td>\n",
              "      <td>14</td>\n",
              "      <td>37.63369</td>\n",
              "      <td>126.9165</td>\n",
              "      <td>0.0</td>\n",
              "    </tr>\n",
              "    <tr>\n",
              "      <th>9</th>\n",
              "      <td>1200005</td>\n",
              "      <td>Daegu</td>\n",
              "      <td>Dong-gu</td>\n",
              "      <td>True</td>\n",
              "      <td>Fatima Hospital</td>\n",
              "      <td>37</td>\n",
              "      <td>35.88395</td>\n",
              "      <td>128.624059</td>\n",
              "      <td>0.0</td>\n",
              "    </tr>\n",
              "  </tbody>\n",
              "</table>\n",
              "</div>\n",
              "      <button class=\"colab-df-convert\" onclick=\"convertToInteractive('df-6f72185a-aacb-4414-a7a7-1d005932e159')\"\n",
              "              title=\"Convert this dataframe to an interactive table.\"\n",
              "              style=\"display:none;\">\n",
              "        \n",
              "  <svg xmlns=\"http://www.w3.org/2000/svg\" height=\"24px\"viewBox=\"0 0 24 24\"\n",
              "       width=\"24px\">\n",
              "    <path d=\"M0 0h24v24H0V0z\" fill=\"none\"/>\n",
              "    <path d=\"M18.56 5.44l.94 2.06.94-2.06 2.06-.94-2.06-.94-.94-2.06-.94 2.06-2.06.94zm-11 1L8.5 8.5l.94-2.06 2.06-.94-2.06-.94L8.5 2.5l-.94 2.06-2.06.94zm10 10l.94 2.06.94-2.06 2.06-.94-2.06-.94-.94-2.06-.94 2.06-2.06.94z\"/><path d=\"M17.41 7.96l-1.37-1.37c-.4-.4-.92-.59-1.43-.59-.52 0-1.04.2-1.43.59L10.3 9.45l-7.72 7.72c-.78.78-.78 2.05 0 2.83L4 21.41c.39.39.9.59 1.41.59.51 0 1.02-.2 1.41-.59l7.78-7.78 2.81-2.81c.8-.78.8-2.07 0-2.86zM5.41 20L4 18.59l7.72-7.72 1.47 1.35L5.41 20z\"/>\n",
              "  </svg>\n",
              "      </button>\n",
              "      \n",
              "  <style>\n",
              "    .colab-df-container {\n",
              "      display:flex;\n",
              "      flex-wrap:wrap;\n",
              "      gap: 12px;\n",
              "    }\n",
              "\n",
              "    .colab-df-convert {\n",
              "      background-color: #E8F0FE;\n",
              "      border: none;\n",
              "      border-radius: 50%;\n",
              "      cursor: pointer;\n",
              "      display: none;\n",
              "      fill: #1967D2;\n",
              "      height: 32px;\n",
              "      padding: 0 0 0 0;\n",
              "      width: 32px;\n",
              "    }\n",
              "\n",
              "    .colab-df-convert:hover {\n",
              "      background-color: #E2EBFA;\n",
              "      box-shadow: 0px 1px 2px rgba(60, 64, 67, 0.3), 0px 1px 3px 1px rgba(60, 64, 67, 0.15);\n",
              "      fill: #174EA6;\n",
              "    }\n",
              "\n",
              "    [theme=dark] .colab-df-convert {\n",
              "      background-color: #3B4455;\n",
              "      fill: #D2E3FC;\n",
              "    }\n",
              "\n",
              "    [theme=dark] .colab-df-convert:hover {\n",
              "      background-color: #434B5C;\n",
              "      box-shadow: 0px 1px 3px 1px rgba(0, 0, 0, 0.15);\n",
              "      filter: drop-shadow(0px 1px 2px rgba(0, 0, 0, 0.3));\n",
              "      fill: #FFFFFF;\n",
              "    }\n",
              "  </style>\n",
              "\n",
              "      <script>\n",
              "        const buttonEl =\n",
              "          document.querySelector('#df-6f72185a-aacb-4414-a7a7-1d005932e159 button.colab-df-convert');\n",
              "        buttonEl.style.display =\n",
              "          google.colab.kernel.accessAllowed ? 'block' : 'none';\n",
              "\n",
              "        async function convertToInteractive(key) {\n",
              "          const element = document.querySelector('#df-6f72185a-aacb-4414-a7a7-1d005932e159');\n",
              "          const dataTable =\n",
              "            await google.colab.kernel.invokeFunction('convertToInteractive',\n",
              "                                                     [key], {});\n",
              "          if (!dataTable) return;\n",
              "\n",
              "          const docLinkHtml = 'Like what you see? Visit the ' +\n",
              "            '<a target=\"_blank\" href=https://colab.research.google.com/notebooks/data_table.ipynb>data table notebook</a>'\n",
              "            + ' to learn more about interactive tables.';\n",
              "          element.innerHTML = '';\n",
              "          dataTable['output_type'] = 'display_data';\n",
              "          await google.colab.output.renderOutput(dataTable, element);\n",
              "          const docLink = document.createElement('div');\n",
              "          docLink.innerHTML = docLinkHtml;\n",
              "          element.appendChild(docLink);\n",
              "        }\n",
              "      </script>\n",
              "    </div>\n",
              "  </div>\n",
              "  "
            ]
          },
          "metadata": {},
          "execution_count": 43
        }
      ],
      "source": [
        "from pyspark.sql.types import IntegerType, StringType, DoubleType, BooleanType\n",
        "from pyspark.sql.types import StructType, StructField\n",
        "\n",
        "# Declare the schema for the output of our function\n",
        "\n",
        "outSchema = StructType([StructField('case_id',IntegerType(),True),\n",
        "                        StructField('province',StringType(),True),\n",
        "                        StructField('city',StringType(),True),\n",
        "                        StructField('group',BooleanType(),True),\n",
        "                        StructField('infection_case',StringType(),True),\n",
        "                        StructField('confirmed',IntegerType(),True),\n",
        "                        StructField('latitude',StringType(),True),\n",
        "                        StructField('longitude',StringType(),True),\n",
        "                        StructField('normalized_confirmed',DoubleType(),True)\n",
        "                       ])\n",
        "# decorate our function with pandas_udf decorator\n",
        "@F.pandas_udf(outSchema, F.PandasUDFType.GROUPED_MAP)\n",
        "def subtract_mean(pdf):\n",
        "    # pdf is a pandas.DataFrame\n",
        "    v = pdf.confirmed\n",
        "    v = v - v.mean()\n",
        "    pdf['normalized_confirmed'] = v\n",
        "    return pdf\n",
        "\n",
        "confirmed_groupwise_normalization = cases.groupby(\"infection_case\").apply(subtract_mean)\n",
        "\n",
        "confirmed_groupwise_normalization.limit(10).toPandas()"
      ]
    },
    {
      "cell_type": "markdown",
      "metadata": {
        "id": "KQwjGNW1Iw-8"
      },
      "source": [
        "# 5. Spark Window Functions"
      ]
    },
    {
      "cell_type": "markdown",
      "metadata": {
        "id": "i0u00jHCSv4S"
      },
      "source": [
        " Here we will see some of the most important window functions available in spark.\n",
        "\n",
        "For this, we will also use one more data CSV, which has dates present as that will help with understanding Window functions much better. we will use the TimeProvince dataframe which contains daily case information for each province."
      ]
    },
    {
      "cell_type": "code",
      "execution_count": 44,
      "metadata": {
        "colab": {
          "base_uri": "https://localhost:8080/"
        },
        "id": "9Zpa5xQvIw-8",
        "outputId": "0a3cf601-ad8a-4220-e3b0-9a0b0d99a1fa"
      },
      "outputs": [
        {
          "output_type": "stream",
          "name": "stdout",
          "text": [
            "+----------+----+-----------------+---------+--------+--------+\n",
            "|      date|time|         province|confirmed|released|deceased|\n",
            "+----------+----+-----------------+---------+--------+--------+\n",
            "|2020-01-20|  16|            Seoul|        0|       0|       0|\n",
            "|2020-01-20|  16|            Busan|        0|       0|       0|\n",
            "|2020-01-20|  16|            Daegu|        0|       0|       0|\n",
            "|2020-01-20|  16|          Incheon|        1|       0|       0|\n",
            "|2020-01-20|  16|          Gwangju|        0|       0|       0|\n",
            "|2020-01-20|  16|          Daejeon|        0|       0|       0|\n",
            "|2020-01-20|  16|            Ulsan|        0|       0|       0|\n",
            "|2020-01-20|  16|           Sejong|        0|       0|       0|\n",
            "|2020-01-20|  16|      Gyeonggi-do|        0|       0|       0|\n",
            "|2020-01-20|  16|       Gangwon-do|        0|       0|       0|\n",
            "|2020-01-20|  16|Chungcheongbuk-do|        0|       0|       0|\n",
            "|2020-01-20|  16|Chungcheongnam-do|        0|       0|       0|\n",
            "|2020-01-20|  16|     Jeollabuk-do|        0|       0|       0|\n",
            "|2020-01-20|  16|     Jeollanam-do|        0|       0|       0|\n",
            "|2020-01-20|  16| Gyeongsangbuk-do|        0|       0|       0|\n",
            "|2020-01-20|  16| Gyeongsangnam-do|        0|       0|       0|\n",
            "|2020-01-20|  16|          Jeju-do|        0|       0|       0|\n",
            "|2020-01-21|  16|            Seoul|        0|       0|       0|\n",
            "|2020-01-21|  16|            Busan|        0|       0|       0|\n",
            "|2020-01-21|  16|            Daegu|        0|       0|       0|\n",
            "+----------+----+-----------------+---------+--------+--------+\n",
            "only showing top 20 rows\n",
            "\n"
          ]
        }
      ],
      "source": [
        "timeprovince = spark.read.load(\"data/TimeProvince.csv\",format=\"csv\", \\\n",
        "                        sep=\",\", inferSchema=\"true\", header=\"true\")\n",
        "timeprovince.show()\n"
      ]
    },
    {
      "cell_type": "markdown",
      "metadata": {
        "id": "hahBOjwnIw-9"
      },
      "source": [
        "# Ranking"
      ]
    },
    {
      "cell_type": "markdown",
      "metadata": {
        "id": "mQdhFQISSv4S"
      },
      "source": [
        "We can get rank as well as dense_rank on a group using this function. For example, we may want to have a column in your cases table that provides the rank of infection_case based on the number of infection_case in a province. We can do this by:"
      ]
    },
    {
      "cell_type": "code",
      "execution_count": 45,
      "metadata": {
        "colab": {
          "base_uri": "https://localhost:8080/"
        },
        "id": "Z-ZDGTfDIw-9",
        "outputId": "e2d49c4a-4a5e-4323-9019-f9b71689ed95"
      },
      "outputs": [
        {
          "output_type": "stream",
          "name": "stdout",
          "text": [
            "+-------+-----------------+---------------+-----+--------------------+---------+---------+----------+----+\n",
            "|case_id|         province|           city|group|      infection_case|confirmed| latitude| longitude|rank|\n",
            "+-------+-----------------+---------------+-----+--------------------+---------+---------+----------+----+\n",
            "|1100001|            Busan|     Dongnae-gu| true|       Onchun Church|       39| 35.21628|  129.0771|   1|\n",
            "|1100009|            Busan|              -|false|                 etc|       29|        -|         -|   2|\n",
            "|1100007|            Busan|              -|false|     overseas inflow|       25|        -|         -|   3|\n",
            "|1100008|            Busan|              -|false|contact with patient|       18|        -|         -|   4|\n",
            "|1100002|            Busan|from other city| true|  Shincheonji Church|       12|        -|         -|   5|\n",
            "|1100004|            Busan|    Haeundae-gu| true|Haeundae-gu Catho...|        6| 35.20599|  129.1256|   6|\n",
            "|1100003|            Busan|     Suyeong-gu| true|Suyeong-gu Kinder...|        5| 35.16708|  129.1124|   7|\n",
            "|1100005|            Busan|         Jin-gu| true|      Jin-gu Academy|        4| 35.17371|  129.0633|   8|\n",
            "|1100006|            Busan|from other city| true|Cheongdo Daenam H...|        1|        -|         -|   9|\n",
            "|4000002|Chungcheongbuk-do|     Goesan-gun| true|Goesan-gun Jangye...|       11| 36.82422|  127.9552|   1|\n",
            "|4000005|Chungcheongbuk-do|              -|false|                 etc|        8|        -|         -|   2|\n",
            "|4000003|Chungcheongbuk-do|              -|false|     overseas inflow|        7|        -|         -|   3|\n",
            "|4000001|Chungcheongbuk-do|from other city| true|  Shincheonji Church|        6|        -|         -|   4|\n",
            "|4000004|Chungcheongbuk-do|              -|false|contact with patient|        6|        -|         -|   4|\n",
            "|4100001|Chungcheongnam-do|     Cheonan-si| true|gym facility in C...|      103| 36.81503|  127.1139|   1|\n",
            "|4100003|Chungcheongnam-do|              -|false|     overseas inflow|       14|        -|         -|   2|\n",
            "|4100005|Chungcheongnam-do|              -|false|                 etc|       10|        -|         -|   3|\n",
            "|4100002|Chungcheongnam-do|      Seosan-si| true|Seosan-si Laboratory|        9|37.000354|126.354443|   4|\n",
            "|4100004|Chungcheongnam-do|              -|false|contact with patient|        1|        -|         -|   5|\n",
            "|1200001|            Daegu|         Nam-gu| true|  Shincheonji Church|     4510| 35.84008|  128.5667|   1|\n",
            "+-------+-----------------+---------------+-----+--------------------+---------+---------+----------+----+\n",
            "only showing top 20 rows\n",
            "\n"
          ]
        }
      ],
      "source": [
        "from pyspark.sql.window import Window\n",
        "windowSpec = Window().partitionBy(['province']).orderBy(F.desc('confirmed'))\n",
        "cases.withColumn(\"rank\",F.rank().over(windowSpec)).show()"
      ]
    },
    {
      "cell_type": "markdown",
      "metadata": {
        "id": "EP1CfnEqIw-9"
      },
      "source": [
        "# Lag "
      ]
    },
    {
      "cell_type": "markdown",
      "metadata": {
        "id": "_uR0GG03Sv4T"
      },
      "source": [
        "Sometimes our data science models may need lag based features. For example, a model might have variables like the price last week or sales quantity the previous day. We can create such features using the lag function with window functions. Here we are trying to get the confirmed cases 7 days before. We are filtering to show the results as the first few days of corona cases were zeros. We can see here that the lag_7 day feature is shifted by 7 days."
      ]
    },
    {
      "cell_type": "code",
      "execution_count": 46,
      "metadata": {
        "colab": {
          "base_uri": "https://localhost:8080/"
        },
        "id": "itJOJzghIw-9",
        "outputId": "f4a2289a-8ad8-4125-96be-4f8a93c7e756",
        "scrolled": false
      },
      "outputs": [
        {
          "output_type": "stream",
          "name": "stdout",
          "text": [
            "+----------+----+--------+---------+--------+--------+-----+\n",
            "|      date|time|province|confirmed|released|deceased|lag_7|\n",
            "+----------+----+--------+---------+--------+--------+-----+\n",
            "|2020-03-11|   0|   Busan|       98|      21|       0|   92|\n",
            "|2020-03-12|   0|   Busan|       99|      29|       0|   92|\n",
            "|2020-03-13|   0|   Busan|      100|      36|       0|   95|\n",
            "|2020-03-14|   0|   Busan|      103|      40|       0|   96|\n",
            "|2020-03-15|   0|   Busan|      106|      52|       1|   96|\n",
            "|2020-03-16|   0|   Busan|      107|      53|       1|   96|\n",
            "|2020-03-17|   0|   Busan|      107|      54|       1|   96|\n",
            "|2020-03-18|   0|   Busan|      107|      58|       1|   98|\n",
            "|2020-03-19|   0|   Busan|      107|      58|       1|   99|\n",
            "|2020-03-20|   0|   Busan|      108|      60|       1|  100|\n",
            "|2020-03-21|   0|   Busan|      108|      67|       1|  103|\n",
            "|2020-03-22|   0|   Busan|      108|      69|       1|  106|\n",
            "|2020-03-23|   0|   Busan|      109|      71|       1|  107|\n",
            "|2020-03-24|   0|   Busan|      111|      71|       1|  107|\n",
            "|2020-03-25|   0|   Busan|      112|      73|       1|  107|\n",
            "|2020-03-26|   0|   Busan|      112|      75|       2|  107|\n",
            "|2020-03-27|   0|   Busan|      113|      81|       2|  108|\n",
            "|2020-03-28|   0|   Busan|      114|      81|       2|  108|\n",
            "|2020-03-29|   0|   Busan|      117|      85|       3|  108|\n",
            "|2020-03-30|   0|   Busan|      118|      87|       3|  109|\n",
            "+----------+----+--------+---------+--------+--------+-----+\n",
            "only showing top 20 rows\n",
            "\n"
          ]
        }
      ],
      "source": [
        "from pyspark.sql.window import Window\n",
        "windowSpec = Window().partitionBy(['province']).orderBy('date')\n",
        "timeprovinceWithLag = timeprovince.withColumn(\"lag_7\",F.lag(\"confirmed\", 7).over(windowSpec))\n",
        "\n",
        "timeprovinceWithLag.filter(timeprovinceWithLag.date>'2020-03-10').show()"
      ]
    },
    {
      "cell_type": "markdown",
      "metadata": {
        "id": "EvAoJDYRIw-9"
      },
      "source": [
        "# Rolling Aggregations"
      ]
    },
    {
      "cell_type": "markdown",
      "metadata": {
        "id": "9YdswgPiSv4T"
      },
      "source": [
        "Sometimes it helps to provide rolling averages to our models. For example, we might want to have a rolling 7-day sales sum/mean as a feature for our sales regression model. Let us calculate the rolling mean of confirmed cases for the last 7 days here."
      ]
    },
    {
      "cell_type": "code",
      "execution_count": 47,
      "metadata": {
        "colab": {
          "base_uri": "https://localhost:8080/"
        },
        "id": "J5LUKKJ9Iw-9",
        "outputId": "30adaf48-13be-4d8d-b265-1b03f9623cd3"
      },
      "outputs": [
        {
          "output_type": "stream",
          "name": "stdout",
          "text": [
            "+----------+----+--------+---------+--------+--------+------------------+\n",
            "|      date|time|province|confirmed|released|deceased|  roll_7_confirmed|\n",
            "+----------+----+--------+---------+--------+--------+------------------+\n",
            "|2020-03-11|   0|   Busan|       98|      21|       0| 95.57142857142857|\n",
            "|2020-03-12|   0|   Busan|       99|      29|       0| 96.57142857142857|\n",
            "|2020-03-13|   0|   Busan|      100|      36|       0| 97.28571428571429|\n",
            "|2020-03-14|   0|   Busan|      103|      40|       0| 98.28571428571429|\n",
            "|2020-03-15|   0|   Busan|      106|      52|       1| 99.71428571428571|\n",
            "|2020-03-16|   0|   Busan|      107|      53|       1|101.28571428571429|\n",
            "|2020-03-17|   0|   Busan|      107|      54|       1|102.85714285714286|\n",
            "|2020-03-18|   0|   Busan|      107|      58|       1|104.14285714285714|\n",
            "|2020-03-19|   0|   Busan|      107|      58|       1|105.28571428571429|\n",
            "|2020-03-20|   0|   Busan|      108|      60|       1|106.42857142857143|\n",
            "|2020-03-21|   0|   Busan|      108|      67|       1|107.14285714285714|\n",
            "|2020-03-22|   0|   Busan|      108|      69|       1|107.42857142857143|\n",
            "|2020-03-23|   0|   Busan|      109|      71|       1|107.71428571428571|\n",
            "|2020-03-24|   0|   Busan|      111|      71|       1|108.28571428571429|\n",
            "|2020-03-25|   0|   Busan|      112|      73|       1|             109.0|\n",
            "|2020-03-26|   0|   Busan|      112|      75|       2|109.71428571428571|\n",
            "|2020-03-27|   0|   Busan|      113|      81|       2|110.42857142857143|\n",
            "|2020-03-28|   0|   Busan|      114|      81|       2|111.28571428571429|\n",
            "|2020-03-29|   0|   Busan|      117|      85|       3|112.57142857142857|\n",
            "|2020-03-30|   0|   Busan|      118|      87|       3|113.85714285714286|\n",
            "+----------+----+--------+---------+--------+--------+------------------+\n",
            "only showing top 20 rows\n",
            "\n"
          ]
        }
      ],
      "source": [
        "from pyspark.sql.window import Window\n",
        "\n",
        "windowSpec = Window().partitionBy(['province']).orderBy('date').rowsBetween(-6,0)\n",
        "timeprovinceWithRoll = timeprovince.withColumn(\"roll_7_confirmed\",F.mean(\"confirmed\").over(windowSpec))\n",
        "timeprovinceWithRoll.filter(timeprovinceWithLag.date>'2020-03-10').show()"
      ]
    },
    {
      "cell_type": "markdown",
      "metadata": {
        "id": "ct7wwDR_Iw--"
      },
      "source": [
        "## Running Totals"
      ]
    },
    {
      "cell_type": "code",
      "execution_count": 48,
      "metadata": {
        "colab": {
          "base_uri": "https://localhost:8080/"
        },
        "id": "9is10TdNIw--",
        "outputId": "902c25b5-e7fb-4d52-982f-aaab39e7888a"
      },
      "outputs": [
        {
          "output_type": "stream",
          "name": "stdout",
          "text": [
            "+----------+----+--------+---------+--------+--------+--------------------+\n",
            "|      date|time|province|confirmed|released|deceased|cumulative_confirmed|\n",
            "+----------+----+--------+---------+--------+--------+--------------------+\n",
            "|2020-03-11|   0|   Busan|       98|      21|       0|                1408|\n",
            "|2020-03-12|   0|   Busan|       99|      29|       0|                1507|\n",
            "|2020-03-13|   0|   Busan|      100|      36|       0|                1607|\n",
            "|2020-03-14|   0|   Busan|      103|      40|       0|                1710|\n",
            "|2020-03-15|   0|   Busan|      106|      52|       1|                1816|\n",
            "|2020-03-16|   0|   Busan|      107|      53|       1|                1923|\n",
            "|2020-03-17|   0|   Busan|      107|      54|       1|                2030|\n",
            "|2020-03-18|   0|   Busan|      107|      58|       1|                2137|\n",
            "|2020-03-19|   0|   Busan|      107|      58|       1|                2244|\n",
            "|2020-03-20|   0|   Busan|      108|      60|       1|                2352|\n",
            "|2020-03-21|   0|   Busan|      108|      67|       1|                2460|\n",
            "|2020-03-22|   0|   Busan|      108|      69|       1|                2568|\n",
            "|2020-03-23|   0|   Busan|      109|      71|       1|                2677|\n",
            "|2020-03-24|   0|   Busan|      111|      71|       1|                2788|\n",
            "|2020-03-25|   0|   Busan|      112|      73|       1|                2900|\n",
            "|2020-03-26|   0|   Busan|      112|      75|       2|                3012|\n",
            "|2020-03-27|   0|   Busan|      113|      81|       2|                3125|\n",
            "|2020-03-28|   0|   Busan|      114|      81|       2|                3239|\n",
            "|2020-03-29|   0|   Busan|      117|      85|       3|                3356|\n",
            "|2020-03-30|   0|   Busan|      118|      87|       3|                3474|\n",
            "+----------+----+--------+---------+--------+--------+--------------------+\n",
            "only showing top 20 rows\n",
            "\n"
          ]
        }
      ],
      "source": [
        "from pyspark.sql.window import Window\n",
        "\n",
        "windowSpec = Window().partitionBy(['province']).orderBy('date').rowsBetween(Window.unboundedPreceding,Window.currentRow)\n",
        "timeprovinceWithRoll = timeprovince.withColumn(\"cumulative_confirmed\",F.sum(\"confirmed\").over(windowSpec))\n",
        "timeprovinceWithRoll.filter(timeprovinceWithLag.date>'2020-03-10').show()"
      ]
    },
    {
      "cell_type": "markdown",
      "metadata": {
        "id": "ybezHDRQIw--"
      },
      "source": [
        "# 6. Pivot Dataframes"
      ]
    },
    {
      "cell_type": "code",
      "execution_count": 49,
      "metadata": {
        "colab": {
          "base_uri": "https://localhost:8080/",
          "height": 647
        },
        "id": "zUgorNaXIw--",
        "outputId": "c11f34de-f82d-4928-f80c-43ca1d737ca4"
      },
      "outputs": [
        {
          "output_type": "execute_result",
          "data": {
            "text/plain": [
              "         date  Busan_confirmed  Busan_released  Chungcheongbuk-do_confirmed  \\\n",
              "0  2020-04-13              126             103                           45   \n",
              "1  2020-02-26               58               0                            5   \n",
              "2  2020-04-12              126             103                           45   \n",
              "3  2020-02-13                0               0                            0   \n",
              "4  2020-04-20              132             115                           45   \n",
              "5  2020-01-22                0               0                            0   \n",
              "6  2020-05-14              144             127                           55   \n",
              "7  2020-04-22              134             115                           45   \n",
              "8  2020-05-13              144             126                           52   \n",
              "9  2020-03-16              107              53                           31   \n",
              "\n",
              "   Chungcheongbuk-do_released  Chungcheongnam-do_confirmed  \\\n",
              "0                          31                          139   \n",
              "1                           0                            3   \n",
              "2                          29                          139   \n",
              "3                           0                            0   \n",
              "4                          38                          141   \n",
              "5                           0                            0   \n",
              "6                          43                          144   \n",
              "7                          39                          141   \n",
              "8                          43                          143   \n",
              "9                           6                          115   \n",
              "\n",
              "   Chungcheongnam-do_released  Daegu_confirmed  Daegu_released  \\\n",
              "0                         109             6819            5395   \n",
              "1                           0              710               1   \n",
              "2                         108             6816            5356   \n",
              "3                           0                0               0   \n",
              "4                         122             6833            5769   \n",
              "5                           0                0               0   \n",
              "6                         138             6865            6349   \n",
              "7                         122             6836            5827   \n",
              "8                         138             6865            6322   \n",
              "9                          12             6066             734   \n",
              "\n",
              "   Daejeon_confirmed  ...  Jeollabuk-do_confirmed  Jeollabuk-do_released  \\\n",
              "0                 39  ...                      17                      8   \n",
              "1                  5  ...                       3                      1   \n",
              "2                 39  ...                      17                      8   \n",
              "3                  0  ...                       1                      1   \n",
              "4                 39  ...                      17                      9   \n",
              "5                  0  ...                       0                      0   \n",
              "6                 43  ...                      20                     14   \n",
              "7                 40  ...                      17                      9   \n",
              "8                 43  ...                      20                     14   \n",
              "9                 22  ...                       7                      4   \n",
              "\n",
              "   Jeollanam-do_confirmed  Jeollanam-do_released  Sejong_confirmed  \\\n",
              "0                      15                      6                46   \n",
              "1                       1                      0                 1   \n",
              "2                      15                      5                46   \n",
              "3                       0                      0                 0   \n",
              "4                      15                      8                46   \n",
              "5                       0                      0                 0   \n",
              "6                      17                     13                47   \n",
              "7                      15                      8                46   \n",
              "8                      16                     12                47   \n",
              "9                       4                      2                40   \n",
              "\n",
              "   Sejong_released  Seoul_confirmed  Seoul_released  Ulsan_confirmed  \\\n",
              "0               22              610             214               41   \n",
              "1                0               49               8                4   \n",
              "2               22              602             202               41   \n",
              "3                0               14               2                0   \n",
              "4               29              624             304               43   \n",
              "5                0                0               0                0   \n",
              "6               46              711             564               45   \n",
              "7               33              628             322               43   \n",
              "8               46              707             558               45   \n",
              "9                0              253              52               28   \n",
              "\n",
              "   Ulsan_released  \n",
              "0              33  \n",
              "1               0  \n",
              "2              32  \n",
              "3               0  \n",
              "4              34  \n",
              "5               0  \n",
              "6              41  \n",
              "7              35  \n",
              "8              41  \n",
              "9               7  \n",
              "\n",
              "[10 rows x 35 columns]"
            ],
            "text/html": [
              "\n",
              "  <div id=\"df-5c1f4bba-0139-426a-b011-a671e2b6e085\">\n",
              "    <div class=\"colab-df-container\">\n",
              "      <div>\n",
              "<style scoped>\n",
              "    .dataframe tbody tr th:only-of-type {\n",
              "        vertical-align: middle;\n",
              "    }\n",
              "\n",
              "    .dataframe tbody tr th {\n",
              "        vertical-align: top;\n",
              "    }\n",
              "\n",
              "    .dataframe thead th {\n",
              "        text-align: right;\n",
              "    }\n",
              "</style>\n",
              "<table border=\"1\" class=\"dataframe\">\n",
              "  <thead>\n",
              "    <tr style=\"text-align: right;\">\n",
              "      <th></th>\n",
              "      <th>date</th>\n",
              "      <th>Busan_confirmed</th>\n",
              "      <th>Busan_released</th>\n",
              "      <th>Chungcheongbuk-do_confirmed</th>\n",
              "      <th>Chungcheongbuk-do_released</th>\n",
              "      <th>Chungcheongnam-do_confirmed</th>\n",
              "      <th>Chungcheongnam-do_released</th>\n",
              "      <th>Daegu_confirmed</th>\n",
              "      <th>Daegu_released</th>\n",
              "      <th>Daejeon_confirmed</th>\n",
              "      <th>...</th>\n",
              "      <th>Jeollabuk-do_confirmed</th>\n",
              "      <th>Jeollabuk-do_released</th>\n",
              "      <th>Jeollanam-do_confirmed</th>\n",
              "      <th>Jeollanam-do_released</th>\n",
              "      <th>Sejong_confirmed</th>\n",
              "      <th>Sejong_released</th>\n",
              "      <th>Seoul_confirmed</th>\n",
              "      <th>Seoul_released</th>\n",
              "      <th>Ulsan_confirmed</th>\n",
              "      <th>Ulsan_released</th>\n",
              "    </tr>\n",
              "  </thead>\n",
              "  <tbody>\n",
              "    <tr>\n",
              "      <th>0</th>\n",
              "      <td>2020-04-13</td>\n",
              "      <td>126</td>\n",
              "      <td>103</td>\n",
              "      <td>45</td>\n",
              "      <td>31</td>\n",
              "      <td>139</td>\n",
              "      <td>109</td>\n",
              "      <td>6819</td>\n",
              "      <td>5395</td>\n",
              "      <td>39</td>\n",
              "      <td>...</td>\n",
              "      <td>17</td>\n",
              "      <td>8</td>\n",
              "      <td>15</td>\n",
              "      <td>6</td>\n",
              "      <td>46</td>\n",
              "      <td>22</td>\n",
              "      <td>610</td>\n",
              "      <td>214</td>\n",
              "      <td>41</td>\n",
              "      <td>33</td>\n",
              "    </tr>\n",
              "    <tr>\n",
              "      <th>1</th>\n",
              "      <td>2020-02-26</td>\n",
              "      <td>58</td>\n",
              "      <td>0</td>\n",
              "      <td>5</td>\n",
              "      <td>0</td>\n",
              "      <td>3</td>\n",
              "      <td>0</td>\n",
              "      <td>710</td>\n",
              "      <td>1</td>\n",
              "      <td>5</td>\n",
              "      <td>...</td>\n",
              "      <td>3</td>\n",
              "      <td>1</td>\n",
              "      <td>1</td>\n",
              "      <td>0</td>\n",
              "      <td>1</td>\n",
              "      <td>0</td>\n",
              "      <td>49</td>\n",
              "      <td>8</td>\n",
              "      <td>4</td>\n",
              "      <td>0</td>\n",
              "    </tr>\n",
              "    <tr>\n",
              "      <th>2</th>\n",
              "      <td>2020-04-12</td>\n",
              "      <td>126</td>\n",
              "      <td>103</td>\n",
              "      <td>45</td>\n",
              "      <td>29</td>\n",
              "      <td>139</td>\n",
              "      <td>108</td>\n",
              "      <td>6816</td>\n",
              "      <td>5356</td>\n",
              "      <td>39</td>\n",
              "      <td>...</td>\n",
              "      <td>17</td>\n",
              "      <td>8</td>\n",
              "      <td>15</td>\n",
              "      <td>5</td>\n",
              "      <td>46</td>\n",
              "      <td>22</td>\n",
              "      <td>602</td>\n",
              "      <td>202</td>\n",
              "      <td>41</td>\n",
              "      <td>32</td>\n",
              "    </tr>\n",
              "    <tr>\n",
              "      <th>3</th>\n",
              "      <td>2020-02-13</td>\n",
              "      <td>0</td>\n",
              "      <td>0</td>\n",
              "      <td>0</td>\n",
              "      <td>0</td>\n",
              "      <td>0</td>\n",
              "      <td>0</td>\n",
              "      <td>0</td>\n",
              "      <td>0</td>\n",
              "      <td>0</td>\n",
              "      <td>...</td>\n",
              "      <td>1</td>\n",
              "      <td>1</td>\n",
              "      <td>0</td>\n",
              "      <td>0</td>\n",
              "      <td>0</td>\n",
              "      <td>0</td>\n",
              "      <td>14</td>\n",
              "      <td>2</td>\n",
              "      <td>0</td>\n",
              "      <td>0</td>\n",
              "    </tr>\n",
              "    <tr>\n",
              "      <th>4</th>\n",
              "      <td>2020-04-20</td>\n",
              "      <td>132</td>\n",
              "      <td>115</td>\n",
              "      <td>45</td>\n",
              "      <td>38</td>\n",
              "      <td>141</td>\n",
              "      <td>122</td>\n",
              "      <td>6833</td>\n",
              "      <td>5769</td>\n",
              "      <td>39</td>\n",
              "      <td>...</td>\n",
              "      <td>17</td>\n",
              "      <td>9</td>\n",
              "      <td>15</td>\n",
              "      <td>8</td>\n",
              "      <td>46</td>\n",
              "      <td>29</td>\n",
              "      <td>624</td>\n",
              "      <td>304</td>\n",
              "      <td>43</td>\n",
              "      <td>34</td>\n",
              "    </tr>\n",
              "    <tr>\n",
              "      <th>5</th>\n",
              "      <td>2020-01-22</td>\n",
              "      <td>0</td>\n",
              "      <td>0</td>\n",
              "      <td>0</td>\n",
              "      <td>0</td>\n",
              "      <td>0</td>\n",
              "      <td>0</td>\n",
              "      <td>0</td>\n",
              "      <td>0</td>\n",
              "      <td>0</td>\n",
              "      <td>...</td>\n",
              "      <td>0</td>\n",
              "      <td>0</td>\n",
              "      <td>0</td>\n",
              "      <td>0</td>\n",
              "      <td>0</td>\n",
              "      <td>0</td>\n",
              "      <td>0</td>\n",
              "      <td>0</td>\n",
              "      <td>0</td>\n",
              "      <td>0</td>\n",
              "    </tr>\n",
              "    <tr>\n",
              "      <th>6</th>\n",
              "      <td>2020-05-14</td>\n",
              "      <td>144</td>\n",
              "      <td>127</td>\n",
              "      <td>55</td>\n",
              "      <td>43</td>\n",
              "      <td>144</td>\n",
              "      <td>138</td>\n",
              "      <td>6865</td>\n",
              "      <td>6349</td>\n",
              "      <td>43</td>\n",
              "      <td>...</td>\n",
              "      <td>20</td>\n",
              "      <td>14</td>\n",
              "      <td>17</td>\n",
              "      <td>13</td>\n",
              "      <td>47</td>\n",
              "      <td>46</td>\n",
              "      <td>711</td>\n",
              "      <td>564</td>\n",
              "      <td>45</td>\n",
              "      <td>41</td>\n",
              "    </tr>\n",
              "    <tr>\n",
              "      <th>7</th>\n",
              "      <td>2020-04-22</td>\n",
              "      <td>134</td>\n",
              "      <td>115</td>\n",
              "      <td>45</td>\n",
              "      <td>39</td>\n",
              "      <td>141</td>\n",
              "      <td>122</td>\n",
              "      <td>6836</td>\n",
              "      <td>5827</td>\n",
              "      <td>40</td>\n",
              "      <td>...</td>\n",
              "      <td>17</td>\n",
              "      <td>9</td>\n",
              "      <td>15</td>\n",
              "      <td>8</td>\n",
              "      <td>46</td>\n",
              "      <td>33</td>\n",
              "      <td>628</td>\n",
              "      <td>322</td>\n",
              "      <td>43</td>\n",
              "      <td>35</td>\n",
              "    </tr>\n",
              "    <tr>\n",
              "      <th>8</th>\n",
              "      <td>2020-05-13</td>\n",
              "      <td>144</td>\n",
              "      <td>126</td>\n",
              "      <td>52</td>\n",
              "      <td>43</td>\n",
              "      <td>143</td>\n",
              "      <td>138</td>\n",
              "      <td>6865</td>\n",
              "      <td>6322</td>\n",
              "      <td>43</td>\n",
              "      <td>...</td>\n",
              "      <td>20</td>\n",
              "      <td>14</td>\n",
              "      <td>16</td>\n",
              "      <td>12</td>\n",
              "      <td>47</td>\n",
              "      <td>46</td>\n",
              "      <td>707</td>\n",
              "      <td>558</td>\n",
              "      <td>45</td>\n",
              "      <td>41</td>\n",
              "    </tr>\n",
              "    <tr>\n",
              "      <th>9</th>\n",
              "      <td>2020-03-16</td>\n",
              "      <td>107</td>\n",
              "      <td>53</td>\n",
              "      <td>31</td>\n",
              "      <td>6</td>\n",
              "      <td>115</td>\n",
              "      <td>12</td>\n",
              "      <td>6066</td>\n",
              "      <td>734</td>\n",
              "      <td>22</td>\n",
              "      <td>...</td>\n",
              "      <td>7</td>\n",
              "      <td>4</td>\n",
              "      <td>4</td>\n",
              "      <td>2</td>\n",
              "      <td>40</td>\n",
              "      <td>0</td>\n",
              "      <td>253</td>\n",
              "      <td>52</td>\n",
              "      <td>28</td>\n",
              "      <td>7</td>\n",
              "    </tr>\n",
              "  </tbody>\n",
              "</table>\n",
              "<p>10 rows × 35 columns</p>\n",
              "</div>\n",
              "      <button class=\"colab-df-convert\" onclick=\"convertToInteractive('df-5c1f4bba-0139-426a-b011-a671e2b6e085')\"\n",
              "              title=\"Convert this dataframe to an interactive table.\"\n",
              "              style=\"display:none;\">\n",
              "        \n",
              "  <svg xmlns=\"http://www.w3.org/2000/svg\" height=\"24px\"viewBox=\"0 0 24 24\"\n",
              "       width=\"24px\">\n",
              "    <path d=\"M0 0h24v24H0V0z\" fill=\"none\"/>\n",
              "    <path d=\"M18.56 5.44l.94 2.06.94-2.06 2.06-.94-2.06-.94-.94-2.06-.94 2.06-2.06.94zm-11 1L8.5 8.5l.94-2.06 2.06-.94-2.06-.94L8.5 2.5l-.94 2.06-2.06.94zm10 10l.94 2.06.94-2.06 2.06-.94-2.06-.94-.94-2.06-.94 2.06-2.06.94z\"/><path d=\"M17.41 7.96l-1.37-1.37c-.4-.4-.92-.59-1.43-.59-.52 0-1.04.2-1.43.59L10.3 9.45l-7.72 7.72c-.78.78-.78 2.05 0 2.83L4 21.41c.39.39.9.59 1.41.59.51 0 1.02-.2 1.41-.59l7.78-7.78 2.81-2.81c.8-.78.8-2.07 0-2.86zM5.41 20L4 18.59l7.72-7.72 1.47 1.35L5.41 20z\"/>\n",
              "  </svg>\n",
              "      </button>\n",
              "      \n",
              "  <style>\n",
              "    .colab-df-container {\n",
              "      display:flex;\n",
              "      flex-wrap:wrap;\n",
              "      gap: 12px;\n",
              "    }\n",
              "\n",
              "    .colab-df-convert {\n",
              "      background-color: #E8F0FE;\n",
              "      border: none;\n",
              "      border-radius: 50%;\n",
              "      cursor: pointer;\n",
              "      display: none;\n",
              "      fill: #1967D2;\n",
              "      height: 32px;\n",
              "      padding: 0 0 0 0;\n",
              "      width: 32px;\n",
              "    }\n",
              "\n",
              "    .colab-df-convert:hover {\n",
              "      background-color: #E2EBFA;\n",
              "      box-shadow: 0px 1px 2px rgba(60, 64, 67, 0.3), 0px 1px 3px 1px rgba(60, 64, 67, 0.15);\n",
              "      fill: #174EA6;\n",
              "    }\n",
              "\n",
              "    [theme=dark] .colab-df-convert {\n",
              "      background-color: #3B4455;\n",
              "      fill: #D2E3FC;\n",
              "    }\n",
              "\n",
              "    [theme=dark] .colab-df-convert:hover {\n",
              "      background-color: #434B5C;\n",
              "      box-shadow: 0px 1px 3px 1px rgba(0, 0, 0, 0.15);\n",
              "      filter: drop-shadow(0px 1px 2px rgba(0, 0, 0, 0.3));\n",
              "      fill: #FFFFFF;\n",
              "    }\n",
              "  </style>\n",
              "\n",
              "      <script>\n",
              "        const buttonEl =\n",
              "          document.querySelector('#df-5c1f4bba-0139-426a-b011-a671e2b6e085 button.colab-df-convert');\n",
              "        buttonEl.style.display =\n",
              "          google.colab.kernel.accessAllowed ? 'block' : 'none';\n",
              "\n",
              "        async function convertToInteractive(key) {\n",
              "          const element = document.querySelector('#df-5c1f4bba-0139-426a-b011-a671e2b6e085');\n",
              "          const dataTable =\n",
              "            await google.colab.kernel.invokeFunction('convertToInteractive',\n",
              "                                                     [key], {});\n",
              "          if (!dataTable) return;\n",
              "\n",
              "          const docLinkHtml = 'Like what you see? Visit the ' +\n",
              "            '<a target=\"_blank\" href=https://colab.research.google.com/notebooks/data_table.ipynb>data table notebook</a>'\n",
              "            + ' to learn more about interactive tables.';\n",
              "          element.innerHTML = '';\n",
              "          dataTable['output_type'] = 'display_data';\n",
              "          await google.colab.output.renderOutput(dataTable, element);\n",
              "          const docLink = document.createElement('div');\n",
              "          docLink.innerHTML = docLinkHtml;\n",
              "          element.appendChild(docLink);\n",
              "        }\n",
              "      </script>\n",
              "    </div>\n",
              "  </div>\n",
              "  "
            ]
          },
          "metadata": {},
          "execution_count": 49
        }
      ],
      "source": [
        "pivotedTimeprovince = timeprovince.groupBy('date').pivot('province') \\\n",
        "                      .agg(F.sum('confirmed').alias('confirmed') , F.sum('released').alias('released'))\n",
        "pivotedTimeprovince.limit(10).toPandas()"
      ]
    },
    {
      "cell_type": "markdown",
      "metadata": {
        "id": "5xNiyg8hIw--"
      },
      "source": [
        "# 7. Unpivot/Stack Dataframes"
      ]
    },
    {
      "cell_type": "code",
      "execution_count": 50,
      "metadata": {
        "colab": {
          "base_uri": "https://localhost:8080/"
        },
        "id": "T5U7QTk1Iw--",
        "outputId": "056914db-b13a-43c1-9309-f657d856d122"
      },
      "outputs": [
        {
          "output_type": "execute_result",
          "data": {
            "text/plain": [
              "['date',\n",
              " 'Busan_confirmed',\n",
              " 'Busan_released',\n",
              " 'Chungcheongbuk-do_confirmed',\n",
              " 'Chungcheongbuk-do_released',\n",
              " 'Chungcheongnam-do_confirmed',\n",
              " 'Chungcheongnam-do_released',\n",
              " 'Daegu_confirmed',\n",
              " 'Daegu_released',\n",
              " 'Daejeon_confirmed',\n",
              " 'Daejeon_released',\n",
              " 'Gangwon-do_confirmed',\n",
              " 'Gangwon-do_released',\n",
              " 'Gwangju_confirmed',\n",
              " 'Gwangju_released',\n",
              " 'Gyeonggi-do_confirmed',\n",
              " 'Gyeonggi-do_released',\n",
              " 'Gyeongsangbuk-do_confirmed',\n",
              " 'Gyeongsangbuk-do_released',\n",
              " 'Gyeongsangnam-do_confirmed',\n",
              " 'Gyeongsangnam-do_released',\n",
              " 'Incheon_confirmed',\n",
              " 'Incheon_released',\n",
              " 'Jeju-do_confirmed',\n",
              " 'Jeju-do_released',\n",
              " 'Jeollabuk-do_confirmed',\n",
              " 'Jeollabuk-do_released',\n",
              " 'Jeollanam-do_confirmed',\n",
              " 'Jeollanam-do_released',\n",
              " 'Sejong_confirmed',\n",
              " 'Sejong_released',\n",
              " 'Seoul_confirmed',\n",
              " 'Seoul_released',\n",
              " 'Ulsan_confirmed',\n",
              " 'Ulsan_released']"
            ]
          },
          "metadata": {},
          "execution_count": 50
        }
      ],
      "source": [
        "pivotedTimeprovince.columns  "
      ]
    },
    {
      "cell_type": "code",
      "execution_count": 51,
      "metadata": {
        "id": "2kM5AA5iIw--"
      },
      "outputs": [],
      "source": [
        "newColnames = [x.replace(\"-\",\"_\") for x in pivotedTimeprovince.columns]"
      ]
    },
    {
      "cell_type": "code",
      "execution_count": 52,
      "metadata": {
        "id": "gF3ufrTSIw-_"
      },
      "outputs": [],
      "source": [
        "pivotedTimeprovince = pivotedTimeprovince.toDF(*newColnames)"
      ]
    },
    {
      "cell_type": "code",
      "execution_count": 53,
      "metadata": {
        "id": "AJRrg_A0Iw-_"
      },
      "outputs": [],
      "source": [
        "expression = \"\"\n",
        "cnt=0\n",
        "for column in pivotedTimeprovince.columns:\n",
        "    if column!='date':\n",
        "        cnt +=1\n",
        "        expression += f\"'{column}' , {column},\"\n",
        "        \n",
        "expression = f\"stack({cnt}, {expression[:-1]}) as (Type,Value)\""
      ]
    },
    {
      "cell_type": "code",
      "execution_count": 54,
      "metadata": {
        "colab": {
          "base_uri": "https://localhost:8080/"
        },
        "id": "DzaetRxfIw-_",
        "outputId": "89548924-1cf0-4792-e569-6f7bc37a5116"
      },
      "outputs": [
        {
          "output_type": "stream",
          "name": "stdout",
          "text": [
            "+----------+--------------------+-----+\n",
            "|      date|                Type|Value|\n",
            "+----------+--------------------+-----+\n",
            "|2020-04-13|     Busan_confirmed|  126|\n",
            "|2020-04-13|      Busan_released|  103|\n",
            "|2020-04-13|Chungcheongbuk_do...|   45|\n",
            "|2020-04-13|Chungcheongbuk_do...|   31|\n",
            "|2020-04-13|Chungcheongnam_do...|  139|\n",
            "|2020-04-13|Chungcheongnam_do...|  109|\n",
            "|2020-04-13|     Daegu_confirmed| 6819|\n",
            "|2020-04-13|      Daegu_released| 5395|\n",
            "|2020-04-13|   Daejeon_confirmed|   39|\n",
            "|2020-04-13|    Daejeon_released|   23|\n",
            "|2020-04-13|Gangwon_do_confirmed|   49|\n",
            "|2020-04-13| Gangwon_do_released|   28|\n",
            "|2020-04-13|   Gwangju_confirmed|   27|\n",
            "|2020-04-13|    Gwangju_released|   19|\n",
            "|2020-04-13|Gyeonggi_do_confi...|  631|\n",
            "|2020-04-13|Gyeonggi_do_released|  305|\n",
            "|2020-04-13|Gyeongsangbuk_do_...| 1337|\n",
            "|2020-04-13|Gyeongsangbuk_do_...| 1020|\n",
            "|2020-04-13|Gyeongsangnam_do_...|  115|\n",
            "|2020-04-13|Gyeongsangnam_do_...|   84|\n",
            "+----------+--------------------+-----+\n",
            "only showing top 20 rows\n",
            "\n"
          ]
        }
      ],
      "source": [
        "unpivotedTimeprovince = pivotedTimeprovince.select('date',F.expr(expression))\n",
        "unpivotedTimeprovince.show()"
      ]
    },
    {
      "cell_type": "markdown",
      "metadata": {
        "id": "R7YMJ1_BIw-_"
      },
      "source": [
        "# 8. Salting"
      ]
    },
    {
      "cell_type": "markdown",
      "metadata": {
        "id": "NiAar5ZwSv4V"
      },
      "source": [
        "Sometimes it might happen that a lot of data goes to a single executor since the same key is assigned for a lot of rows in our data. Salting is another way that helps you to manage data skewness.\n",
        "\n",
        "So assuming we want to do the sum operation when we have skewed keys. We can start by creating the Salted Key and then doing a double aggregation on that key as the sum of a sum still equals sum. To understand this assume we need the sum of confirmed infection_cases on the cases table and assume that the key infection_cases is skewed. We can do the required operation in two steps."
      ]
    },
    {
      "cell_type": "markdown",
      "metadata": {
        "id": "MM-L9_riSv4V"
      },
      "source": [
        "1. Create a Salting Key\n",
        "\n",
        "We first create a salting key using a concatenation of infection_case column and a random_number between 0 to 9. In case your key is even more skewed, you can split it in even more than 10 parts."
      ]
    },
    {
      "cell_type": "code",
      "execution_count": 55,
      "metadata": {
        "id": "BZcHjPDzIw-_"
      },
      "outputs": [],
      "source": [
        "cases = cases.withColumn(\"salt_key\", F.concat(F.col(\"infection_case\"), F.lit(\"_\"), F.monotonically_increasing_id() % 10))"
      ]
    },
    {
      "cell_type": "code",
      "execution_count": 56,
      "metadata": {
        "colab": {
          "base_uri": "https://localhost:8080/"
        },
        "id": "8EtLYkJsIw-_",
        "outputId": "f7b2b4fc-6936-4819-8379-14269c9ebdf3"
      },
      "outputs": [
        {
          "output_type": "stream",
          "name": "stdout",
          "text": [
            "+-------+--------+---------------+-----+--------------------+---------+---------+----------+--------------------+\n",
            "|case_id|province|           city|group|      infection_case|confirmed| latitude| longitude|            salt_key|\n",
            "+-------+--------+---------------+-----+--------------------+---------+---------+----------+--------------------+\n",
            "|1000001|   Seoul|     Yongsan-gu| true|       Itaewon Clubs|       72|37.538621|126.992652|     Itaewon Clubs_0|\n",
            "|1000002|   Seoul|        Guro-gu| true| Guro-gu Call Center|       98|37.508163|126.884387|Guro-gu Call Cent...|\n",
            "|1000003|   Seoul|  Dongdaemun-gu| true|       Dongan Church|       20|37.592888|127.056766|     Dongan Church_2|\n",
            "|1000004|   Seoul|        Guro-gu| true|Manmin Central Ch...|       41|37.481059|126.894343|Manmin Central Ch...|\n",
            "|1000005|   Seoul|   Eunpyeong-gu| true|Eunpyeong St. Mar...|       14| 37.63369|  126.9165|Eunpyeong St. Mar...|\n",
            "|1000006|   Seoul|   Seongdong-gu| true|    Seongdong-gu APT|       13| 37.55713|  127.0403|  Seongdong-gu APT_5|\n",
            "|1000007|   Seoul|      Jongno-gu| true|Jongno Community ...|       10| 37.57681|   127.006|Jongno Community ...|\n",
            "|1000008|   Seoul|        Jung-gu| true|Jung-gu Fashion C...|        7|37.562405|126.984377|Jung-gu Fashion C...|\n",
            "|1000009|   Seoul|from other city| true|  Shincheonji Church|        8|        -|         -|Shincheonji Church_8|\n",
            "|1000010|   Seoul|              -|false|     overseas inflow|      321|        -|         -|   overseas inflow_9|\n",
            "|1000011|   Seoul|              -|false|contact with patient|       18|        -|         -|contact with pati...|\n",
            "|1000012|   Seoul|              -|false|                 etc|       24|        -|         -|               etc_1|\n",
            "|1100001|   Busan|     Dongnae-gu| true|       Onchun Church|       39| 35.21628|  129.0771|     Onchun Church_2|\n",
            "|1100002|   Busan|from other city| true|  Shincheonji Church|       12|        -|         -|Shincheonji Church_3|\n",
            "|1100003|   Busan|     Suyeong-gu| true|Suyeong-gu Kinder...|        5| 35.16708|  129.1124|Suyeong-gu Kinder...|\n",
            "|1100004|   Busan|    Haeundae-gu| true|Haeundae-gu Catho...|        6| 35.20599|  129.1256|Haeundae-gu Catho...|\n",
            "|1100005|   Busan|         Jin-gu| true|      Jin-gu Academy|        4| 35.17371|  129.0633|    Jin-gu Academy_6|\n",
            "|1100006|   Busan|from other city| true|Cheongdo Daenam H...|        1|        -|         -|Cheongdo Daenam H...|\n",
            "|1100007|   Busan|              -|false|     overseas inflow|       25|        -|         -|   overseas inflow_8|\n",
            "|1100008|   Busan|              -|false|contact with patient|       18|        -|         -|contact with pati...|\n",
            "+-------+--------+---------------+-----+--------------------+---------+---------+----------+--------------------+\n",
            "only showing top 20 rows\n",
            "\n"
          ]
        }
      ],
      "source": [
        "cases.show()"
      ]
    },
    {
      "cell_type": "markdown",
      "metadata": {
        "id": "Lj88qQMHSv4W"
      },
      "source": [
        "2. First Groupby on salt key"
      ]
    },
    {
      "cell_type": "code",
      "execution_count": 57,
      "metadata": {
        "colab": {
          "base_uri": "https://localhost:8080/"
        },
        "id": "lFYiHaX0Iw-_",
        "outputId": "25b95341-8ce0-4f65-d06e-186a8417f624"
      },
      "outputs": [
        {
          "output_type": "stream",
          "name": "stdout",
          "text": [
            "+--------------------+--------------------+--------------+\n",
            "|      infection_case|            salt_key|salt_confirmed|\n",
            "+--------------------+--------------------+--------------+\n",
            "|       Onchun Church|     Onchun Church_2|            39|\n",
            "|Bundang Jesaeng H...|Bundang Jesaeng H...|            22|\n",
            "|Cheongdo Daenam H...|Cheongdo Daenam H...|             1|\n",
            "|Seosan-si Laboratory|Seosan-si Laborat...|             9|\n",
            "|Bonghwa Pureun Nu...|Bonghwa Pureun Nu...|            68|\n",
            "|Seosan-si Laboratory|Seosan-si Laborat...|             2|\n",
            "|       Onchun Church|     Onchun Church_7|             2|\n",
            "| Guro-gu Call Center|Guro-gu Call Cent...|            48|\n",
            "|Goesan-gun Jangye...|Goesan-gun Jangye...|            11|\n",
            "|gym facility in C...|gym facility in C...|           103|\n",
            "|contact with patient|contact with pati...|            58|\n",
            "|contact with patient|contact with pati...|           929|\n",
            "|Geochang-gun Woon...|Geochang-gun Woon...|             8|\n",
            "|Cheongdo Daenam H...|Cheongdo Daenam H...|           120|\n",
            "|                 etc|               etc_1|            24|\n",
            "|Daesil Convalesce...|Daesil Convalesce...|           100|\n",
            "|     overseas inflow|   overseas inflow_2|            22|\n",
            "|Jung-gu Fashion C...|Jung-gu Fashion C...|             7|\n",
            "|Second Mi-Ju Hosp...|Second Mi-Ju Hosp...|           196|\n",
            "|     overseas inflow|   overseas inflow_8|            78|\n",
            "+--------------------+--------------------+--------------+\n",
            "only showing top 20 rows\n",
            "\n"
          ]
        }
      ],
      "source": [
        "cases_temp = cases.groupBy([\"infection_case\",\"salt_key\"]).agg(F.sum(\"confirmed\").alias(\"salt_confirmed\"))\n",
        "cases_temp.show()"
      ]
    },
    {
      "cell_type": "markdown",
      "metadata": {
        "id": "vJ-lyANiSv4W"
      },
      "source": [
        "3. Second Group On the original Key"
      ]
    },
    {
      "cell_type": "code",
      "execution_count": 58,
      "metadata": {
        "colab": {
          "base_uri": "https://localhost:8080/"
        },
        "id": "Dw_Eo6OHIw_A",
        "outputId": "f0aeabf3-18de-4ffe-9d7c-93466cf1f593"
      },
      "outputs": [
        {
          "output_type": "stream",
          "name": "stdout",
          "text": [
            "+--------------------+---------------+\n",
            "|      infection_case|final_confirmed|\n",
            "+--------------------+---------------+\n",
            "|Eunpyeong St. Mar...|             14|\n",
            "|Ministry of Ocean...|             30|\n",
            "|Bundang Jesaeng H...|             22|\n",
            "|       Milal Shelter|             36|\n",
            "|       Itaewon Clubs|             81|\n",
            "| Wonju-si Apartments|              3|\n",
            "|       Dongan Church|             20|\n",
            "|     overseas inflow|            777|\n",
            "|Gyeongsan Cham Jo...|             16|\n",
            "|Hansarang Convale...|            128|\n",
            "|Second Mi-Ju Hosp...|            196|\n",
            "|Gyeongsan Seorin ...|             66|\n",
            "|Changnyeong Coin ...|              7|\n",
            "|      Jin-gu Academy|              4|\n",
            "|Korea Forest Engi...|              3|\n",
            "|Goesan-gun Jangye...|             11|\n",
            "|         Wings Tower|             10|\n",
            "|     Geochang Church|             10|\n",
            "|     Fatima Hospital|             37|\n",
            "|Bonghwa Pureun Nu...|             68|\n",
            "+--------------------+---------------+\n",
            "only showing top 20 rows\n",
            "\n"
          ]
        }
      ],
      "source": [
        "cases_answer = cases_temp.groupBy([\"infection_case\"]).agg(F.sum(\"salt_confirmed\").alias(\"final_confirmed\"))\n",
        "cases_answer.show()"
      ]
    }
  ],
  "metadata": {
    "colab": {
      "collapsed_sections": [],
      "name": "Working_With_Spark.ipynb",
      "provenance": []
    },
    "kernelspec": {
      "display_name": "Python 3 (ipykernel)",
      "language": "python",
      "name": "python3"
    },
    "language_info": {
      "codemirror_mode": {
        "name": "ipython",
        "version": 3
      },
      "file_extension": ".py",
      "mimetype": "text/x-python",
      "name": "python",
      "nbconvert_exporter": "python",
      "pygments_lexer": "ipython3",
      "version": "3.9.11"
    }
  },
  "nbformat": 4,
  "nbformat_minor": 0
}