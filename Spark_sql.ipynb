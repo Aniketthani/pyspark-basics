{
  "nbformat": 4,
  "nbformat_minor": 0,
  "metadata": {
    "colab": {
      "name": "Spark-sql.ipynb",
      "provenance": [],
      "collapsed_sections": []
    },
    "kernelspec": {
      "name": "python3",
      "display_name": "Python 3"
    },
    "language_info": {
      "name": "python"
    }
  },
  "cells": [
    {
      "cell_type": "code",
      "execution_count": 1,
      "metadata": {
        "colab": {
          "base_uri": "https://localhost:8080/"
        },
        "id": "ozoJ6SOaTTHq",
        "outputId": "1f584ddf-fbd4-446f-a48e-b9d942979a5f"
      },
      "outputs": [
        {
          "output_type": "stream",
          "name": "stdout",
          "text": [
            "Collecting pyspark\n",
            "  Downloading pyspark-3.2.1.tar.gz (281.4 MB)\n",
            "\u001b[K     |████████████████████████████████| 281.4 MB 31 kB/s \n",
            "\u001b[?25hCollecting py4j==0.10.9.3\n",
            "  Downloading py4j-0.10.9.3-py2.py3-none-any.whl (198 kB)\n",
            "\u001b[K     |████████████████████████████████| 198 kB 69.4 MB/s \n",
            "\u001b[?25hBuilding wheels for collected packages: pyspark\n",
            "  Building wheel for pyspark (setup.py) ... \u001b[?25l\u001b[?25hdone\n",
            "  Created wheel for pyspark: filename=pyspark-3.2.1-py2.py3-none-any.whl size=281853642 sha256=246098b7a2590da92280c02e014f2767abe659d71a694d420d1363c40c4587f9\n",
            "  Stored in directory: /root/.cache/pip/wheels/9f/f5/07/7cd8017084dce4e93e84e92efd1e1d5334db05f2e83bcef74f\n",
            "Successfully built pyspark\n",
            "Installing collected packages: py4j, pyspark\n",
            "Successfully installed py4j-0.10.9.3 pyspark-3.2.1\n"
          ]
        }
      ],
      "source": [
        "!pip install pyspark"
      ]
    },
    {
      "cell_type": "code",
      "source": [
        "import pandas as pd\n",
        "from pyspark.sql import SparkSession\n",
        "from pyspark.context import SparkContext\n",
        "from pyspark.sql.functions import *\n",
        "from pyspark.sql.types import *\n",
        "from datetime import date, timedelta, datetime\n",
        "import time"
      ],
      "metadata": {
        "id": "2IImvOGNTaCR"
      },
      "execution_count": 2,
      "outputs": []
    },
    {
      "cell_type": "markdown",
      "source": [
        "##**INITIALIZING SPARKSESSION**"
      ],
      "metadata": {
        "id": "R2PIAVOdVBYf"
      }
    },
    {
      "cell_type": "code",
      "source": [
        "#Initialization of a Spark Session\n",
        "sc = SparkSession.builder.appName(\"Pyspark-sql\").getOrCreate()"
      ],
      "metadata": {
        "id": "4BZ5_OgSTdGu"
      },
      "execution_count": 3,
      "outputs": []
    },
    {
      "cell_type": "markdown",
      "source": [
        "##**CREATING DATAFRAMES**"
      ],
      "metadata": {
        "id": "B77fhyOXVGMN"
      }
    },
    {
      "cell_type": "code",
      "source": [
        "dataframe = sc.read.csv(\"data/student-mat.csv\",header=True)"
      ],
      "metadata": {
        "id": "2OrVeyPSTk1I"
      },
      "execution_count": 6,
      "outputs": []
    },
    {
      "cell_type": "code",
      "source": [
        "dataframe.show()"
      ],
      "metadata": {
        "colab": {
          "base_uri": "https://localhost:8080/"
        },
        "id": "QagNAkgqUqon",
        "outputId": "9c5e16c2-a1ed-488b-bb48-78ba44d7b0ed"
      },
      "execution_count": 7,
      "outputs": [
        {
          "output_type": "stream",
          "name": "stdout",
          "text": [
            "+------+---+---+-------+-------+-------+----+----+--------+--------+----------+--------+----------+---------+--------+---------+------+----+----------+-------+------+--------+--------+------+--------+-----+----+----+------+--------+---+---+---+\n",
            "|school|sex|age|address|famsize|Pstatus|Medu|Fedu|    Mjob|    Fjob|    reason|guardian|traveltime|studytime|failures|schoolsup|famsup|paid|activities|nursery|higher|internet|romantic|famrel|freetime|goout|Dalc|Walc|health|absences| G1| G2| G3|\n",
            "+------+---+---+-------+-------+-------+----+----+--------+--------+----------+--------+----------+---------+--------+---------+------+----+----------+-------+------+--------+--------+------+--------+-----+----+----+------+--------+---+---+---+\n",
            "|    GP|  F| 18|      U|    GT3|      A|   4|   4| at_home| teacher|    course|  mother|         2|        2|       0|      yes|    no|  no|        no|    yes|   yes|      no|      no|     4|       3|    4|   1|   1|     3|       6|  5|  6|  6|\n",
            "|    GP|  F| 17|      U|    GT3|      T|   1|   1| at_home|   other|    course|  father|         1|        2|       0|       no|   yes|  no|        no|     no|   yes|     yes|      no|     5|       3|    3|   1|   1|     3|       4|  5|  5|  6|\n",
            "|    GP|  F| 15|      U|    LE3|      T|   1|   1| at_home|   other|     other|  mother|         1|        2|       3|      yes|    no| yes|        no|    yes|   yes|     yes|      no|     4|       3|    2|   2|   3|     3|      10|  7|  8| 10|\n",
            "|    GP|  F| 15|      U|    GT3|      T|   4|   2|  health|services|      home|  mother|         1|        3|       0|       no|   yes| yes|       yes|    yes|   yes|     yes|     yes|     3|       2|    2|   1|   1|     5|       2| 15| 14| 15|\n",
            "|    GP|  F| 16|      U|    GT3|      T|   3|   3|   other|   other|      home|  father|         1|        2|       0|       no|   yes| yes|        no|    yes|   yes|      no|      no|     4|       3|    2|   1|   2|     5|       4|  6| 10| 10|\n",
            "|    GP|  M| 16|      U|    LE3|      T|   4|   3|services|   other|reputation|  mother|         1|        2|       0|       no|   yes| yes|       yes|    yes|   yes|     yes|      no|     5|       4|    2|   1|   2|     5|      10| 15| 15| 15|\n",
            "|    GP|  M| 16|      U|    LE3|      T|   2|   2|   other|   other|      home|  mother|         1|        2|       0|       no|    no|  no|        no|    yes|   yes|     yes|      no|     4|       4|    4|   1|   1|     3|       0| 12| 12| 11|\n",
            "|    GP|  F| 17|      U|    GT3|      A|   4|   4|   other| teacher|      home|  mother|         2|        2|       0|      yes|   yes|  no|        no|    yes|   yes|      no|      no|     4|       1|    4|   1|   1|     1|       6|  6|  5|  6|\n",
            "|    GP|  M| 15|      U|    LE3|      A|   3|   2|services|   other|      home|  mother|         1|        2|       0|       no|   yes| yes|        no|    yes|   yes|     yes|      no|     4|       2|    2|   1|   1|     1|       0| 16| 18| 19|\n",
            "|    GP|  M| 15|      U|    GT3|      T|   3|   4|   other|   other|      home|  mother|         1|        2|       0|       no|   yes| yes|       yes|    yes|   yes|     yes|      no|     5|       5|    1|   1|   1|     5|       0| 14| 15| 15|\n",
            "|    GP|  F| 15|      U|    GT3|      T|   4|   4| teacher|  health|reputation|  mother|         1|        2|       0|       no|   yes| yes|        no|    yes|   yes|     yes|      no|     3|       3|    3|   1|   2|     2|       0| 10|  8|  9|\n",
            "|    GP|  F| 15|      U|    GT3|      T|   2|   1|services|   other|reputation|  father|         3|        3|       0|       no|   yes|  no|       yes|    yes|   yes|     yes|      no|     5|       2|    2|   1|   1|     4|       4| 10| 12| 12|\n",
            "|    GP|  M| 15|      U|    LE3|      T|   4|   4|  health|services|    course|  father|         1|        1|       0|       no|   yes| yes|       yes|    yes|   yes|     yes|      no|     4|       3|    3|   1|   3|     5|       2| 14| 14| 14|\n",
            "|    GP|  M| 15|      U|    GT3|      T|   4|   3| teacher|   other|    course|  mother|         2|        2|       0|       no|   yes| yes|        no|    yes|   yes|     yes|      no|     5|       4|    3|   1|   2|     3|       2| 10| 10| 11|\n",
            "|    GP|  M| 15|      U|    GT3|      A|   2|   2|   other|   other|      home|   other|         1|        3|       0|       no|   yes|  no|        no|    yes|   yes|     yes|     yes|     4|       5|    2|   1|   1|     3|       0| 14| 16| 16|\n",
            "|    GP|  F| 16|      U|    GT3|      T|   4|   4|  health|   other|      home|  mother|         1|        1|       0|       no|   yes|  no|        no|    yes|   yes|     yes|      no|     4|       4|    4|   1|   2|     2|       4| 14| 14| 14|\n",
            "|    GP|  F| 16|      U|    GT3|      T|   4|   4|services|services|reputation|  mother|         1|        3|       0|       no|   yes| yes|       yes|    yes|   yes|     yes|      no|     3|       2|    3|   1|   2|     2|       6| 13| 14| 14|\n",
            "|    GP|  F| 16|      U|    GT3|      T|   3|   3|   other|   other|reputation|  mother|         3|        2|       0|      yes|   yes|  no|       yes|    yes|   yes|      no|      no|     5|       3|    2|   1|   1|     4|       4|  8| 10| 10|\n",
            "|    GP|  M| 17|      U|    GT3|      T|   3|   2|services|services|    course|  mother|         1|        1|       3|       no|   yes|  no|       yes|    yes|   yes|     yes|      no|     5|       5|    5|   2|   4|     5|      16|  6|  5|  5|\n",
            "|    GP|  M| 16|      U|    LE3|      T|   4|   3|  health|   other|      home|  father|         1|        1|       0|       no|    no| yes|       yes|    yes|   yes|     yes|      no|     3|       1|    3|   1|   3|     5|       4|  8| 10| 10|\n",
            "+------+---+---+-------+-------+-------+----+----+--------+--------+----------+--------+----------+---------+--------+---------+------+----+----------+-------+------+--------+--------+------+--------+-----+----+----+------+--------+---+---+---+\n",
            "only showing top 20 rows\n",
            "\n"
          ]
        }
      ]
    },
    {
      "cell_type": "markdown",
      "source": [
        "##**DUPLICATE VALUES**"
      ],
      "metadata": {
        "id": "-nHU7HMCVL-9"
      }
    },
    {
      "cell_type": "code",
      "source": [
        "dataframe_dropdup = dataframe.dropDuplicates()"
      ],
      "metadata": {
        "id": "BOvxfSZuVNog"
      },
      "execution_count": 8,
      "outputs": []
    },
    {
      "cell_type": "code",
      "source": [
        "dataframe_dropdup.show(10)"
      ],
      "metadata": {
        "colab": {
          "base_uri": "https://localhost:8080/"
        },
        "id": "Dtk0ni0YVP2x",
        "outputId": "42cd2b5d-4d62-4d5a-dac4-c3b1040646f2"
      },
      "execution_count": 9,
      "outputs": [
        {
          "output_type": "stream",
          "name": "stdout",
          "text": [
            "+------+---+---+-------+-------+-------+----+----+-------+--------+----------+--------+----------+---------+--------+---------+------+----+----------+-------+------+--------+--------+------+--------+-----+----+----+------+--------+---+---+---+\n",
            "|school|sex|age|address|famsize|Pstatus|Medu|Fedu|   Mjob|    Fjob|    reason|guardian|traveltime|studytime|failures|schoolsup|famsup|paid|activities|nursery|higher|internet|romantic|famrel|freetime|goout|Dalc|Walc|health|absences| G1| G2| G3|\n",
            "+------+---+---+-------+-------+-------+----+----+-------+--------+----------+--------+----------+---------+--------+---------+------+----+----------+-------+------+--------+--------+------+--------+-----+----+----+------+--------+---+---+---+\n",
            "|    GP|  F| 17|      R|    GT3|      T|   3|   4|at_home|services|    course|  father|         1|        3|       0|       no|   yes| yes|       yes|     no|   yes|     yes|      no|     4|       3|    4|   2|   5|     5|       0| 11| 11| 10|\n",
            "|    GP|  F| 15|      U|    LE3|      A|   4|   3|  other|   other|    course|  mother|         1|        2|       0|      yes|   yes| yes|       yes|    yes|   yes|     yes|     yes|     5|       2|    2|   1|   1|     5|       8|  8|  8|  6|\n",
            "|    GP|  M| 17|      U|    LE3|      T|   4|   3| health|   other|    course|  mother|         2|        2|       0|       no|    no|  no|       yes|    yes|   yes|     yes|     yes|     2|       5|    5|   1|   4|     5|      14| 12| 12| 12|\n",
            "|    GP|  F| 18|      U|    GT3|      T|   2|   1|  other|   other|    course|   other|         2|        3|       0|       no|   yes| yes|        no|     no|   yes|     yes|     yes|     4|       4|    4|   1|   1|     3|       0|  7|  0|  0|\n",
            "|    GP|  M| 17|      R|    GT3|      T|   2|   1|  other|   other|    course|  mother|         1|        1|       0|       no|    no|  no|        no|     no|   yes|     yes|      no|     4|       4|    2|   2|   4|     5|       0|  8| 12| 12|\n",
            "|    GP|  F| 17|      U|    GT3|      T|   4|   3| health|services|reputation|  mother|         1|        3|       0|       no|   yes| yes|        no|    yes|   yes|     yes|      no|     4|       2|    2|   1|   2|     3|       0| 15| 15| 15|\n",
            "|    GP|  F| 18|      U|    GT3|      T|   4|   4|teacher|   other|    course|  mother|         1|        2|       0|       no|   yes| yes|        no|    yes|   yes|     yes|      no|     4|       4|    4|   3|   3|     5|       2| 11| 11| 11|\n",
            "|    GP|  F| 16|      U|    GT3|      T|   3|   3|  other|   other|      home|  father|         1|        2|       0|       no|   yes| yes|        no|    yes|   yes|      no|      no|     4|       3|    2|   1|   2|     5|       4|  6| 10| 10|\n",
            "|    GP|  M| 15|      U|    GT3|      T|   4|   2|  other|   other|    course|  mother|         1|        4|       0|       no|    no|  no|        no|    yes|   yes|     yes|      no|     3|       3|    3|   1|   1|     3|       0| 10| 10| 10|\n",
            "|    GP|  M| 17|      R|    LE3|      T|   2|   1|at_home|   other|    course|  mother|         2|        1|       2|       no|    no|  no|       yes|    yes|    no|     yes|     yes|     3|       3|    2|   2|   2|     5|       0|  7|  6|  0|\n",
            "+------+---+---+-------+-------+-------+----+----+-------+--------+----------+--------+----------+---------+--------+---------+------+----+----------+-------+------+--------+--------+------+--------+-----+----+----+------+--------+---+---+---+\n",
            "only showing top 10 rows\n",
            "\n"
          ]
        }
      ]
    },
    {
      "cell_type": "code",
      "source": [
        "dataframe.columns"
      ],
      "metadata": {
        "colab": {
          "base_uri": "https://localhost:8080/"
        },
        "id": "KN60ZSyRVRfr",
        "outputId": "01759b59-0ecb-4d9f-8019-082216832082"
      },
      "execution_count": 10,
      "outputs": [
        {
          "output_type": "execute_result",
          "data": {
            "text/plain": [
              "['school',\n",
              " 'sex',\n",
              " 'age',\n",
              " 'address',\n",
              " 'famsize',\n",
              " 'Pstatus',\n",
              " 'Medu',\n",
              " 'Fedu',\n",
              " 'Mjob',\n",
              " 'Fjob',\n",
              " 'reason',\n",
              " 'guardian',\n",
              " 'traveltime',\n",
              " 'studytime',\n",
              " 'failures',\n",
              " 'schoolsup',\n",
              " 'famsup',\n",
              " 'paid',\n",
              " 'activities',\n",
              " 'nursery',\n",
              " 'higher',\n",
              " 'internet',\n",
              " 'romantic',\n",
              " 'famrel',\n",
              " 'freetime',\n",
              " 'goout',\n",
              " 'Dalc',\n",
              " 'Walc',\n",
              " 'health',\n",
              " 'absences',\n",
              " 'G1',\n",
              " 'G2',\n",
              " 'G3']"
            ]
          },
          "metadata": {},
          "execution_count": 10
        }
      ]
    },
    {
      "cell_type": "markdown",
      "source": [
        "##**QUERIES**"
      ],
      "metadata": {
        "id": "2hVTLABYVWoW"
      }
    },
    {
      "cell_type": "markdown",
      "source": [
        "**Select**"
      ],
      "metadata": {
        "id": "HayS-gWRVhIt"
      }
    },
    {
      "cell_type": "code",
      "source": [
        "# Select Operation\n",
        "\n",
        "dataframe.select(\"school\").show(10) #Show all entries in sex column\n",
        "\n",
        "dataframe.select(\"school\", \"sex\", \"famsize\", \"Pstatus\").show(10)  #Show all entries in school, sex, famsize, Pstatus columns"
      ],
      "metadata": {
        "colab": {
          "base_uri": "https://localhost:8080/"
        },
        "id": "6SB_wIO5VUQ-",
        "outputId": "57b1ef07-109c-4d9a-cddb-4d78cf41033f"
      },
      "execution_count": 15,
      "outputs": [
        {
          "output_type": "stream",
          "name": "stdout",
          "text": [
            "+------+\n",
            "|school|\n",
            "+------+\n",
            "|    GP|\n",
            "|    GP|\n",
            "|    GP|\n",
            "|    GP|\n",
            "|    GP|\n",
            "|    GP|\n",
            "|    GP|\n",
            "|    GP|\n",
            "|    GP|\n",
            "|    GP|\n",
            "+------+\n",
            "only showing top 10 rows\n",
            "\n",
            "+------+---+-------+-------+\n",
            "|school|sex|famsize|Pstatus|\n",
            "+------+---+-------+-------+\n",
            "|    GP|  F|    GT3|      A|\n",
            "|    GP|  F|    GT3|      T|\n",
            "|    GP|  F|    LE3|      T|\n",
            "|    GP|  F|    GT3|      T|\n",
            "|    GP|  F|    GT3|      T|\n",
            "|    GP|  M|    LE3|      T|\n",
            "|    GP|  M|    LE3|      T|\n",
            "|    GP|  F|    GT3|      A|\n",
            "|    GP|  M|    LE3|      A|\n",
            "|    GP|  M|    GT3|      T|\n",
            "+------+---+-------+-------+\n",
            "only showing top 10 rows\n",
            "\n"
          ]
        }
      ]
    },
    {
      "cell_type": "markdown",
      "source": [
        "When"
      ],
      "metadata": {
        "id": "mSlznxGxV2ml"
      }
    },
    {
      "cell_type": "code",
      "source": [
        "# Show sex and assign 0 or 1 depending on Male or Female\n",
        "\n",
        "dataframe.select(\"sex\", when(dataframe.sex != 'F', 1).otherwise(0)).show(10)"
      ],
      "metadata": {
        "colab": {
          "base_uri": "https://localhost:8080/"
        },
        "id": "oZyPOegMVzNl",
        "outputId": "ec2f3eb5-6058-4c10-dab7-85e25cfd0e76"
      },
      "execution_count": 16,
      "outputs": [
        {
          "output_type": "stream",
          "name": "stdout",
          "text": [
            "+---+-------------------------------------------+\n",
            "|sex|CASE WHEN (NOT (sex = F)) THEN 1 ELSE 0 END|\n",
            "+---+-------------------------------------------+\n",
            "|  F|                                          0|\n",
            "|  F|                                          0|\n",
            "|  F|                                          0|\n",
            "|  F|                                          0|\n",
            "|  F|                                          0|\n",
            "|  M|                                          1|\n",
            "|  M|                                          1|\n",
            "|  F|                                          0|\n",
            "|  M|                                          1|\n",
            "|  M|                                          1|\n",
            "+---+-------------------------------------------+\n",
            "only showing top 10 rows\n",
            "\n"
          ]
        }
      ]
    },
    {
      "cell_type": "code",
      "source": [
        "# Show rows of students whose father's education is bwteen 3 – secondary education or 4 – higher education)\n",
        "\n",
        "dataframe [dataframe.Fedu.isin(\"3\",\"4\")].show(5)"
      ],
      "metadata": {
        "colab": {
          "base_uri": "https://localhost:8080/"
        },
        "id": "HIkyAKnuWAjj",
        "outputId": "ccc3b6ce-0df4-445b-8a68-f02fd57317c9"
      },
      "execution_count": 18,
      "outputs": [
        {
          "output_type": "stream",
          "name": "stdout",
          "text": [
            "+------+---+---+-------+-------+-------+----+----+--------+-------+----------+--------+----------+---------+--------+---------+------+----+----------+-------+------+--------+--------+------+--------+-----+----+----+------+--------+---+---+---+\n",
            "|school|sex|age|address|famsize|Pstatus|Medu|Fedu|    Mjob|   Fjob|    reason|guardian|traveltime|studytime|failures|schoolsup|famsup|paid|activities|nursery|higher|internet|romantic|famrel|freetime|goout|Dalc|Walc|health|absences| G1| G2| G3|\n",
            "+------+---+---+-------+-------+-------+----+----+--------+-------+----------+--------+----------+---------+--------+---------+------+----+----------+-------+------+--------+--------+------+--------+-----+----+----+------+--------+---+---+---+\n",
            "|    GP|  F| 18|      U|    GT3|      A|   4|   4| at_home|teacher|    course|  mother|         2|        2|       0|      yes|    no|  no|        no|    yes|   yes|      no|      no|     4|       3|    4|   1|   1|     3|       6|  5|  6|  6|\n",
            "|    GP|  F| 16|      U|    GT3|      T|   3|   3|   other|  other|      home|  father|         1|        2|       0|       no|   yes| yes|        no|    yes|   yes|      no|      no|     4|       3|    2|   1|   2|     5|       4|  6| 10| 10|\n",
            "|    GP|  M| 16|      U|    LE3|      T|   4|   3|services|  other|reputation|  mother|         1|        2|       0|       no|   yes| yes|       yes|    yes|   yes|     yes|      no|     5|       4|    2|   1|   2|     5|      10| 15| 15| 15|\n",
            "|    GP|  F| 17|      U|    GT3|      A|   4|   4|   other|teacher|      home|  mother|         2|        2|       0|      yes|   yes|  no|        no|    yes|   yes|      no|      no|     4|       1|    4|   1|   1|     1|       6|  6|  5|  6|\n",
            "|    GP|  M| 15|      U|    GT3|      T|   3|   4|   other|  other|      home|  mother|         1|        2|       0|       no|   yes| yes|       yes|    yes|   yes|     yes|      no|     5|       5|    1|   1|   1|     5|       0| 14| 15| 15|\n",
            "+------+---+---+-------+-------+-------+----+----+--------+-------+----------+--------+----------+---------+--------+---------+------+----+----------+-------+------+--------+--------+------+--------+-----+----+----+------+--------+---+---+---+\n",
            "only showing top 5 rows\n",
            "\n"
          ]
        }
      ]
    },
    {
      "cell_type": "markdown",
      "source": [
        "**Like**"
      ],
      "metadata": {
        "id": "YSNnHVx6W81n"
      }
    },
    {
      "cell_type": "code",
      "source": [
        "# # Show school and Mother's job is TRUE if Mjob has \"er\" word in Mjob\n",
        "\n",
        "dataframe.select(\"Mjob\", \"school\", dataframe.Mjob.like(\"%er\")).show(15)"
      ],
      "metadata": {
        "colab": {
          "base_uri": "https://localhost:8080/"
        },
        "id": "9N7pYaWRW02V",
        "outputId": "2a126669-fddb-49cd-e14f-d0eeb0558419"
      },
      "execution_count": 22,
      "outputs": [
        {
          "output_type": "stream",
          "name": "stdout",
          "text": [
            "+--------+------+-------------+\n",
            "|    Mjob|school|Mjob LIKE %er|\n",
            "+--------+------+-------------+\n",
            "| at_home|    GP|        false|\n",
            "| at_home|    GP|        false|\n",
            "| at_home|    GP|        false|\n",
            "|  health|    GP|        false|\n",
            "|   other|    GP|         true|\n",
            "|services|    GP|        false|\n",
            "|   other|    GP|         true|\n",
            "|   other|    GP|         true|\n",
            "|services|    GP|        false|\n",
            "|   other|    GP|         true|\n",
            "| teacher|    GP|         true|\n",
            "|services|    GP|        false|\n",
            "|  health|    GP|        false|\n",
            "| teacher|    GP|         true|\n",
            "|   other|    GP|         true|\n",
            "+--------+------+-------------+\n",
            "only showing top 15 rows\n",
            "\n"
          ]
        }
      ]
    },
    {
      "cell_type": "markdown",
      "source": [
        "**StartsWith - EndsWith**"
      ],
      "metadata": {
        "id": "fPbObafUYbms"
      }
    },
    {
      "cell_type": "code",
      "source": [
        "dataframe.select(\"Mjob\", \"school\", dataframe.Mjob.startswith(\"at_\")).show(5)\n",
        "\n",
        "dataframe.select(\"Fjob\", \"school\", dataframe.Fjob.endswith(\"er\")).show(5)"
      ],
      "metadata": {
        "colab": {
          "base_uri": "https://localhost:8080/"
        },
        "id": "UMHwwS_kXude",
        "outputId": "819d76a9-2222-4bd4-efe6-8a733942edc8"
      },
      "execution_count": 25,
      "outputs": [
        {
          "output_type": "stream",
          "name": "stdout",
          "text": [
            "+-------+------+---------------------+\n",
            "|   Mjob|school|startswith(Mjob, at_)|\n",
            "+-------+------+---------------------+\n",
            "|at_home|    GP|                 true|\n",
            "|at_home|    GP|                 true|\n",
            "|at_home|    GP|                 true|\n",
            "| health|    GP|                false|\n",
            "|  other|    GP|                false|\n",
            "+-------+------+---------------------+\n",
            "only showing top 5 rows\n",
            "\n",
            "+--------+------+------------------+\n",
            "|    Fjob|school|endswith(Fjob, er)|\n",
            "+--------+------+------------------+\n",
            "| teacher|    GP|              true|\n",
            "|   other|    GP|              true|\n",
            "|   other|    GP|              true|\n",
            "|services|    GP|             false|\n",
            "|   other|    GP|              true|\n",
            "+--------+------+------------------+\n",
            "only showing top 5 rows\n",
            "\n"
          ]
        }
      ]
    },
    {
      "cell_type": "markdown",
      "source": [
        "**Substring**"
      ],
      "metadata": {
        "id": "KRfi6Ao_ZEew"
      }
    },
    {
      "cell_type": "code",
      "source": [
        "dataframe.select(dataframe.Mjob.substr(1, 3).alias(\"school\")).show()"
      ],
      "metadata": {
        "colab": {
          "base_uri": "https://localhost:8080/"
        },
        "id": "tL4r2ovgYvxX",
        "outputId": "c43fe16a-4138-408f-8f90-18e6966281ae"
      },
      "execution_count": 26,
      "outputs": [
        {
          "output_type": "stream",
          "name": "stdout",
          "text": [
            "+------+\n",
            "|school|\n",
            "+------+\n",
            "|   at_|\n",
            "|   at_|\n",
            "|   at_|\n",
            "|   hea|\n",
            "|   oth|\n",
            "|   ser|\n",
            "|   oth|\n",
            "|   oth|\n",
            "|   ser|\n",
            "|   oth|\n",
            "|   tea|\n",
            "|   ser|\n",
            "|   hea|\n",
            "|   tea|\n",
            "|   oth|\n",
            "|   hea|\n",
            "|   ser|\n",
            "|   oth|\n",
            "|   ser|\n",
            "|   hea|\n",
            "+------+\n",
            "only showing top 20 rows\n",
            "\n"
          ]
        }
      ]
    },
    {
      "cell_type": "markdown",
      "source": [
        "**INSPECT DATA**"
      ],
      "metadata": {
        "id": "eNpWBYiAZVui"
      }
    },
    {
      "cell_type": "code",
      "source": [
        "# Returns dataframe column names and data types\n",
        "dataframe.dtypes"
      ],
      "metadata": {
        "colab": {
          "base_uri": "https://localhost:8080/"
        },
        "id": "nWrsBLeSZYZm",
        "outputId": "df849ca7-7f5f-4bd3-a464-617fa14b0e43"
      },
      "execution_count": 27,
      "outputs": [
        {
          "output_type": "execute_result",
          "data": {
            "text/plain": [
              "[('school', 'string'),\n",
              " ('sex', 'string'),\n",
              " ('age', 'string'),\n",
              " ('address', 'string'),\n",
              " ('famsize', 'string'),\n",
              " ('Pstatus', 'string'),\n",
              " ('Medu', 'string'),\n",
              " ('Fedu', 'string'),\n",
              " ('Mjob', 'string'),\n",
              " ('Fjob', 'string'),\n",
              " ('reason', 'string'),\n",
              " ('guardian', 'string'),\n",
              " ('traveltime', 'string'),\n",
              " ('studytime', 'string'),\n",
              " ('failures', 'string'),\n",
              " ('schoolsup', 'string'),\n",
              " ('famsup', 'string'),\n",
              " ('paid', 'string'),\n",
              " ('activities', 'string'),\n",
              " ('nursery', 'string'),\n",
              " ('higher', 'string'),\n",
              " ('internet', 'string'),\n",
              " ('romantic', 'string'),\n",
              " ('famrel', 'string'),\n",
              " ('freetime', 'string'),\n",
              " ('goout', 'string'),\n",
              " ('Dalc', 'string'),\n",
              " ('Walc', 'string'),\n",
              " ('health', 'string'),\n",
              " ('absences', 'string'),\n",
              " ('G1', 'string'),\n",
              " ('G2', 'string'),\n",
              " ('G3', 'string')]"
            ]
          },
          "metadata": {},
          "execution_count": 27
        }
      ]
    },
    {
      "cell_type": "code",
      "source": [
        "# Displays the content of dataframe\n",
        "dataframe.show()"
      ],
      "metadata": {
        "colab": {
          "base_uri": "https://localhost:8080/"
        },
        "id": "4X0bZbVsfM_1",
        "outputId": "cf34b3e2-9cbf-4ac9-9a25-3e1ec234af76"
      },
      "execution_count": 28,
      "outputs": [
        {
          "output_type": "stream",
          "name": "stdout",
          "text": [
            "+------+---+---+-------+-------+-------+----+----+--------+--------+----------+--------+----------+---------+--------+---------+------+----+----------+-------+------+--------+--------+------+--------+-----+----+----+------+--------+---+---+---+\n",
            "|school|sex|age|address|famsize|Pstatus|Medu|Fedu|    Mjob|    Fjob|    reason|guardian|traveltime|studytime|failures|schoolsup|famsup|paid|activities|nursery|higher|internet|romantic|famrel|freetime|goout|Dalc|Walc|health|absences| G1| G2| G3|\n",
            "+------+---+---+-------+-------+-------+----+----+--------+--------+----------+--------+----------+---------+--------+---------+------+----+----------+-------+------+--------+--------+------+--------+-----+----+----+------+--------+---+---+---+\n",
            "|    GP|  F| 18|      U|    GT3|      A|   4|   4| at_home| teacher|    course|  mother|         2|        2|       0|      yes|    no|  no|        no|    yes|   yes|      no|      no|     4|       3|    4|   1|   1|     3|       6|  5|  6|  6|\n",
            "|    GP|  F| 17|      U|    GT3|      T|   1|   1| at_home|   other|    course|  father|         1|        2|       0|       no|   yes|  no|        no|     no|   yes|     yes|      no|     5|       3|    3|   1|   1|     3|       4|  5|  5|  6|\n",
            "|    GP|  F| 15|      U|    LE3|      T|   1|   1| at_home|   other|     other|  mother|         1|        2|       3|      yes|    no| yes|        no|    yes|   yes|     yes|      no|     4|       3|    2|   2|   3|     3|      10|  7|  8| 10|\n",
            "|    GP|  F| 15|      U|    GT3|      T|   4|   2|  health|services|      home|  mother|         1|        3|       0|       no|   yes| yes|       yes|    yes|   yes|     yes|     yes|     3|       2|    2|   1|   1|     5|       2| 15| 14| 15|\n",
            "|    GP|  F| 16|      U|    GT3|      T|   3|   3|   other|   other|      home|  father|         1|        2|       0|       no|   yes| yes|        no|    yes|   yes|      no|      no|     4|       3|    2|   1|   2|     5|       4|  6| 10| 10|\n",
            "|    GP|  M| 16|      U|    LE3|      T|   4|   3|services|   other|reputation|  mother|         1|        2|       0|       no|   yes| yes|       yes|    yes|   yes|     yes|      no|     5|       4|    2|   1|   2|     5|      10| 15| 15| 15|\n",
            "|    GP|  M| 16|      U|    LE3|      T|   2|   2|   other|   other|      home|  mother|         1|        2|       0|       no|    no|  no|        no|    yes|   yes|     yes|      no|     4|       4|    4|   1|   1|     3|       0| 12| 12| 11|\n",
            "|    GP|  F| 17|      U|    GT3|      A|   4|   4|   other| teacher|      home|  mother|         2|        2|       0|      yes|   yes|  no|        no|    yes|   yes|      no|      no|     4|       1|    4|   1|   1|     1|       6|  6|  5|  6|\n",
            "|    GP|  M| 15|      U|    LE3|      A|   3|   2|services|   other|      home|  mother|         1|        2|       0|       no|   yes| yes|        no|    yes|   yes|     yes|      no|     4|       2|    2|   1|   1|     1|       0| 16| 18| 19|\n",
            "|    GP|  M| 15|      U|    GT3|      T|   3|   4|   other|   other|      home|  mother|         1|        2|       0|       no|   yes| yes|       yes|    yes|   yes|     yes|      no|     5|       5|    1|   1|   1|     5|       0| 14| 15| 15|\n",
            "|    GP|  F| 15|      U|    GT3|      T|   4|   4| teacher|  health|reputation|  mother|         1|        2|       0|       no|   yes| yes|        no|    yes|   yes|     yes|      no|     3|       3|    3|   1|   2|     2|       0| 10|  8|  9|\n",
            "|    GP|  F| 15|      U|    GT3|      T|   2|   1|services|   other|reputation|  father|         3|        3|       0|       no|   yes|  no|       yes|    yes|   yes|     yes|      no|     5|       2|    2|   1|   1|     4|       4| 10| 12| 12|\n",
            "|    GP|  M| 15|      U|    LE3|      T|   4|   4|  health|services|    course|  father|         1|        1|       0|       no|   yes| yes|       yes|    yes|   yes|     yes|      no|     4|       3|    3|   1|   3|     5|       2| 14| 14| 14|\n",
            "|    GP|  M| 15|      U|    GT3|      T|   4|   3| teacher|   other|    course|  mother|         2|        2|       0|       no|   yes| yes|        no|    yes|   yes|     yes|      no|     5|       4|    3|   1|   2|     3|       2| 10| 10| 11|\n",
            "|    GP|  M| 15|      U|    GT3|      A|   2|   2|   other|   other|      home|   other|         1|        3|       0|       no|   yes|  no|        no|    yes|   yes|     yes|     yes|     4|       5|    2|   1|   1|     3|       0| 14| 16| 16|\n",
            "|    GP|  F| 16|      U|    GT3|      T|   4|   4|  health|   other|      home|  mother|         1|        1|       0|       no|   yes|  no|        no|    yes|   yes|     yes|      no|     4|       4|    4|   1|   2|     2|       4| 14| 14| 14|\n",
            "|    GP|  F| 16|      U|    GT3|      T|   4|   4|services|services|reputation|  mother|         1|        3|       0|       no|   yes| yes|       yes|    yes|   yes|     yes|      no|     3|       2|    3|   1|   2|     2|       6| 13| 14| 14|\n",
            "|    GP|  F| 16|      U|    GT3|      T|   3|   3|   other|   other|reputation|  mother|         3|        2|       0|      yes|   yes|  no|       yes|    yes|   yes|      no|      no|     5|       3|    2|   1|   1|     4|       4|  8| 10| 10|\n",
            "|    GP|  M| 17|      U|    GT3|      T|   3|   2|services|services|    course|  mother|         1|        1|       3|       no|   yes|  no|       yes|    yes|   yes|     yes|      no|     5|       5|    5|   2|   4|     5|      16|  6|  5|  5|\n",
            "|    GP|  M| 16|      U|    LE3|      T|   4|   3|  health|   other|      home|  father|         1|        1|       0|       no|    no| yes|       yes|    yes|   yes|     yes|      no|     3|       1|    3|   1|   3|     5|       4|  8| 10| 10|\n",
            "+------+---+---+-------+-------+-------+----+----+--------+--------+----------+--------+----------+---------+--------+---------+------+----+----------+-------+------+--------+--------+------+--------+-----+----+----+------+--------+---+---+---+\n",
            "only showing top 20 rows\n",
            "\n"
          ]
        }
      ]
    },
    {
      "cell_type": "code",
      "source": [
        "# Return first n rows\n",
        "dataframe.head()"
      ],
      "metadata": {
        "colab": {
          "base_uri": "https://localhost:8080/"
        },
        "id": "XwbhlAI3fSRw",
        "outputId": "d017ae7b-061f-4f08-e272-e369f544c2ea"
      },
      "execution_count": 29,
      "outputs": [
        {
          "output_type": "execute_result",
          "data": {
            "text/plain": [
              "Row(school='GP', sex='F', age='18', address='U', famsize='GT3', Pstatus='A', Medu='4', Fedu='4', Mjob='at_home', Fjob='teacher', reason='course', guardian='mother', traveltime='2', studytime='2', failures='0', schoolsup='yes', famsup='no', paid='no', activities='no', nursery='yes', higher='yes', internet='no', romantic='no', famrel='4', freetime='3', goout='4', Dalc='1', Walc='1', health='3', absences='6', G1='5', G2='6', G3='6')"
            ]
          },
          "metadata": {},
          "execution_count": 29
        }
      ]
    },
    {
      "cell_type": "code",
      "source": [
        "# Returns first row\n",
        "dataframe.first()"
      ],
      "metadata": {
        "colab": {
          "base_uri": "https://localhost:8080/"
        },
        "id": "2zc9ZILKfUOR",
        "outputId": "0d59a12c-a899-4ed7-b3b0-fcb84ddacd2a"
      },
      "execution_count": 30,
      "outputs": [
        {
          "output_type": "execute_result",
          "data": {
            "text/plain": [
              "Row(school='GP', sex='F', age='18', address='U', famsize='GT3', Pstatus='A', Medu='4', Fedu='4', Mjob='at_home', Fjob='teacher', reason='course', guardian='mother', traveltime='2', studytime='2', failures='0', schoolsup='yes', famsup='no', paid='no', activities='no', nursery='yes', higher='yes', internet='no', romantic='no', famrel='4', freetime='3', goout='4', Dalc='1', Walc='1', health='3', absences='6', G1='5', G2='6', G3='6')"
            ]
          },
          "metadata": {},
          "execution_count": 30
        }
      ]
    },
    {
      "cell_type": "code",
      "source": [
        "# Return first n rows\n",
        "dataframe.take(5)"
      ],
      "metadata": {
        "colab": {
          "base_uri": "https://localhost:8080/"
        },
        "id": "vTa3V9MkfWaI",
        "outputId": "646631ef-e0db-4f1d-855e-2fc64d314d7d"
      },
      "execution_count": 31,
      "outputs": [
        {
          "output_type": "execute_result",
          "data": {
            "text/plain": [
              "[Row(school='GP', sex='F', age='18', address='U', famsize='GT3', Pstatus='A', Medu='4', Fedu='4', Mjob='at_home', Fjob='teacher', reason='course', guardian='mother', traveltime='2', studytime='2', failures='0', schoolsup='yes', famsup='no', paid='no', activities='no', nursery='yes', higher='yes', internet='no', romantic='no', famrel='4', freetime='3', goout='4', Dalc='1', Walc='1', health='3', absences='6', G1='5', G2='6', G3='6'),\n",
              " Row(school='GP', sex='F', age='17', address='U', famsize='GT3', Pstatus='T', Medu='1', Fedu='1', Mjob='at_home', Fjob='other', reason='course', guardian='father', traveltime='1', studytime='2', failures='0', schoolsup='no', famsup='yes', paid='no', activities='no', nursery='no', higher='yes', internet='yes', romantic='no', famrel='5', freetime='3', goout='3', Dalc='1', Walc='1', health='3', absences='4', G1='5', G2='5', G3='6'),\n",
              " Row(school='GP', sex='F', age='15', address='U', famsize='LE3', Pstatus='T', Medu='1', Fedu='1', Mjob='at_home', Fjob='other', reason='other', guardian='mother', traveltime='1', studytime='2', failures='3', schoolsup='yes', famsup='no', paid='yes', activities='no', nursery='yes', higher='yes', internet='yes', romantic='no', famrel='4', freetime='3', goout='2', Dalc='2', Walc='3', health='3', absences='10', G1='7', G2='8', G3='10'),\n",
              " Row(school='GP', sex='F', age='15', address='U', famsize='GT3', Pstatus='T', Medu='4', Fedu='2', Mjob='health', Fjob='services', reason='home', guardian='mother', traveltime='1', studytime='3', failures='0', schoolsup='no', famsup='yes', paid='yes', activities='yes', nursery='yes', higher='yes', internet='yes', romantic='yes', famrel='3', freetime='2', goout='2', Dalc='1', Walc='1', health='5', absences='2', G1='15', G2='14', G3='15'),\n",
              " Row(school='GP', sex='F', age='16', address='U', famsize='GT3', Pstatus='T', Medu='3', Fedu='3', Mjob='other', Fjob='other', reason='home', guardian='father', traveltime='1', studytime='2', failures='0', schoolsup='no', famsup='yes', paid='yes', activities='no', nursery='yes', higher='yes', internet='no', romantic='no', famrel='4', freetime='3', goout='2', Dalc='1', Walc='2', health='5', absences='4', G1='6', G2='10', G3='10')]"
            ]
          },
          "metadata": {},
          "execution_count": 31
        }
      ]
    },
    {
      "cell_type": "code",
      "source": [
        "# Computes summary statistics\n",
        "dataframe.describe().show()"
      ],
      "metadata": {
        "colab": {
          "base_uri": "https://localhost:8080/"
        },
        "id": "b-dpB-qrfYEt",
        "outputId": "e722e853-237d-4030-851f-b95b483f3d75"
      },
      "execution_count": 32,
      "outputs": [
        {
          "output_type": "stream",
          "name": "stdout",
          "text": [
            "+-------+------+----+------------------+-------+-------+-------+------------------+------------------+-------+-------+----------+--------+------------------+------------------+------------------+---------+------+----+----------+-------+------+--------+--------+------------------+------------------+------------------+------------------+------------------+------------------+-----------------+------------------+------------------+------------------+\n",
            "|summary|school| sex|               age|address|famsize|Pstatus|              Medu|              Fedu|   Mjob|   Fjob|    reason|guardian|        traveltime|         studytime|          failures|schoolsup|famsup|paid|activities|nursery|higher|internet|romantic|            famrel|          freetime|             goout|              Dalc|              Walc|            health|         absences|                G1|                G2|                G3|\n",
            "+-------+------+----+------------------+-------+-------+-------+------------------+------------------+-------+-------+----------+--------+------------------+------------------+------------------+---------+------+----+----------+-------+------+--------+--------+------------------+------------------+------------------+------------------+------------------+------------------+-----------------+------------------+------------------+------------------+\n",
            "|  count|   395| 395|               395|    395|    395|    395|               395|               395|    395|    395|       395|     395|               395|               395|               395|      395|   395| 395|       395|    395|   395|     395|     395|               395|               395|               395|               395|               395|               395|              395|               395|               395|               395|\n",
            "|   mean|  null|null|16.696202531645568|   null|   null|   null| 2.749367088607595|2.5215189873417723|   null|   null|      null|    null|1.4481012658227848|2.0354430379746837|0.3341772151898734|     null|  null|null|      null|   null|  null|    null|    null|3.9443037974683546|3.2354430379746835| 3.108860759493671| 1.481012658227848|2.2911392405063293|3.5544303797468353|5.708860759493671| 10.90886075949367|10.713924050632912|10.415189873417722|\n",
            "| stddev|  null|null|1.2760427246056265|   null|   null|   null|1.0947351414285371|1.0882005458269433|   null|   null|      null|    null|0.6975047549086822|0.8392403464185556|0.7436509736062509|     null|  null|null|      null|   null|  null|    null|    null|0.8966586076885046|0.9988620396657203|1.1132781740183422|0.8907414280909668|1.2878965924510932|1.3903033913095773|8.003095687108182|3.3191946715076686|3.7615046595560306|4.5814426109978434|\n",
            "|    min|    GP|   F|                15|      R|    GT3|      A|                 0|                 0|at_home|at_home|    course|  father|                 1|                 1|                 0|       no|    no|  no|        no|     no|    no|      no|      no|                 1|                 1|                 1|                 1|                 1|                 1|                0|                10|                 0|                 0|\n",
            "|    max|    MS|   M|                22|      U|    LE3|      T|                 4|                 4|teacher|teacher|reputation|   other|                 4|                 4|                 3|      yes|   yes| yes|       yes|    yes|   yes|     yes|     yes|                 5|                 5|                 5|                 5|                 5|                 5|                9|                 9|                 9|                 9|\n",
            "+-------+------+----+------------------+-------+-------+-------+------------------+------------------+-------+-------+----------+--------+------------------+------------------+------------------+---------+------+----+----------+-------+------+--------+--------+------------------+------------------+------------------+------------------+------------------+------------------+-----------------+------------------+------------------+------------------+\n",
            "\n"
          ]
        }
      ]
    },
    {
      "cell_type": "code",
      "source": [
        "# Returns columns of dataframe\n",
        "dataframe.columns"
      ],
      "metadata": {
        "colab": {
          "base_uri": "https://localhost:8080/"
        },
        "id": "62I-Iz-ofaGC",
        "outputId": "f5579554-206e-49c5-d755-1cc92fe204ba"
      },
      "execution_count": 33,
      "outputs": [
        {
          "output_type": "execute_result",
          "data": {
            "text/plain": [
              "['school',\n",
              " 'sex',\n",
              " 'age',\n",
              " 'address',\n",
              " 'famsize',\n",
              " 'Pstatus',\n",
              " 'Medu',\n",
              " 'Fedu',\n",
              " 'Mjob',\n",
              " 'Fjob',\n",
              " 'reason',\n",
              " 'guardian',\n",
              " 'traveltime',\n",
              " 'studytime',\n",
              " 'failures',\n",
              " 'schoolsup',\n",
              " 'famsup',\n",
              " 'paid',\n",
              " 'activities',\n",
              " 'nursery',\n",
              " 'higher',\n",
              " 'internet',\n",
              " 'romantic',\n",
              " 'famrel',\n",
              " 'freetime',\n",
              " 'goout',\n",
              " 'Dalc',\n",
              " 'Walc',\n",
              " 'health',\n",
              " 'absences',\n",
              " 'G1',\n",
              " 'G2',\n",
              " 'G3']"
            ]
          },
          "metadata": {},
          "execution_count": 33
        }
      ]
    },
    {
      "cell_type": "code",
      "source": [
        "# Counts the number of rows in dataframe\n",
        "dataframe.count()"
      ],
      "metadata": {
        "colab": {
          "base_uri": "https://localhost:8080/"
        },
        "id": "-JcjIGRZfcJU",
        "outputId": "df6851a8-6ef2-4fa9-f861-494350aaad66"
      },
      "execution_count": 34,
      "outputs": [
        {
          "output_type": "execute_result",
          "data": {
            "text/plain": [
              "395"
            ]
          },
          "metadata": {},
          "execution_count": 34
        }
      ]
    },
    {
      "cell_type": "code",
      "source": [
        "# Counts the number of distinct rows in dataframe\n",
        "dataframe.distinct().count()"
      ],
      "metadata": {
        "colab": {
          "base_uri": "https://localhost:8080/"
        },
        "id": "Q3oXR_ZIffO8",
        "outputId": "514ab2e7-f71b-44ad-daf5-b56cc294d5f9"
      },
      "execution_count": 35,
      "outputs": [
        {
          "output_type": "execute_result",
          "data": {
            "text/plain": [
              "395"
            ]
          },
          "metadata": {},
          "execution_count": 35
        }
      ]
    },
    {
      "cell_type": "markdown",
      "source": [
        "##**ADD, UPDATE & REMOVE COLUMNS**"
      ],
      "metadata": {
        "id": "IlxMq6t_fvfr"
      }
    },
    {
      "cell_type": "code",
      "source": [
        "# Lit() is required while we are creating columns with exact values.\n",
        "\n",
        "dataframe = dataframe.withColumn('new_column', lit('This is a new column'))\n",
        "dataframe.show(5)"
      ],
      "metadata": {
        "colab": {
          "base_uri": "https://localhost:8080/"
        },
        "id": "RLghulh2fkRV",
        "outputId": "36014f20-282f-4b7d-dff5-7f16b1ad92f5"
      },
      "execution_count": 37,
      "outputs": [
        {
          "output_type": "stream",
          "name": "stdout",
          "text": [
            "+------+---+---+-------+-------+-------+----+----+-------+--------+------+--------+----------+---------+--------+---------+------+----+----------+-------+------+--------+--------+------+--------+-----+----+----+------+--------+---+---+---+--------------------+\n",
            "|school|sex|age|address|famsize|Pstatus|Medu|Fedu|   Mjob|    Fjob|reason|guardian|traveltime|studytime|failures|schoolsup|famsup|paid|activities|nursery|higher|internet|romantic|famrel|freetime|goout|Dalc|Walc|health|absences| G1| G2| G3|          new_column|\n",
            "+------+---+---+-------+-------+-------+----+----+-------+--------+------+--------+----------+---------+--------+---------+------+----+----------+-------+------+--------+--------+------+--------+-----+----+----+------+--------+---+---+---+--------------------+\n",
            "|    GP|  F| 18|      U|    GT3|      A|   4|   4|at_home| teacher|course|  mother|         2|        2|       0|      yes|    no|  no|        no|    yes|   yes|      no|      no|     4|       3|    4|   1|   1|     3|       6|  5|  6|  6|This is a new column|\n",
            "|    GP|  F| 17|      U|    GT3|      T|   1|   1|at_home|   other|course|  father|         1|        2|       0|       no|   yes|  no|        no|     no|   yes|     yes|      no|     5|       3|    3|   1|   1|     3|       4|  5|  5|  6|This is a new column|\n",
            "|    GP|  F| 15|      U|    LE3|      T|   1|   1|at_home|   other| other|  mother|         1|        2|       3|      yes|    no| yes|        no|    yes|   yes|     yes|      no|     4|       3|    2|   2|   3|     3|      10|  7|  8| 10|This is a new column|\n",
            "|    GP|  F| 15|      U|    GT3|      T|   4|   2| health|services|  home|  mother|         1|        3|       0|       no|   yes| yes|       yes|    yes|   yes|     yes|     yes|     3|       2|    2|   1|   1|     5|       2| 15| 14| 15|This is a new column|\n",
            "|    GP|  F| 16|      U|    GT3|      T|   3|   3|  other|   other|  home|  father|         1|        2|       0|       no|   yes| yes|        no|    yes|   yes|      no|      no|     4|       3|    2|   1|   2|     5|       4|  6| 10| 10|This is a new column|\n",
            "+------+---+---+-------+-------+-------+----+----+-------+--------+------+--------+----------+---------+--------+---------+------+----+----------+-------+------+--------+--------+------+--------+-----+----+----+------+--------+---+---+---+--------------------+\n",
            "only showing top 5 rows\n",
            "\n"
          ]
        }
      ]
    },
    {
      "cell_type": "code",
      "source": [
        "# Update column 'Medu' with 'Mothers_Edu'\n",
        "\n",
        "dataframe = dataframe.withColumnRenamed('Medu', 'Mother_Edu')\n",
        "dataframe.show(5)"
      ],
      "metadata": {
        "colab": {
          "base_uri": "https://localhost:8080/"
        },
        "id": "jB_XJ_w2fnXg",
        "outputId": "8f3e4baa-db71-4be2-979e-303b5c5ef5fc"
      },
      "execution_count": 40,
      "outputs": [
        {
          "output_type": "stream",
          "name": "stdout",
          "text": [
            "+------+---+---+-------+-------+-------+----------+----+-------+--------+------+--------+----------+---------+--------+---------+------+----+----------+-------+------+--------+--------+------+--------+-----+----+----+------+--------+---+---+---+--------------------+\n",
            "|school|sex|age|address|famsize|Pstatus|Mother_Edu|Fedu|   Mjob|    Fjob|reason|guardian|traveltime|studytime|failures|schoolsup|famsup|paid|activities|nursery|higher|internet|romantic|famrel|freetime|goout|Dalc|Walc|health|absences| G1| G2| G3|          new_column|\n",
            "+------+---+---+-------+-------+-------+----------+----+-------+--------+------+--------+----------+---------+--------+---------+------+----+----------+-------+------+--------+--------+------+--------+-----+----+----+------+--------+---+---+---+--------------------+\n",
            "|    GP|  F| 18|      U|    GT3|      A|         4|   4|at_home| teacher|course|  mother|         2|        2|       0|      yes|    no|  no|        no|    yes|   yes|      no|      no|     4|       3|    4|   1|   1|     3|       6|  5|  6|  6|This is a new column|\n",
            "|    GP|  F| 17|      U|    GT3|      T|         1|   1|at_home|   other|course|  father|         1|        2|       0|       no|   yes|  no|        no|     no|   yes|     yes|      no|     5|       3|    3|   1|   1|     3|       4|  5|  5|  6|This is a new column|\n",
            "|    GP|  F| 15|      U|    LE3|      T|         1|   1|at_home|   other| other|  mother|         1|        2|       3|      yes|    no| yes|        no|    yes|   yes|     yes|      no|     4|       3|    2|   2|   3|     3|      10|  7|  8| 10|This is a new column|\n",
            "|    GP|  F| 15|      U|    GT3|      T|         4|   2| health|services|  home|  mother|         1|        3|       0|       no|   yes| yes|       yes|    yes|   yes|     yes|     yes|     3|       2|    2|   1|   1|     5|       2| 15| 14| 15|This is a new column|\n",
            "|    GP|  F| 16|      U|    GT3|      T|         3|   3|  other|   other|  home|  father|         1|        2|       0|       no|   yes| yes|        no|    yes|   yes|      no|      no|     4|       3|    2|   1|   2|     5|       4|  6| 10| 10|This is a new column|\n",
            "+------+---+---+-------+-------+-------+----------+----+-------+--------+------+--------+----------+---------+--------+---------+------+----+----------+-------+------+--------+--------+------+--------+-----+----+----+------+--------+---+---+---+--------------------+\n",
            "only showing top 5 rows\n",
            "\n"
          ]
        }
      ]
    },
    {
      "cell_type": "code",
      "source": [
        "dataframe_remove = dataframe.drop(\"address\", \"famsize\").show(5)\n",
        "\n",
        "dataframe_remove2 = dataframe.drop(dataframe.address).drop(dataframe.famsize).show(5)"
      ],
      "metadata": {
        "colab": {
          "base_uri": "https://localhost:8080/"
        },
        "id": "5gED-ky9f9Sn",
        "outputId": "7f897130-9831-4e19-9b8f-2044677c58bc"
      },
      "execution_count": 39,
      "outputs": [
        {
          "output_type": "stream",
          "name": "stdout",
          "text": [
            "+------+---+---+-------+----------+----+-------+--------+------+--------+----------+---------+--------+---------+------+----+----------+-------+------+--------+--------+------+--------+-----+----+----+------+--------+---+---+---+--------------------+\n",
            "|school|sex|age|Pstatus|Mother_Edu|Fedu|   Mjob|    Fjob|reason|guardian|traveltime|studytime|failures|schoolsup|famsup|paid|activities|nursery|higher|internet|romantic|famrel|freetime|goout|Dalc|Walc|health|absences| G1| G2| G3|          new_column|\n",
            "+------+---+---+-------+----------+----+-------+--------+------+--------+----------+---------+--------+---------+------+----+----------+-------+------+--------+--------+------+--------+-----+----+----+------+--------+---+---+---+--------------------+\n",
            "|    GP|  F| 18|      A|         4|   4|at_home| teacher|course|  mother|         2|        2|       0|      yes|    no|  no|        no|    yes|   yes|      no|      no|     4|       3|    4|   1|   1|     3|       6|  5|  6|  6|This is a new column|\n",
            "|    GP|  F| 17|      T|         1|   1|at_home|   other|course|  father|         1|        2|       0|       no|   yes|  no|        no|     no|   yes|     yes|      no|     5|       3|    3|   1|   1|     3|       4|  5|  5|  6|This is a new column|\n",
            "|    GP|  F| 15|      T|         1|   1|at_home|   other| other|  mother|         1|        2|       3|      yes|    no| yes|        no|    yes|   yes|     yes|      no|     4|       3|    2|   2|   3|     3|      10|  7|  8| 10|This is a new column|\n",
            "|    GP|  F| 15|      T|         4|   2| health|services|  home|  mother|         1|        3|       0|       no|   yes| yes|       yes|    yes|   yes|     yes|     yes|     3|       2|    2|   1|   1|     5|       2| 15| 14| 15|This is a new column|\n",
            "|    GP|  F| 16|      T|         3|   3|  other|   other|  home|  father|         1|        2|       0|       no|   yes| yes|        no|    yes|   yes|      no|      no|     4|       3|    2|   1|   2|     5|       4|  6| 10| 10|This is a new column|\n",
            "+------+---+---+-------+----------+----+-------+--------+------+--------+----------+---------+--------+---------+------+----+----------+-------+------+--------+--------+------+--------+-----+----+----+------+--------+---+---+---+--------------------+\n",
            "only showing top 5 rows\n",
            "\n",
            "+------+---+---+-------+----------+----+-------+--------+------+--------+----------+---------+--------+---------+------+----+----------+-------+------+--------+--------+------+--------+-----+----+----+------+--------+---+---+---+--------------------+\n",
            "|school|sex|age|Pstatus|Mother_Edu|Fedu|   Mjob|    Fjob|reason|guardian|traveltime|studytime|failures|schoolsup|famsup|paid|activities|nursery|higher|internet|romantic|famrel|freetime|goout|Dalc|Walc|health|absences| G1| G2| G3|          new_column|\n",
            "+------+---+---+-------+----------+----+-------+--------+------+--------+----------+---------+--------+---------+------+----+----------+-------+------+--------+--------+------+--------+-----+----+----+------+--------+---+---+---+--------------------+\n",
            "|    GP|  F| 18|      A|         4|   4|at_home| teacher|course|  mother|         2|        2|       0|      yes|    no|  no|        no|    yes|   yes|      no|      no|     4|       3|    4|   1|   1|     3|       6|  5|  6|  6|This is a new column|\n",
            "|    GP|  F| 17|      T|         1|   1|at_home|   other|course|  father|         1|        2|       0|       no|   yes|  no|        no|     no|   yes|     yes|      no|     5|       3|    3|   1|   1|     3|       4|  5|  5|  6|This is a new column|\n",
            "|    GP|  F| 15|      T|         1|   1|at_home|   other| other|  mother|         1|        2|       3|      yes|    no| yes|        no|    yes|   yes|     yes|      no|     4|       3|    2|   2|   3|     3|      10|  7|  8| 10|This is a new column|\n",
            "|    GP|  F| 15|      T|         4|   2| health|services|  home|  mother|         1|        3|       0|       no|   yes| yes|       yes|    yes|   yes|     yes|     yes|     3|       2|    2|   1|   1|     5|       2| 15| 14| 15|This is a new column|\n",
            "|    GP|  F| 16|      T|         3|   3|  other|   other|  home|  father|         1|        2|       0|       no|   yes| yes|        no|    yes|   yes|      no|      no|     4|       3|    2|   1|   2|     5|       4|  6| 10| 10|This is a new column|\n",
            "+------+---+---+-------+----------+----+-------+--------+------+--------+----------+---------+--------+---------+------+----+----------+-------+------+--------+--------+------+--------+-----+----+----+------+--------+---+---+---+--------------------+\n",
            "only showing top 5 rows\n",
            "\n"
          ]
        }
      ]
    },
    {
      "cell_type": "markdown",
      "source": [
        "##**GROUPBY**"
      ],
      "metadata": {
        "id": "MoxPCziDgMYY"
      }
    },
    {
      "cell_type": "code",
      "source": [
        "# Group by sex, count the students of the different genders in the groups\n",
        "dataframe.groupBy(\"sex\").count().show(10)"
      ],
      "metadata": {
        "colab": {
          "base_uri": "https://localhost:8080/"
        },
        "id": "uUK9z3L2gGnO",
        "outputId": "d80de640-7baa-4d9d-9a93-567221609d9a"
      },
      "execution_count": 41,
      "outputs": [
        {
          "output_type": "stream",
          "name": "stdout",
          "text": [
            "+---+-----+\n",
            "|sex|count|\n",
            "+---+-----+\n",
            "|  F|  208|\n",
            "|  M|  187|\n",
            "+---+-----+\n",
            "\n"
          ]
        }
      ]
    },
    {
      "cell_type": "markdown",
      "source": [
        "##**MISSIING** AND REPLACING VALUES"
      ],
      "metadata": {
        "id": "JxRaANtWgg20"
      }
    },
    {
      "cell_type": "code",
      "source": [
        "# Replace null values\n",
        "dataframe.na.fill(50).show(5)"
      ],
      "metadata": {
        "colab": {
          "base_uri": "https://localhost:8080/"
        },
        "id": "bes0tT1RgeXc",
        "outputId": "0574e671-f56f-4ef9-b03e-e64e77603738"
      },
      "execution_count": 42,
      "outputs": [
        {
          "output_type": "stream",
          "name": "stdout",
          "text": [
            "+------+---+---+-------+-------+-------+----------+----+-------+--------+------+--------+----------+---------+--------+---------+------+----+----------+-------+------+--------+--------+------+--------+-----+----+----+------+--------+---+---+---+--------------------+\n",
            "|school|sex|age|address|famsize|Pstatus|Mother_Edu|Fedu|   Mjob|    Fjob|reason|guardian|traveltime|studytime|failures|schoolsup|famsup|paid|activities|nursery|higher|internet|romantic|famrel|freetime|goout|Dalc|Walc|health|absences| G1| G2| G3|          new_column|\n",
            "+------+---+---+-------+-------+-------+----------+----+-------+--------+------+--------+----------+---------+--------+---------+------+----+----------+-------+------+--------+--------+------+--------+-----+----+----+------+--------+---+---+---+--------------------+\n",
            "|    GP|  F| 18|      U|    GT3|      A|         4|   4|at_home| teacher|course|  mother|         2|        2|       0|      yes|    no|  no|        no|    yes|   yes|      no|      no|     4|       3|    4|   1|   1|     3|       6|  5|  6|  6|This is a new column|\n",
            "|    GP|  F| 17|      U|    GT3|      T|         1|   1|at_home|   other|course|  father|         1|        2|       0|       no|   yes|  no|        no|     no|   yes|     yes|      no|     5|       3|    3|   1|   1|     3|       4|  5|  5|  6|This is a new column|\n",
            "|    GP|  F| 15|      U|    LE3|      T|         1|   1|at_home|   other| other|  mother|         1|        2|       3|      yes|    no| yes|        no|    yes|   yes|     yes|      no|     4|       3|    2|   2|   3|     3|      10|  7|  8| 10|This is a new column|\n",
            "|    GP|  F| 15|      U|    GT3|      T|         4|   2| health|services|  home|  mother|         1|        3|       0|       no|   yes| yes|       yes|    yes|   yes|     yes|     yes|     3|       2|    2|   1|   1|     5|       2| 15| 14| 15|This is a new column|\n",
            "|    GP|  F| 16|      U|    GT3|      T|         3|   3|  other|   other|  home|  father|         1|        2|       0|       no|   yes| yes|        no|    yes|   yes|      no|      no|     4|       3|    2|   1|   2|     5|       4|  6| 10| 10|This is a new column|\n",
            "+------+---+---+-------+-------+-------+----------+----+-------+--------+------+--------+----------+---------+--------+---------+------+----+----------+-------+------+--------+--------+------+--------+-----+----+----+------+--------+---+---+---+--------------------+\n",
            "only showing top 5 rows\n",
            "\n"
          ]
        }
      ]
    },
    {
      "cell_type": "code",
      "source": [
        "# Return new dataframe restricting rows with null values\n",
        "dataframe.na.drop().show(5)"
      ],
      "metadata": {
        "colab": {
          "base_uri": "https://localhost:8080/"
        },
        "id": "gMRk5Rxegk2P",
        "outputId": "5add2f03-9371-4845-f445-5b646bd11916"
      },
      "execution_count": 43,
      "outputs": [
        {
          "output_type": "stream",
          "name": "stdout",
          "text": [
            "+------+---+---+-------+-------+-------+----------+----+-------+--------+------+--------+----------+---------+--------+---------+------+----+----------+-------+------+--------+--------+------+--------+-----+----+----+------+--------+---+---+---+--------------------+\n",
            "|school|sex|age|address|famsize|Pstatus|Mother_Edu|Fedu|   Mjob|    Fjob|reason|guardian|traveltime|studytime|failures|schoolsup|famsup|paid|activities|nursery|higher|internet|romantic|famrel|freetime|goout|Dalc|Walc|health|absences| G1| G2| G3|          new_column|\n",
            "+------+---+---+-------+-------+-------+----------+----+-------+--------+------+--------+----------+---------+--------+---------+------+----+----------+-------+------+--------+--------+------+--------+-----+----+----+------+--------+---+---+---+--------------------+\n",
            "|    GP|  F| 18|      U|    GT3|      A|         4|   4|at_home| teacher|course|  mother|         2|        2|       0|      yes|    no|  no|        no|    yes|   yes|      no|      no|     4|       3|    4|   1|   1|     3|       6|  5|  6|  6|This is a new column|\n",
            "|    GP|  F| 17|      U|    GT3|      T|         1|   1|at_home|   other|course|  father|         1|        2|       0|       no|   yes|  no|        no|     no|   yes|     yes|      no|     5|       3|    3|   1|   1|     3|       4|  5|  5|  6|This is a new column|\n",
            "|    GP|  F| 15|      U|    LE3|      T|         1|   1|at_home|   other| other|  mother|         1|        2|       3|      yes|    no| yes|        no|    yes|   yes|     yes|      no|     4|       3|    2|   2|   3|     3|      10|  7|  8| 10|This is a new column|\n",
            "|    GP|  F| 15|      U|    GT3|      T|         4|   2| health|services|  home|  mother|         1|        3|       0|       no|   yes| yes|       yes|    yes|   yes|     yes|     yes|     3|       2|    2|   1|   1|     5|       2| 15| 14| 15|This is a new column|\n",
            "|    GP|  F| 16|      U|    GT3|      T|         3|   3|  other|   other|  home|  father|         1|        2|       0|       no|   yes| yes|        no|    yes|   yes|      no|      no|     4|       3|    2|   1|   2|     5|       4|  6| 10| 10|This is a new column|\n",
            "+------+---+---+-------+-------+-------+----------+----+-------+--------+------+--------+----------+---------+--------+---------+------+----+----------+-------+------+--------+--------+------+--------+-----+----+----+------+--------+---+---+---+--------------------+\n",
            "only showing top 5 rows\n",
            "\n"
          ]
        }
      ]
    },
    {
      "cell_type": "code",
      "source": [
        "# Return new dataframe replacing one value with another\n",
        "dataframe.na.replace(10, 20).show(5)"
      ],
      "metadata": {
        "colab": {
          "base_uri": "https://localhost:8080/"
        },
        "id": "58MTMHE0gnMZ",
        "outputId": "fe453dd9-4a27-4197-938c-1e1ff603120e"
      },
      "execution_count": 44,
      "outputs": [
        {
          "output_type": "stream",
          "name": "stdout",
          "text": [
            "+------+---+---+-------+-------+-------+----------+----+-------+--------+------+--------+----------+---------+--------+---------+------+----+----------+-------+------+--------+--------+------+--------+-----+----+----+------+--------+---+---+---+--------------------+\n",
            "|school|sex|age|address|famsize|Pstatus|Mother_Edu|Fedu|   Mjob|    Fjob|reason|guardian|traveltime|studytime|failures|schoolsup|famsup|paid|activities|nursery|higher|internet|romantic|famrel|freetime|goout|Dalc|Walc|health|absences| G1| G2| G3|          new_column|\n",
            "+------+---+---+-------+-------+-------+----------+----+-------+--------+------+--------+----------+---------+--------+---------+------+----+----------+-------+------+--------+--------+------+--------+-----+----+----+------+--------+---+---+---+--------------------+\n",
            "|    GP|  F| 18|      U|    GT3|      A|         4|   4|at_home| teacher|course|  mother|         2|        2|       0|      yes|    no|  no|        no|    yes|   yes|      no|      no|     4|       3|    4|   1|   1|     3|       6|  5|  6|  6|This is a new column|\n",
            "|    GP|  F| 17|      U|    GT3|      T|         1|   1|at_home|   other|course|  father|         1|        2|       0|       no|   yes|  no|        no|     no|   yes|     yes|      no|     5|       3|    3|   1|   1|     3|       4|  5|  5|  6|This is a new column|\n",
            "|    GP|  F| 15|      U|    LE3|      T|         1|   1|at_home|   other| other|  mother|         1|        2|       3|      yes|    no| yes|        no|    yes|   yes|     yes|      no|     4|       3|    2|   2|   3|     3|      10|  7|  8| 10|This is a new column|\n",
            "|    GP|  F| 15|      U|    GT3|      T|         4|   2| health|services|  home|  mother|         1|        3|       0|       no|   yes| yes|       yes|    yes|   yes|     yes|     yes|     3|       2|    2|   1|   1|     5|       2| 15| 14| 15|This is a new column|\n",
            "|    GP|  F| 16|      U|    GT3|      T|         3|   3|  other|   other|  home|  father|         1|        2|       0|       no|   yes| yes|        no|    yes|   yes|      no|      no|     4|       3|    2|   1|   2|     5|       4|  6| 10| 10|This is a new column|\n",
            "+------+---+---+-------+-------+-------+----------+----+-------+--------+------+--------+----------+---------+--------+---------+------+----+----------+-------+------+--------+--------+------+--------+-----+----+----+------+--------+---+---+---+--------------------+\n",
            "only showing top 5 rows\n",
            "\n"
          ]
        }
      ]
    },
    {
      "cell_type": "markdown",
      "source": [
        "##**RUNNING SQL QUERIES PROGRAMMATICALLY**"
      ],
      "metadata": {
        "id": "uiKfi-10gx2i"
      }
    },
    {
      "cell_type": "markdown",
      "source": [
        "Registering Tables"
      ],
      "metadata": {
        "id": "aRZjUQ_ag1Ro"
      }
    },
    {
      "cell_type": "code",
      "source": [
        "# Registering a table\n",
        "dataframe.registerTempTable(\"df\")"
      ],
      "metadata": {
        "colab": {
          "base_uri": "https://localhost:8080/"
        },
        "id": "vjNXcpCrgp-7",
        "outputId": "3232b5b7-5221-4dba-8b34-6e192d158dbe"
      },
      "execution_count": 45,
      "outputs": [
        {
          "output_type": "stream",
          "name": "stderr",
          "text": [
            "/usr/local/lib/python3.7/dist-packages/pyspark/sql/dataframe.py:140: FutureWarning: Deprecated in 2.0, use createOrReplaceTempView instead.\n",
            "  FutureWarning\n"
          ]
        }
      ]
    },
    {
      "cell_type": "code",
      "source": [
        "sc.sql(\"select * from df\").show(3)"
      ],
      "metadata": {
        "colab": {
          "base_uri": "https://localhost:8080/"
        },
        "id": "ZKQZcY06hBub",
        "outputId": "d8d89e94-82e5-44bb-9f87-6f2ef61c4379"
      },
      "execution_count": 46,
      "outputs": [
        {
          "output_type": "stream",
          "name": "stdout",
          "text": [
            "+------+---+---+-------+-------+-------+----------+----+-------+-------+------+--------+----------+---------+--------+---------+------+----+----------+-------+------+--------+--------+------+--------+-----+----+----+------+--------+---+---+---+--------------------+\n",
            "|school|sex|age|address|famsize|Pstatus|Mother_Edu|Fedu|   Mjob|   Fjob|reason|guardian|traveltime|studytime|failures|schoolsup|famsup|paid|activities|nursery|higher|internet|romantic|famrel|freetime|goout|Dalc|Walc|health|absences| G1| G2| G3|          new_column|\n",
            "+------+---+---+-------+-------+-------+----------+----+-------+-------+------+--------+----------+---------+--------+---------+------+----+----------+-------+------+--------+--------+------+--------+-----+----+----+------+--------+---+---+---+--------------------+\n",
            "|    GP|  F| 18|      U|    GT3|      A|         4|   4|at_home|teacher|course|  mother|         2|        2|       0|      yes|    no|  no|        no|    yes|   yes|      no|      no|     4|       3|    4|   1|   1|     3|       6|  5|  6|  6|This is a new column|\n",
            "|    GP|  F| 17|      U|    GT3|      T|         1|   1|at_home|  other|course|  father|         1|        2|       0|       no|   yes|  no|        no|     no|   yes|     yes|      no|     5|       3|    3|   1|   1|     3|       4|  5|  5|  6|This is a new column|\n",
            "|    GP|  F| 15|      U|    LE3|      T|         1|   1|at_home|  other| other|  mother|         1|        2|       3|      yes|    no| yes|        no|    yes|   yes|     yes|      no|     4|       3|    2|   2|   3|     3|      10|  7|  8| 10|This is a new column|\n",
            "+------+---+---+-------+-------+-------+----------+----+-------+-------+------+--------+----------+---------+--------+---------+------+----+----------+-------+------+--------+--------+------+--------+-----+----+----+------+--------+---+---+---+--------------------+\n",
            "only showing top 3 rows\n",
            "\n"
          ]
        }
      ]
    }
  ]
}